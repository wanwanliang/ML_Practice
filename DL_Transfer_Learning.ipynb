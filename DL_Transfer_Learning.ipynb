{
  "nbformat": 4,
  "nbformat_minor": 0,
  "metadata": {
    "colab": {
      "name": "DL_Transfer_Learning.ipynb",
      "provenance": [],
      "collapsed_sections": [],
      "authorship_tag": "ABX9TyNUEWgF2UaKSVKfN4kddESB",
      "include_colab_link": true
    },
    "kernelspec": {
      "name": "python3",
      "display_name": "Python 3"
    }
  },
  "cells": [
    {
      "cell_type": "markdown",
      "metadata": {
        "id": "view-in-github",
        "colab_type": "text"
      },
      "source": [
        "<a href=\"https://colab.research.google.com/github/wanwanliang/ML_Projects/blob/main/DL_Transfer_Learning.ipynb\" target=\"_parent\"><img src=\"https://colab.research.google.com/assets/colab-badge.svg\" alt=\"Open In Colab\"/></a>"
      ]
    },
    {
      "cell_type": "code",
      "metadata": {
        "id": "m8KNDJFZ6o_9"
      },
      "source": [
        "import numpy as np\n",
        "import pandas as pd\n",
        "import sklearn\n",
        "import tensorflow as tf\n",
        "from tensorflow import keras\n",
        "%matplotlib inline\n",
        "import matplotlib as mpl\n",
        "import matplotlib.pyplot as plt\n",
        "import os"
      ],
      "execution_count": 3,
      "outputs": []
    },
    {
      "cell_type": "markdown",
      "metadata": {
        "id": "qDuw85kt-cZ1"
      },
      "source": [
        "## Load datasets"
      ]
    },
    {
      "cell_type": "code",
      "metadata": {
        "id": "ShgaRlzm9-oe",
        "outputId": "8376951d-cb37-4878-f905-fd06c28cdbfa",
        "colab": {
          "base_uri": "https://localhost:8080/",
          "height": 151
        }
      },
      "source": [
        "(X_train_full, y_train_full), (X_test, y_test) = keras.datasets.fashion_mnist.load_data()\n",
        "X_train_full = X_train_full/255.0\n",
        "X_test = X_test/255.0\n",
        "X_valid, X_train = X_train_full[:5000], X_train_full[5000:]\n",
        "y_valid, y_train = y_train_full[:5000], y_train_full[5000:]"
      ],
      "execution_count": 5,
      "outputs": [
        {
          "output_type": "stream",
          "text": [
            "Downloading data from https://storage.googleapis.com/tensorflow/tf-keras-datasets/train-labels-idx1-ubyte.gz\n",
            "32768/29515 [=================================] - 0s 0us/step\n",
            "Downloading data from https://storage.googleapis.com/tensorflow/tf-keras-datasets/train-images-idx3-ubyte.gz\n",
            "26427392/26421880 [==============================] - 0s 0us/step\n",
            "Downloading data from https://storage.googleapis.com/tensorflow/tf-keras-datasets/t10k-labels-idx1-ubyte.gz\n",
            "8192/5148 [===============================================] - 0s 0us/step\n",
            "Downloading data from https://storage.googleapis.com/tensorflow/tf-keras-datasets/t10k-images-idx3-ubyte.gz\n",
            "4423680/4422102 [==============================] - 0s 0us/step\n"
          ],
          "name": "stdout"
        }
      ]
    },
    {
      "cell_type": "code",
      "metadata": {
        "id": "W1c65jKe_TT5"
      },
      "source": [
        "def split_dataset(X,y):\n",
        "  y_5_or_6 = (y==5)|(y==6)\n",
        "  y_A = y[~y_5_or_6]\n",
        "  y_A[y_A>6] -= 2\n",
        "  y_B = (y[y_5_or_6]==6).astype(np.float32)\n",
        "\n",
        "  return((X[~y_5_or_6], y_A), (X[y_5_or_6], y_B))"
      ],
      "execution_count": 6,
      "outputs": []
    },
    {
      "cell_type": "code",
      "metadata": {
        "id": "bU9EFwZWAqyP"
      },
      "source": [
        "(X_train_A, y_train_A), (X_train_B, y_train_B) = split_dataset(X_train, y_train)\n",
        "(X_valid_A, y_valid_A), (X_valid_B, y_valid_B) = split_dataset(X_valid, y_valid)\n",
        "(X_test_A, y_test_A), (X_test_B, y_test_B) = split_dataset(X_test, y_test)\n",
        "X_train_B = X_train_B[:200]\n",
        "y_train_B = y_train_B[:200]"
      ],
      "execution_count": 8,
      "outputs": []
    },
    {
      "cell_type": "code",
      "metadata": {
        "id": "XyC_bOhhAk6I",
        "outputId": "fa4481dd-3aa0-4e08-96a3-bf81e461bc4d",
        "colab": {
          "base_uri": "https://localhost:8080/",
          "height": 34
        }
      },
      "source": [
        "X_train_A.shape"
      ],
      "execution_count": 9,
      "outputs": [
        {
          "output_type": "execute_result",
          "data": {
            "text/plain": [
              "(43986, 28, 28)"
            ]
          },
          "metadata": {
            "tags": []
          },
          "execution_count": 9
        }
      ]
    },
    {
      "cell_type": "code",
      "metadata": {
        "id": "VmOKwxa_Anlx",
        "outputId": "eedd5889-cfbb-47e7-edba-80c8886fa778",
        "colab": {
          "base_uri": "https://localhost:8080/",
          "height": 34
        }
      },
      "source": [
        "X_train_B.shape"
      ],
      "execution_count": 10,
      "outputs": [
        {
          "output_type": "execute_result",
          "data": {
            "text/plain": [
              "(200, 28, 28)"
            ]
          },
          "metadata": {
            "tags": []
          },
          "execution_count": 10
        }
      ]
    },
    {
      "cell_type": "code",
      "metadata": {
        "id": "j5iPVu50JqDw"
      },
      "source": [
        "tf.random.set_seed(42)\n",
        "np.random.seed(42)"
      ],
      "execution_count": 59,
      "outputs": []
    },
    {
      "cell_type": "code",
      "metadata": {
        "id": "cCIcz6HMA6t4"
      },
      "source": [
        "model_A = keras.models.Sequential()\n",
        "model_A.add(keras.layers.Flatten(input_shape=[28,28]))\n",
        "\n",
        "for n_hidden in (300, 100, 50, 50, 50):\n",
        "  model_A.add(keras.layers.Dense(n_hidden, activation='selu'))\n",
        "\n",
        "model_A.add(keras.layers.Dense(8, activation='softmax'))"
      ],
      "execution_count": 60,
      "outputs": []
    },
    {
      "cell_type": "code",
      "metadata": {
        "id": "fcrmvtbzCBwQ"
      },
      "source": [
        "model_A.compile(loss=keras.losses.sparse_categorical_crossentropy, optimizer=keras.optimizers.SGD(lr=1e-3), metrics=[keras.metrics.categorical_accuracy])"
      ],
      "execution_count": 61,
      "outputs": []
    },
    {
      "cell_type": "code",
      "metadata": {
        "id": "GvTFUnJ-CV3j",
        "outputId": "c84c3b95-e311-479e-a641-d81f1e91e366",
        "colab": {
          "base_uri": "https://localhost:8080/",
          "height": 709
        }
      },
      "source": [
        "A_history = model_A.fit(X_train_A, y_train_A, epochs=20, validation_data=(X_valid_A, y_valid_A))"
      ],
      "execution_count": 62,
      "outputs": [
        {
          "output_type": "stream",
          "text": [
            "Epoch 1/20\n",
            "1375/1375 [==============================] - 5s 3ms/step - loss: 0.5926 - categorical_accuracy: 0.1262 - val_loss: 0.3890 - val_categorical_accuracy: 0.1131\n",
            "Epoch 2/20\n",
            "1375/1375 [==============================] - 4s 3ms/step - loss: 0.3523 - categorical_accuracy: 0.1226 - val_loss: 0.3289 - val_categorical_accuracy: 0.1136\n",
            "Epoch 3/20\n",
            "1375/1375 [==============================] - 4s 3ms/step - loss: 0.3170 - categorical_accuracy: 0.1235 - val_loss: 0.3013 - val_categorical_accuracy: 0.1106\n",
            "Epoch 4/20\n",
            "1375/1375 [==============================] - 4s 3ms/step - loss: 0.2972 - categorical_accuracy: 0.1242 - val_loss: 0.2892 - val_categorical_accuracy: 0.1163\n",
            "Epoch 5/20\n",
            "1375/1375 [==============================] - 4s 3ms/step - loss: 0.2834 - categorical_accuracy: 0.1242 - val_loss: 0.2774 - val_categorical_accuracy: 0.1156\n",
            "Epoch 6/20\n",
            "1375/1375 [==============================] - 4s 3ms/step - loss: 0.2729 - categorical_accuracy: 0.1243 - val_loss: 0.2733 - val_categorical_accuracy: 0.1156\n",
            "Epoch 7/20\n",
            "1375/1375 [==============================] - 4s 3ms/step - loss: 0.2641 - categorical_accuracy: 0.1246 - val_loss: 0.2720 - val_categorical_accuracy: 0.1014\n",
            "Epoch 8/20\n",
            "1375/1375 [==============================] - 4s 3ms/step - loss: 0.2572 - categorical_accuracy: 0.1243 - val_loss: 0.2589 - val_categorical_accuracy: 0.1176\n",
            "Epoch 9/20\n",
            "1375/1375 [==============================] - 5s 3ms/step - loss: 0.2518 - categorical_accuracy: 0.1246 - val_loss: 0.2562 - val_categorical_accuracy: 0.1156\n",
            "Epoch 10/20\n",
            "1375/1375 [==============================] - 4s 3ms/step - loss: 0.2468 - categorical_accuracy: 0.1244 - val_loss: 0.2540 - val_categorical_accuracy: 0.1188\n",
            "Epoch 11/20\n",
            "1375/1375 [==============================] - 4s 3ms/step - loss: 0.2422 - categorical_accuracy: 0.1244 - val_loss: 0.2494 - val_categorical_accuracy: 0.1161\n",
            "Epoch 12/20\n",
            "1375/1375 [==============================] - 4s 3ms/step - loss: 0.2382 - categorical_accuracy: 0.1247 - val_loss: 0.2511 - val_categorical_accuracy: 0.1096\n",
            "Epoch 13/20\n",
            "1375/1375 [==============================] - 4s 3ms/step - loss: 0.2350 - categorical_accuracy: 0.1245 - val_loss: 0.2446 - val_categorical_accuracy: 0.1158\n",
            "Epoch 14/20\n",
            "1375/1375 [==============================] - 4s 3ms/step - loss: 0.2315 - categorical_accuracy: 0.1243 - val_loss: 0.2413 - val_categorical_accuracy: 0.1178\n",
            "Epoch 15/20\n",
            "1375/1375 [==============================] - 4s 3ms/step - loss: 0.2287 - categorical_accuracy: 0.1246 - val_loss: 0.2446 - val_categorical_accuracy: 0.1069\n",
            "Epoch 16/20\n",
            "1375/1375 [==============================] - 4s 3ms/step - loss: 0.2254 - categorical_accuracy: 0.1243 - val_loss: 0.2386 - val_categorical_accuracy: 0.1211\n",
            "Epoch 17/20\n",
            "1375/1375 [==============================] - 4s 3ms/step - loss: 0.2230 - categorical_accuracy: 0.1248 - val_loss: 0.2405 - val_categorical_accuracy: 0.1176\n",
            "Epoch 18/20\n",
            "1375/1375 [==============================] - 4s 3ms/step - loss: 0.2201 - categorical_accuracy: 0.1249 - val_loss: 0.2429 - val_categorical_accuracy: 0.1151\n",
            "Epoch 19/20\n",
            "1375/1375 [==============================] - 4s 3ms/step - loss: 0.2178 - categorical_accuracy: 0.1243 - val_loss: 0.2328 - val_categorical_accuracy: 0.1136\n",
            "Epoch 20/20\n",
            "1375/1375 [==============================] - 4s 3ms/step - loss: 0.2156 - categorical_accuracy: 0.1245 - val_loss: 0.2332 - val_categorical_accuracy: 0.1181\n"
          ],
          "name": "stdout"
        }
      ]
    },
    {
      "cell_type": "code",
      "metadata": {
        "id": "DwAkKYQ_CzzT"
      },
      "source": [
        "model_A.save('model_A.h5')"
      ],
      "execution_count": 63,
      "outputs": []
    },
    {
      "cell_type": "code",
      "metadata": {
        "id": "FShQR-fqC7_S"
      },
      "source": [
        "model_B = keras.models.Sequential()\n",
        "model_B.add(keras.layers.Flatten(input_shape=[28,28]))\n",
        "for n_hidden in (300, 100, 50, 50, 50):\n",
        "  model_B.add(keras.layers.Dense(n_hidden, activation='selu'))\n",
        "model_B.add(keras.layers.Dense(1, activation='sigmoid'))"
      ],
      "execution_count": 64,
      "outputs": []
    },
    {
      "cell_type": "code",
      "metadata": {
        "id": "3OW52MdlDhh9"
      },
      "source": [
        "model_B.compile(loss=keras.losses.binary_crossentropy, optimizer=keras.optimizers.SGD(lr=1e-3), metrics=['accuracy'])"
      ],
      "execution_count": 65,
      "outputs": []
    },
    {
      "cell_type": "code",
      "metadata": {
        "id": "EMqW9enwDzv1",
        "outputId": "424ce9fd-e5ca-4afe-fa64-a7fda4627efd",
        "colab": {
          "base_uri": "https://localhost:8080/",
          "height": 689
        }
      },
      "source": [
        "B_history = model_B.fit(X_train_B, y_train_B, epochs=20, validation_data=(X_valid_B, y_valid_B))"
      ],
      "execution_count": 66,
      "outputs": [
        {
          "output_type": "stream",
          "text": [
            "Epoch 1/20\n",
            "7/7 [==============================] - 0s 33ms/step - loss: 0.9573 - accuracy: 0.4650 - val_loss: 0.6314 - val_accuracy: 0.6004\n",
            "Epoch 2/20\n",
            "7/7 [==============================] - 0s 13ms/step - loss: 0.5692 - accuracy: 0.7450 - val_loss: 0.4784 - val_accuracy: 0.8529\n",
            "Epoch 3/20\n",
            "7/7 [==============================] - 0s 13ms/step - loss: 0.4503 - accuracy: 0.8650 - val_loss: 0.4102 - val_accuracy: 0.8945\n",
            "Epoch 4/20\n",
            "7/7 [==============================] - 0s 13ms/step - loss: 0.3879 - accuracy: 0.8950 - val_loss: 0.3647 - val_accuracy: 0.9178\n",
            "Epoch 5/20\n",
            "7/7 [==============================] - 0s 13ms/step - loss: 0.3435 - accuracy: 0.9250 - val_loss: 0.3300 - val_accuracy: 0.9320\n",
            "Epoch 6/20\n",
            "7/7 [==============================] - 0s 12ms/step - loss: 0.3081 - accuracy: 0.9300 - val_loss: 0.3019 - val_accuracy: 0.9402\n",
            "Epoch 7/20\n",
            "7/7 [==============================] - 0s 12ms/step - loss: 0.2800 - accuracy: 0.9350 - val_loss: 0.2804 - val_accuracy: 0.9422\n",
            "Epoch 8/20\n",
            "7/7 [==============================] - 0s 11ms/step - loss: 0.2564 - accuracy: 0.9450 - val_loss: 0.2606 - val_accuracy: 0.9473\n",
            "Epoch 9/20\n",
            "7/7 [==============================] - 0s 11ms/step - loss: 0.2362 - accuracy: 0.9550 - val_loss: 0.2428 - val_accuracy: 0.9523\n",
            "Epoch 10/20\n",
            "7/7 [==============================] - 0s 11ms/step - loss: 0.2188 - accuracy: 0.9600 - val_loss: 0.2281 - val_accuracy: 0.9544\n",
            "Epoch 11/20\n",
            "7/7 [==============================] - 0s 12ms/step - loss: 0.2036 - accuracy: 0.9700 - val_loss: 0.2150 - val_accuracy: 0.9584\n",
            "Epoch 12/20\n",
            "7/7 [==============================] - 0s 12ms/step - loss: 0.1898 - accuracy: 0.9700 - val_loss: 0.2036 - val_accuracy: 0.9584\n",
            "Epoch 13/20\n",
            "7/7 [==============================] - 0s 10ms/step - loss: 0.1773 - accuracy: 0.9750 - val_loss: 0.1931 - val_accuracy: 0.9615\n",
            "Epoch 14/20\n",
            "7/7 [==============================] - 0s 12ms/step - loss: 0.1668 - accuracy: 0.9800 - val_loss: 0.1838 - val_accuracy: 0.9635\n",
            "Epoch 15/20\n",
            "7/7 [==============================] - 0s 11ms/step - loss: 0.1570 - accuracy: 0.9900 - val_loss: 0.1746 - val_accuracy: 0.9686\n",
            "Epoch 16/20\n",
            "7/7 [==============================] - 0s 11ms/step - loss: 0.1481 - accuracy: 0.9900 - val_loss: 0.1674 - val_accuracy: 0.9686\n",
            "Epoch 17/20\n",
            "7/7 [==============================] - 0s 11ms/step - loss: 0.1406 - accuracy: 0.9900 - val_loss: 0.1604 - val_accuracy: 0.9706\n",
            "Epoch 18/20\n",
            "7/7 [==============================] - 0s 11ms/step - loss: 0.1334 - accuracy: 0.9900 - val_loss: 0.1539 - val_accuracy: 0.9706\n",
            "Epoch 19/20\n",
            "7/7 [==============================] - 0s 12ms/step - loss: 0.1268 - accuracy: 0.9900 - val_loss: 0.1482 - val_accuracy: 0.9716\n",
            "Epoch 20/20\n",
            "7/7 [==============================] - 0s 12ms/step - loss: 0.1208 - accuracy: 0.9900 - val_loss: 0.1431 - val_accuracy: 0.9716\n"
          ],
          "name": "stdout"
        }
      ]
    },
    {
      "cell_type": "code",
      "metadata": {
        "id": "ypiWOmnEFaMs",
        "outputId": "0abf0c81-ba1c-45e0-ca6e-6dba71a10a1e",
        "colab": {
          "base_uri": "https://localhost:8080/",
          "height": 386
        }
      },
      "source": [
        "model_A.summary()"
      ],
      "execution_count": 67,
      "outputs": [
        {
          "output_type": "stream",
          "text": [
            "Model: \"sequential_5\"\n",
            "_________________________________________________________________\n",
            "Layer (type)                 Output Shape              Param #   \n",
            "=================================================================\n",
            "flatten_2 (Flatten)          (None, 784)               0         \n",
            "_________________________________________________________________\n",
            "dense_14 (Dense)             (None, 300)               235500    \n",
            "_________________________________________________________________\n",
            "dense_15 (Dense)             (None, 100)               30100     \n",
            "_________________________________________________________________\n",
            "dense_16 (Dense)             (None, 50)                5050      \n",
            "_________________________________________________________________\n",
            "dense_17 (Dense)             (None, 50)                2550      \n",
            "_________________________________________________________________\n",
            "dense_18 (Dense)             (None, 50)                2550      \n",
            "_________________________________________________________________\n",
            "dense_19 (Dense)             (None, 8)                 408       \n",
            "=================================================================\n",
            "Total params: 276,158\n",
            "Trainable params: 276,158\n",
            "Non-trainable params: 0\n",
            "_________________________________________________________________\n"
          ],
          "name": "stdout"
        }
      ]
    },
    {
      "cell_type": "code",
      "metadata": {
        "id": "rvjCsqXgFvEy",
        "outputId": "a5492feb-566c-4c6b-92be-239dc565d9dd",
        "colab": {
          "base_uri": "https://localhost:8080/",
          "height": 386
        }
      },
      "source": [
        "model_B.summary()"
      ],
      "execution_count": 68,
      "outputs": [
        {
          "output_type": "stream",
          "text": [
            "Model: \"sequential_6\"\n",
            "_________________________________________________________________\n",
            "Layer (type)                 Output Shape              Param #   \n",
            "=================================================================\n",
            "flatten_3 (Flatten)          (None, 784)               0         \n",
            "_________________________________________________________________\n",
            "dense_20 (Dense)             (None, 300)               235500    \n",
            "_________________________________________________________________\n",
            "dense_21 (Dense)             (None, 100)               30100     \n",
            "_________________________________________________________________\n",
            "dense_22 (Dense)             (None, 50)                5050      \n",
            "_________________________________________________________________\n",
            "dense_23 (Dense)             (None, 50)                2550      \n",
            "_________________________________________________________________\n",
            "dense_24 (Dense)             (None, 50)                2550      \n",
            "_________________________________________________________________\n",
            "dense_25 (Dense)             (None, 1)                 51        \n",
            "=================================================================\n",
            "Total params: 275,801\n",
            "Trainable params: 275,801\n",
            "Non-trainable params: 0\n",
            "_________________________________________________________________\n"
          ],
          "name": "stdout"
        }
      ]
    },
    {
      "cell_type": "code",
      "metadata": {
        "id": "XVddic-5F4kr"
      },
      "source": [
        "model_A = keras.models.load_model('model_A.h5')\n",
        "model_A_clone = keras.models.clone_model(model_A) \n",
        "model_A_clone.set_weights(model_A.get_weights())"
      ],
      "execution_count": 69,
      "outputs": []
    },
    {
      "cell_type": "code",
      "metadata": {
        "id": "Xf9yrrsCGI4G",
        "outputId": "736f2f72-1fd0-429f-b7ad-3f11a1962939",
        "colab": {
          "base_uri": "https://localhost:8080/",
          "height": 151
        }
      },
      "source": [
        "print(len(model_A.layers))\n",
        "model_A.layers"
      ],
      "execution_count": 70,
      "outputs": [
        {
          "output_type": "stream",
          "text": [
            "7\n"
          ],
          "name": "stdout"
        },
        {
          "output_type": "execute_result",
          "data": {
            "text/plain": [
              "[<tensorflow.python.keras.layers.core.Flatten at 0x7f476624d080>,\n",
              " <tensorflow.python.keras.layers.core.Dense at 0x7f476624d9b0>,\n",
              " <tensorflow.python.keras.layers.core.Dense at 0x7f4766281cc0>,\n",
              " <tensorflow.python.keras.layers.core.Dense at 0x7f47662815f8>,\n",
              " <tensorflow.python.keras.layers.core.Dense at 0x7f4767fc0780>,\n",
              " <tensorflow.python.keras.layers.core.Dense at 0x7f476800b7f0>,\n",
              " <tensorflow.python.keras.layers.core.Dense at 0x7f476800b048>]"
            ]
          },
          "metadata": {
            "tags": []
          },
          "execution_count": 70
        }
      ]
    },
    {
      "cell_type": "code",
      "metadata": {
        "id": "Vff9UtoUGLh6",
        "outputId": "1ce31690-1484-4956-83d5-1f6d848844d1",
        "colab": {
          "base_uri": "https://localhost:8080/",
          "height": 386
        }
      },
      "source": [
        "transfer_model = keras.models.Sequential(model_A.layers[:-1])\n",
        "transfer_model.add(keras.layers.Dense(1, activation='sigmoid'))\n",
        "transfer_model.summary()"
      ],
      "execution_count": 71,
      "outputs": [
        {
          "output_type": "stream",
          "text": [
            "Model: \"sequential_7\"\n",
            "_________________________________________________________________\n",
            "Layer (type)                 Output Shape              Param #   \n",
            "=================================================================\n",
            "flatten_2 (Flatten)          (None, 784)               0         \n",
            "_________________________________________________________________\n",
            "dense_14 (Dense)             (None, 300)               235500    \n",
            "_________________________________________________________________\n",
            "dense_15 (Dense)             (None, 100)               30100     \n",
            "_________________________________________________________________\n",
            "dense_16 (Dense)             (None, 50)                5050      \n",
            "_________________________________________________________________\n",
            "dense_17 (Dense)             (None, 50)                2550      \n",
            "_________________________________________________________________\n",
            "dense_18 (Dense)             (None, 50)                2550      \n",
            "_________________________________________________________________\n",
            "dense_26 (Dense)             (None, 1)                 51        \n",
            "=================================================================\n",
            "Total params: 275,801\n",
            "Trainable params: 275,801\n",
            "Non-trainable params: 0\n",
            "_________________________________________________________________\n"
          ],
          "name": "stdout"
        }
      ]
    },
    {
      "cell_type": "code",
      "metadata": {
        "id": "8Dmlz-NpGZfX"
      },
      "source": [
        "for layer in transfer_model.layers[:-1]:\n",
        "  layer.trainable = False\n",
        "\n",
        "transfer_model.compile(loss='binary_crossentropy', optimizer=keras.optimizers.SGD(lr=1e-3), metrics=['accuracy'])"
      ],
      "execution_count": 72,
      "outputs": []
    },
    {
      "cell_type": "code",
      "metadata": {
        "id": "03SeHl60HEdt",
        "outputId": "a7daeae1-19ee-446f-ea67-40ff1c008b27",
        "colab": {
          "base_uri": "https://localhost:8080/",
          "height": 151
        }
      },
      "source": [
        "tm_history = transfer_model.fit(X_train_B, y_train_B, epochs=4, validation_data=(X_valid_B, y_valid_B))"
      ],
      "execution_count": 73,
      "outputs": [
        {
          "output_type": "stream",
          "text": [
            "Epoch 1/4\n",
            "7/7 [==============================] - 0s 28ms/step - loss: 0.4481 - accuracy: 0.8350 - val_loss: 0.4436 - val_accuracy: 0.8174\n",
            "Epoch 2/4\n",
            "7/7 [==============================] - 0s 10ms/step - loss: 0.4157 - accuracy: 0.8500 - val_loss: 0.4145 - val_accuracy: 0.8306\n",
            "Epoch 3/4\n",
            "7/7 [==============================] - 0s 11ms/step - loss: 0.3870 - accuracy: 0.8600 - val_loss: 0.3880 - val_accuracy: 0.8458\n",
            "Epoch 4/4\n",
            "7/7 [==============================] - 0s 11ms/step - loss: 0.3610 - accuracy: 0.8700 - val_loss: 0.3650 - val_accuracy: 0.8529\n"
          ],
          "name": "stdout"
        }
      ]
    },
    {
      "cell_type": "code",
      "metadata": {
        "id": "fdV5FAcBHM--"
      },
      "source": [
        "for layer in transfer_model.layers[:-1]:\n",
        "  layer.trainable=True\n",
        "transfer_model.compile(loss='binary_crossentropy', optimizer=keras.optimizers.SGD(lr=1e-3), metrics=['accuracy'])"
      ],
      "execution_count": 74,
      "outputs": []
    },
    {
      "cell_type": "code",
      "metadata": {
        "id": "ygfJBFRhH1pd",
        "outputId": "50fc7032-938c-4607-bc1f-03a84a33ff69",
        "colab": {
          "base_uri": "https://localhost:8080/",
          "height": 554
        }
      },
      "source": [
        "tm_history = transfer_model.fit(X_train_B, y_train_B, epochs=16, validation_data=(X_valid_B, y_valid_B))"
      ],
      "execution_count": 75,
      "outputs": [
        {
          "output_type": "stream",
          "text": [
            "Epoch 1/16\n",
            "7/7 [==============================] - 0s 30ms/step - loss: 0.2943 - accuracy: 0.9250 - val_loss: 0.2487 - val_accuracy: 0.9523\n",
            "Epoch 2/16\n",
            "7/7 [==============================] - 0s 11ms/step - loss: 0.2061 - accuracy: 0.9850 - val_loss: 0.1968 - val_accuracy: 0.9797\n",
            "Epoch 3/16\n",
            "7/7 [==============================] - 0s 10ms/step - loss: 0.1635 - accuracy: 0.9900 - val_loss: 0.1655 - val_accuracy: 0.9899\n",
            "Epoch 4/16\n",
            "7/7 [==============================] - 0s 11ms/step - loss: 0.1360 - accuracy: 1.0000 - val_loss: 0.1452 - val_accuracy: 0.9919\n",
            "Epoch 5/16\n",
            "7/7 [==============================] - 0s 11ms/step - loss: 0.1183 - accuracy: 1.0000 - val_loss: 0.1302 - val_accuracy: 0.9929\n",
            "Epoch 6/16\n",
            "7/7 [==============================] - 0s 13ms/step - loss: 0.1046 - accuracy: 1.0000 - val_loss: 0.1188 - val_accuracy: 0.9919\n",
            "Epoch 7/16\n",
            "7/7 [==============================] - 0s 11ms/step - loss: 0.0944 - accuracy: 1.0000 - val_loss: 0.1098 - val_accuracy: 0.9919\n",
            "Epoch 8/16\n",
            "7/7 [==============================] - 0s 14ms/step - loss: 0.0860 - accuracy: 1.0000 - val_loss: 0.1020 - val_accuracy: 0.9919\n",
            "Epoch 9/16\n",
            "7/7 [==============================] - 0s 12ms/step - loss: 0.0788 - accuracy: 1.0000 - val_loss: 0.0955 - val_accuracy: 0.9919\n",
            "Epoch 10/16\n",
            "7/7 [==============================] - 0s 11ms/step - loss: 0.0728 - accuracy: 1.0000 - val_loss: 0.0901 - val_accuracy: 0.9919\n",
            "Epoch 11/16\n",
            "7/7 [==============================] - 0s 11ms/step - loss: 0.0678 - accuracy: 1.0000 - val_loss: 0.0853 - val_accuracy: 0.9919\n",
            "Epoch 12/16\n",
            "7/7 [==============================] - 0s 11ms/step - loss: 0.0633 - accuracy: 1.0000 - val_loss: 0.0810 - val_accuracy: 0.9919\n",
            "Epoch 13/16\n",
            "7/7 [==============================] - 0s 11ms/step - loss: 0.0593 - accuracy: 1.0000 - val_loss: 0.0772 - val_accuracy: 0.9919\n",
            "Epoch 14/16\n",
            "7/7 [==============================] - 0s 11ms/step - loss: 0.0557 - accuracy: 1.0000 - val_loss: 0.0740 - val_accuracy: 0.9919\n",
            "Epoch 15/16\n",
            "7/7 [==============================] - 0s 12ms/step - loss: 0.0527 - accuracy: 1.0000 - val_loss: 0.0711 - val_accuracy: 0.9919\n",
            "Epoch 16/16\n",
            "7/7 [==============================] - 0s 13ms/step - loss: 0.0500 - accuracy: 1.0000 - val_loss: 0.0684 - val_accuracy: 0.9919\n"
          ],
          "name": "stdout"
        }
      ]
    },
    {
      "cell_type": "code",
      "metadata": {
        "id": "5JhsjojtID78",
        "outputId": "efad3ba5-fac2-479b-a285-5176c1417b8a",
        "colab": {
          "base_uri": "https://localhost:8080/",
          "height": 50
        }
      },
      "source": [
        "transfer_model.evaluate(X_test_B, y_test_B)"
      ],
      "execution_count": 76,
      "outputs": [
        {
          "output_type": "stream",
          "text": [
            "63/63 [==============================] - 0s 2ms/step - loss: 0.0635 - accuracy: 0.9980\n"
          ],
          "name": "stdout"
        },
        {
          "output_type": "execute_result",
          "data": {
            "text/plain": [
              "[0.06347920745611191, 0.9980000257492065]"
            ]
          },
          "metadata": {
            "tags": []
          },
          "execution_count": 76
        }
      ]
    },
    {
      "cell_type": "code",
      "metadata": {
        "id": "akZRYQ-eJScs",
        "outputId": "fa2e209b-6c06-4578-dfaa-5c8297a42888",
        "colab": {
          "base_uri": "https://localhost:8080/",
          "height": 50
        }
      },
      "source": [
        "model_B.evaluate(X_test_B, y_test_B)"
      ],
      "execution_count": 77,
      "outputs": [
        {
          "output_type": "stream",
          "text": [
            "63/63 [==============================] - 0s 2ms/step - loss: 0.1408 - accuracy: 0.9705\n"
          ],
          "name": "stdout"
        },
        {
          "output_type": "execute_result",
          "data": {
            "text/plain": [
              "[0.14084088802337646, 0.9704999923706055]"
            ]
          },
          "metadata": {
            "tags": []
          },
          "execution_count": 77
        }
      ]
    },
    {
      "cell_type": "code",
      "metadata": {
        "id": "GkRDOFLpJWzj"
      },
      "source": [
        ""
      ],
      "execution_count": null,
      "outputs": []
    }
  ]
}