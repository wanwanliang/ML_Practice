{
  "nbformat": 4,
  "nbformat_minor": 0,
  "metadata": {
    "colab": {
      "name": "Neural network intro.ipynb",
      "provenance": [],
      "collapsed_sections": [],
      "authorship_tag": "ABX9TyPv5KfnxIykDImwT9dekZrs",
      "include_colab_link": true
    },
    "kernelspec": {
      "name": "python3",
      "display_name": "Python 3"
    }
  },
  "cells": [
    {
      "cell_type": "markdown",
      "metadata": {
        "id": "view-in-github",
        "colab_type": "text"
      },
      "source": [
        "<a href=\"https://colab.research.google.com/github/wanwanliang/ML_Projects/blob/main/Neural_network_intro.ipynb\" target=\"_parent\"><img src=\"https://colab.research.google.com/assets/colab-badge.svg\" alt=\"Open In Colab\"/></a>"
      ]
    },
    {
      "cell_type": "code",
      "metadata": {
        "id": "ISdxiezN9lnN"
      },
      "source": [
        "import sys\n",
        "assert sys.version_info >= (3, 5)\n",
        "import sklearn\n",
        "assert sklearn.__version__ >= '0.20'\n",
        "import os\n",
        "import numpy as np\n",
        "import tensorflow as tf\n",
        "import seaborn as sns\n",
        "%matplotlib inline\n",
        "import matplotlib as mpl\n",
        "import matplotlib.pyplot as plt\n",
        "import pandas as pd"
      ],
      "execution_count": 28,
      "outputs": []
    },
    {
      "cell_type": "code",
      "metadata": {
        "id": "J0ZnZGXL_BQw",
        "outputId": "7d5562e0-e1de-4689-c124-85a655808a19",
        "colab": {
          "base_uri": "https://localhost:8080/"
        }
      },
      "source": [
        "from sklearn.datasets import load_iris\n",
        "from sklearn.linear_model import Perceptron\n",
        "\n",
        "iris = load_iris()\n",
        "X = iris.data[:,(2,3)]\n",
        "y = (iris.target == 0).astype(np.int)\n",
        "\n",
        "per_clf = Perceptron(max_iter = 1000, tol=1e-3, random_state=42)\n",
        "per_clf.fit(X,y)"
      ],
      "execution_count": 2,
      "outputs": [
        {
          "output_type": "execute_result",
          "data": {
            "text/plain": [
              "Perceptron(alpha=0.0001, class_weight=None, early_stopping=False, eta0=1.0,\n",
              "           fit_intercept=True, max_iter=1000, n_iter_no_change=5, n_jobs=None,\n",
              "           penalty=None, random_state=42, shuffle=True, tol=0.001,\n",
              "           validation_fraction=0.1, verbose=0, warm_start=False)"
            ]
          },
          "metadata": {
            "tags": []
          },
          "execution_count": 2
        }
      ]
    },
    {
      "cell_type": "code",
      "metadata": {
        "id": "PzkNXFWwckNb",
        "outputId": "0fb02191-efa6-4706-c9c4-8da82ff1c462",
        "colab": {
          "base_uri": "https://localhost:8080/",
          "height": 287
        }
      },
      "source": [
        "a = -per_clf.coef_[0][0] / per_clf.coef_[0][1]\n",
        "b = -per_clf.intercept_ / per_clf.coef_[0][1]\n",
        "\n",
        "axes = [0, 5, 0, 2]\n",
        "\n",
        "x0, x1 = np.meshgrid(\n",
        "        np.linspace(axes[0], axes[1], 500).reshape(-1, 1),\n",
        "        np.linspace(axes[2], axes[3], 200).reshape(-1, 1),\n",
        "    )\n",
        "X_new = np.c_[x0.ravel(), x1.ravel()]\n",
        "y_predict = per_clf.predict(X_new)\n",
        "zz = y_predict.reshape(x0.shape)\n",
        "\n",
        "plt.figure(figsize=(10,4))\n",
        "plt.plot(X[y==0,0], X[y==0,1], 'bs', label='Not Iris-Setosa')\n",
        "plt.plot(X[y==1,0], X[y==1,1], 'yo', label='Iris-Setosa')\n",
        "\n",
        "plt.plot([axes[0], axes[1]], [a * axes[0] + b, a * axes[1] + b], \"k-\", linewidth=3)\n",
        "from matplotlib.colors import ListedColormap\n",
        "custom_cmap = ListedColormap(['#9898ff','#fafab0'])\n",
        "\n",
        "plt.contourf(x0, x1, zz, cmap=custom_cmap)\n",
        "plt.xlabel(\"Petal length\", fontsize=14)\n",
        "plt.ylabel(\"Petal width\", fontsize=14)\n",
        "plt.legend(loc='lower right', fontsize=14)\n",
        "plt.axis(axes)\n",
        "plt.show()"
      ],
      "execution_count": 3,
      "outputs": [
        {
          "output_type": "display_data",
          "data": {
            "image/png": "[encoded data removed]",
            "text/plain": [
              "<Figure size 720x288 with 1 Axes>"
            ]
          },
          "metadata": {
            "tags": [],
            "needs_background": "light"
          }
        }
      ]
    },
    {
      "cell_type": "markdown",
      "metadata": {
        "id": "jr_KY9sahFOI"
      },
      "source": [
        "## Activation functions"
      ]
    },
    {
      "cell_type": "code",
      "metadata": {
        "id": "8sPg42ReiMb5"
      },
      "source": [
        "def sigmoid(z):\n",
        "  return 1/(1 + np.exp(-z))\n",
        "\n",
        "def relu(z):\n",
        "  return np.maximum(0,z)\n",
        "\n",
        "def tanh(z):\n",
        "  return(np.tanh(z))\n",
        "\n",
        "def step(z):\n",
        "  return(np.sign(z))\n",
        "\n",
        "\n",
        "def derivative(f, z, eps=0.000001):\n",
        "  return (f(z+eps)-f(z-eps))/(2*eps)"
      ],
      "execution_count": 8,
      "outputs": []
    },
    {
      "cell_type": "code",
      "metadata": {
        "id": "DG1irEliiyU9",
        "outputId": "66302d2d-90c2-4070-b7f0-b1e26def2205",
        "colab": {
          "base_uri": "https://localhost:8080/",
          "height": 326
        }
      },
      "source": [
        "x = np.linspace(-5, 5, 500)\n",
        "sig = sigmoid(x)\n",
        "rel = relu(x)\n",
        "tan = tanh(x)\n",
        "sig2 = sign(x)\n",
        "\n",
        "sig_der = derivative(sigmoid, x, eps=0.000001)\n",
        "rel_der = derivative(relu, x, eps=1e-6)\n",
        "tan_der = derivative(tanh, x, eps=1e-6)\n",
        "sig2_der = derivative(step, x, eps=1e-6)\n",
        "\n",
        "plt.figure(figsize=(15,5))\n",
        "plt.subplot(121)\n",
        "plt.grid('True')\n",
        "plt.gca().spines['right'].set_color('none')\n",
        "plt.gca().spines['top'].set_color('none')\n",
        "plt.plot(x, sig, 'r-', label=\"Sigmoid\")\n",
        "plt.plot(x, rel, 'b--', label=\"Relu\")\n",
        "plt.plot(x, tan,'g-', label=\"Tanh\")\n",
        "plt.plot(x, sig2,\"m-.\" ,label=\"Sign\")\n",
        "plt.legend(loc=\"center right\", fontsize=12)\n",
        "plt.axis([-5,5,-1.2,1.5])\n",
        "\n",
        "\n",
        "plt.subplot(122)\n",
        "plt.grid('True')\n",
        "plt.gca().spines['right'].set_color('none')\n",
        "plt.gca().spines['top'].set_color('none')\n",
        "plt.plot(x, sig_der, 'r-', label=\"Sigmoid\")\n",
        "plt.plot(x, rel_der, 'b--', label=\"Relu\")\n",
        "plt.plot(x, tan_der,'g-', label=\"Tanh\")\n",
        "plt.plot(x, sig2_der,\"m-.\" ,label=\"Sign\")\n",
        "plt.legend(loc=\"center right\", fontsize=12)\n",
        "plt.axis([-5,5,-0.2,1.2])\n"
      ],
      "execution_count": 9,
      "outputs": [
        {
          "output_type": "execute_result",
          "data": {
            "text/plain": [
              "(-5.0, 5.0, -0.2, 1.2)"
            ]
          },
          "metadata": {
            "tags": []
          },
          "execution_count": 9
        },
        {
          "output_type": "display_data",
          "data": {
            "image/png": "[encoded data removed]",
            "text/plain": [
              "<Figure size 1080x360 with 2 Axes>"
            ]
          },
          "metadata": {
            "tags": [],
            "needs_background": "light"
          }
        }
      ]
    },
    {
      "cell_type": "markdown",
      "metadata": {
        "id": "bTA6IAtGZ_n4"
      },
      "source": [
        "## MLP - Classification"
      ]
    },
    {
      "cell_type": "code",
      "metadata": {
        "id": "Bhkz9Vdq2iYx"
      },
      "source": [
        "import tensorflow as tf\n",
        "from tensorflow import keras"
      ],
      "execution_count": 12,
      "outputs": []
    },
    {
      "cell_type": "code",
      "metadata": {
        "id": "tI5WSgNl2o_4",
        "outputId": "e4757a2f-d1b7-4294-d88b-cf53a40a2c15",
        "colab": {
          "base_uri": "https://localhost:8080/"
        }
      },
      "source": [
        "print('TF version:',tf.__version__)\n",
        "print('Keras version:', keras.__version__)"
      ],
      "execution_count": 15,
      "outputs": [
        {
          "output_type": "stream",
          "text": [
            "TF version: 2.3.0\n",
            "Keras version: 2.4.0\n"
          ],
          "name": "stdout"
        }
      ]
    },
    {
      "cell_type": "code",
      "metadata": {
        "id": "TTPZA0Ms2w7g",
        "outputId": "973fcdc5-37f8-49b8-b8eb-b2c644b75bc4",
        "colab": {
          "base_uri": "https://localhost:8080/"
        }
      },
      "source": [
        "fashion_mnist = keras.datasets.fashion_mnist\n",
        "(X_train_full, y_train_full), (X_test, y_test) = fashion_mnist.load_data()"
      ],
      "execution_count": 17,
      "outputs": [
        {
          "output_type": "stream",
          "text": [
            "Downloading data from https://storage.googleapis.com/tensorflow/tf-keras-datasets/train-labels-idx1-ubyte.gz\n",
            "32768/29515 [=================================] - 0s 0us/step\n",
            "Downloading data from https://storage.googleapis.com/tensorflow/tf-keras-datasets/train-images-idx3-ubyte.gz\n",
            "26427392/26421880 [==============================] - 0s 0us/step\n",
            "Downloading data from https://storage.googleapis.com/tensorflow/tf-keras-datasets/t10k-labels-idx1-ubyte.gz\n",
            "8192/5148 [===============================================] - 0s 0us/step\n",
            "Downloading data from https://storage.googleapis.com/tensorflow/tf-keras-datasets/t10k-images-idx3-ubyte.gz\n",
            "4423680/4422102 [==============================] - 0s 0us/step\n"
          ],
          "name": "stdout"
        }
      ]
    },
    {
      "cell_type": "code",
      "metadata": {
        "id": "st-cG95T7AEc",
        "outputId": "104f6c45-9b77-4428-d4d0-3c99eee43a0d",
        "colab": {
          "base_uri": "https://localhost:8080/"
        }
      },
      "source": [
        "X_train_full.shape"
      ],
      "execution_count": 19,
      "outputs": [
        {
          "output_type": "execute_result",
          "data": {
            "text/plain": [
              "(60000, 28, 28)"
            ]
          },
          "metadata": {
            "tags": []
          },
          "execution_count": 19
        }
      ]
    },
    {
      "cell_type": "code",
      "metadata": {
        "id": "uYJPv2yB7gOh",
        "outputId": "c673d6b8-3413-4c36-add1-5ba9e620ff85",
        "colab": {
          "base_uri": "https://localhost:8080/"
        }
      },
      "source": [
        "X_train_full.dtype"
      ],
      "execution_count": 20,
      "outputs": [
        {
          "output_type": "execute_result",
          "data": {
            "text/plain": [
              "dtype('uint8')"
            ]
          },
          "metadata": {
            "tags": []
          },
          "execution_count": 20
        }
      ]
    },
    {
      "cell_type": "code",
      "metadata": {
        "id": "bweQj7dq8oR0"
      },
      "source": [
        "X_valid, X_train = X_train_full[:5000]/255., X_train_full[5000:]/255.\n",
        "y_valid, y_train = y_train_full[:5000], y_train_full[5000:]\n",
        "X_test = X_test/255."
      ],
      "execution_count": 21,
      "outputs": []
    },
    {
      "cell_type": "code",
      "metadata": {
        "id": "Lq8uCw20DYNS",
        "outputId": "04742c15-75b9-4cbd-b99a-f033bcf9deca",
        "colab": {
          "base_uri": "https://localhost:8080/",
          "height": 248
        }
      },
      "source": [
        "plt.imshow(X_train[1], cmap='binary')\n",
        "plt.axis('off')\n",
        "plt.show()"
      ],
      "execution_count": 24,
      "outputs": [
        {
          "output_type": "display_data",
          "data": {
            "image/png": "[encoded data removed]",
            "text/plain": [
              "<Figure size 432x288 with 1 Axes>"
            ]
          },
          "metadata": {
            "tags": [],
            "needs_background": "light"
          }
        }
      ]
    },
    {
      "cell_type": "code",
      "metadata": {
        "id": "oj9P3IoaE5WF",
        "outputId": "19dca5d8-182f-4c9c-84ee-654431161f70",
        "colab": {
          "base_uri": "https://localhost:8080/"
        }
      },
      "source": [
        "pd.DataFrame(y_train).value_counts()"
      ],
      "execution_count": 29,
      "outputs": [
        {
          "output_type": "execute_result",
          "data": {
            "text/plain": [
              "0    5543\n",
              "4    5512\n",
              "8    5510\n",
              "6    5507\n",
              "5    5507\n",
              "3    5499\n",
              "2    5496\n",
              "9    5494\n",
              "7    5488\n",
              "1    5444\n",
              "dtype: int64"
            ]
          },
          "metadata": {
            "tags": []
          },
          "execution_count": 29
        }
      ]
    },
    {
      "cell_type": "code",
      "metadata": {
        "id": "zFnoeV7vFFP7"
      },
      "source": [
        "class_names = [\"T-shirt/top\", \"Trouser\", \"Pullover\", \"Dress\", \"Coat\",\n",
        "               \"Sandal\", \"Shirt\", \"Sneaker\", \"Bag\", \"Ankle boot\"]"
      ],
      "execution_count": 30,
      "outputs": []
    },
    {
      "cell_type": "code",
      "metadata": {
        "id": "fdeeaT2gKtn-",
        "outputId": "c5deccc6-208d-488e-e4f5-1d656b44c3d9",
        "colab": {
          "base_uri": "https://localhost:8080/",
          "height": 35
        }
      },
      "source": [
        "class_names[2]"
      ],
      "execution_count": 40,
      "outputs": [
        {
          "output_type": "execute_result",
          "data": {
            "application/vnd.google.colaboratory.intrinsic+json": {
              "type": "string"
            },
            "text/plain": [
              "'Pullover'"
            ]
          },
          "metadata": {
            "tags": []
          },
          "execution_count": 40
        }
      ]
    },
    {
      "cell_type": "code",
      "metadata": {
        "id": "DC07RJyYGGhV",
        "outputId": "3aeaf90a-11fd-472a-f2c2-e1b1800e1fb6",
        "colab": {
          "base_uri": "https://localhost:8080/"
        }
      },
      "source": [
        "y_train[:5]"
      ],
      "execution_count": 31,
      "outputs": [
        {
          "output_type": "execute_result",
          "data": {
            "text/plain": [
              "array([4, 0, 7, 9, 9], dtype=uint8)"
            ]
          },
          "metadata": {
            "tags": []
          },
          "execution_count": 31
        }
      ]
    },
    {
      "cell_type": "code",
      "metadata": {
        "id": "y-1BtUvjJeqg",
        "outputId": "f5a4efe1-b19a-474e-ebb5-89f1bb2cb835",
        "colab": {
          "base_uri": "https://localhost:8080/",
          "height": 35
        }
      },
      "source": [
        "class_names[y_train[20]]"
      ],
      "execution_count": 44,
      "outputs": [
        {
          "output_type": "execute_result",
          "data": {
            "application/vnd.google.colaboratory.intrinsic+json": {
              "type": "string"
            },
            "text/plain": [
              "'Sneaker'"
            ]
          },
          "metadata": {
            "tags": []
          },
          "execution_count": 44
        }
      ]
    },
    {
      "cell_type": "code",
      "metadata": {
        "id": "2r8OpYFNGMl9",
        "outputId": "717759b4-31f6-4760-f599-10daaa59d8aa",
        "colab": {
          "base_uri": "https://localhost:8080/",
          "height": 720
        }
      },
      "source": [
        "n_rows = 6\n",
        "n_cols = 8\n",
        "\n",
        "for row in range(n_rows):\n",
        "  plt.figure(figsize=(15,12))\n",
        "  for col in range(n_cols):\n",
        "\n",
        "    n_img = row*n_cols + col + 1\n",
        "\n",
        "    plt.subplot(n_rows, n_cols, n_img)\n",
        "    plt.imshow(X_train[n_img-1], cmap='binary')\n",
        "    plt.axis('off')\n",
        "    plt.title(class_names[y_train[n_img -1]], fontsize=12)"
      ],
      "execution_count": 39,
      "outputs": [
        {
          "output_type": "display_data",
          "data": {
            "image/png": "[encoded data removed]",
            "text/plain": [
              "<Figure size 1080x864 with 8 Axes>"
            ]
          },
          "metadata": {
            "tags": [],
            "needs_background": "light"
          }
        },
        {
          "output_type": "display_data",
          "data": {
            "image/png": "[encoded data removed]",
            "text/plain": [
              "<Figure size 1080x864 with 8 Axes>"
            ]
          },
          "metadata": {
            "tags": [],
            "needs_background": "light"
          }
        },
        {
          "output_type": "display_data",
          "data": {
            "image/png": "[encoded data removed]",
            "text/plain": [
              "<Figure size 1080x864 with 8 Axes>"
            ]
          },
          "metadata": {
            "tags": [],
            "needs_background": "light"
          }
        },
        {
          "output_type": "display_data",
          "data": {
            "image/png": "[encoded data removed]",
            "text/plain": [
              "<Figure size 1080x864 with 8 Axes>"
            ]
          },
          "metadata": {
            "tags": [],
            "needs_background": "light"
          }
        },
        {
          "output_type": "display_data",
          "data": {
            "image/png": "[encoded data removed]",
            "text/plain": [
              "<Figure size 1080x864 with 8 Axes>"
            ]
          },
          "metadata": {
            "tags": [],
            "needs_background": "light"
          }
        },
        {
          "output_type": "display_data",
          "data": {
            "image/png": "[encoded data removed]",
            "text/plain": [
              "<Figure size 1080x864 with 8 Axes>"
            ]
          },
          "metadata": {
            "tags": [],
            "needs_background": "light"
          }
        }
      ]
    },
    {
      "cell_type": "code",
      "metadata": {
        "id": "h6GhznhNI2KP"
      },
      "source": [
        "model = keras.models.Sequential()\n",
        "model.add(keras.layers.Flatten(input_shape=[28,28]))\n",
        "model.add(keras.layers.Dense(300, activation='relu'))\n",
        "model.add(keras.layers.Dense(100, activation='relu'))\n",
        "model.add(keras.layers.Dense(10, activation='softmax'))"
      ],
      "execution_count": 45,
      "outputs": []
    },
    {
      "cell_type": "code",
      "metadata": {
        "id": "lXFMw2lySohM"
      },
      "source": [
        "# or\n",
        "\n",
        "model = keras.models.Sequential([\n",
        "   keras.layers.Flatten(input_shape=[28,28]),                              \n",
        "   keras.layers.Dense(300, activation='relu'),\n",
        "   keras.layers.Dense(100, activation='relu'),\n",
        "   keras.layers.Dense(10, activation='softmax')\n",
        "\n",
        "])"
      ],
      "execution_count": 49,
      "outputs": []
    },
    {
      "cell_type": "code",
      "metadata": {
        "id": "7Aei6nHDSRDh",
        "outputId": "32a85322-fb26-4419-c3e9-6cc28612ee58",
        "colab": {
          "base_uri": "https://localhost:8080/"
        }
      },
      "source": [
        "model.layers"
      ],
      "execution_count": 50,
      "outputs": [
        {
          "output_type": "execute_result",
          "data": {
            "text/plain": [
              "[<tensorflow.python.keras.layers.core.Flatten at 0x7f270899d518>,\n",
              " <tensorflow.python.keras.layers.core.Dense at 0x7f270899d8d0>,\n",
              " <tensorflow.python.keras.layers.core.Dense at 0x7f271167ff28>,\n",
              " <tensorflow.python.keras.layers.core.Dense at 0x7f271167fa90>]"
            ]
          },
          "metadata": {
            "tags": []
          },
          "execution_count": 50
        }
      ]
    },
    {
      "cell_type": "code",
      "metadata": {
        "id": "MynSXlNoSj4l",
        "outputId": "b6ad94ed-0208-484a-f378-a68088b33bc4",
        "colab": {
          "base_uri": "https://localhost:8080/"
        }
      },
      "source": [
        "model.summary()"
      ],
      "execution_count": 51,
      "outputs": [
        {
          "output_type": "stream",
          "text": [
            "Model: \"sequential\"\n",
            "_________________________________________________________________\n",
            "Layer (type)                 Output Shape              Param #   \n",
            "=================================================================\n",
            "flatten (Flatten)            (None, 784)               0         \n",
            "_________________________________________________________________\n",
            "dense (Dense)                (None, 300)               235500    \n",
            "_________________________________________________________________\n",
            "dense_1 (Dense)              (None, 100)               30100     \n",
            "_________________________________________________________________\n",
            "dense_2 (Dense)              (None, 10)                1010      \n",
            "=================================================================\n",
            "Total params: 266,610\n",
            "Trainable params: 266,610\n",
            "Non-trainable params: 0\n",
            "_________________________________________________________________\n"
          ],
          "name": "stdout"
        }
      ]
    },
    {
      "cell_type": "code",
      "metadata": {
        "id": "4ZZ4NOVaQtDw"
      },
      "source": [
        "keras.backend.clear_session()\n",
        "np.random.seed(42)\n",
        "tf.random.set_seed(42)"
      ],
      "execution_count": 52,
      "outputs": []
    },
    {
      "cell_type": "code",
      "metadata": {
        "id": "-MR6Ui11TPgJ",
        "outputId": "bafb3cd7-8eec-4e76-b88b-e83c0c36961d",
        "colab": {
          "base_uri": "https://localhost:8080/",
          "height": 533
        }
      },
      "source": [
        "keras.utils.plot_model(model, show_shapes=True)"
      ],
      "execution_count": 56,
      "outputs": [
        {
          "output_type": "execute_result",
          "data": {
            "image/png": "[encoded data removed]",
            "text/plain": [
              "<IPython.core.display.Image object>"
            ]
          },
          "metadata": {
            "tags": []
          },
          "execution_count": 56
        }
      ]
    },
    {
      "cell_type": "code",
      "metadata": {
        "id": "pvYvyjzvTVjY",
        "outputId": "9aab0a67-119e-4572-b734-48b964a40e07",
        "colab": {
          "base_uri": "https://localhost:8080/",
          "height": 35
        }
      },
      "source": [
        "hidden1 = model.layers[1]\n",
        "hidden1.name"
      ],
      "execution_count": 59,
      "outputs": [
        {
          "output_type": "execute_result",
          "data": {
            "application/vnd.google.colaboratory.intrinsic+json": {
              "type": "string"
            },
            "text/plain": [
              "'dense'"
            ]
          },
          "metadata": {
            "tags": []
          },
          "execution_count": 59
        }
      ]
    },
    {
      "cell_type": "code",
      "metadata": {
        "id": "XdM-99-YTmUC",
        "outputId": "2ae5e8d3-ec37-4be1-e74a-b5acd581e79e",
        "colab": {
          "base_uri": "https://localhost:8080/"
        }
      },
      "source": [
        "model.layers"
      ],
      "execution_count": 66,
      "outputs": [
        {
          "output_type": "execute_result",
          "data": {
            "text/plain": [
              "[<tensorflow.python.keras.layers.core.Flatten at 0x7f270899d518>,\n",
              " <tensorflow.python.keras.layers.core.Dense at 0x7f270899d8d0>,\n",
              " <tensorflow.python.keras.layers.core.Dense at 0x7f271167ff28>,\n",
              " <tensorflow.python.keras.layers.core.Dense at 0x7f271167fa90>]"
            ]
          },
          "metadata": {
            "tags": []
          },
          "execution_count": 66
        }
      ]
    },
    {
      "cell_type": "code",
      "metadata": {
        "id": "e7Jrh4HKYqA9"
      },
      "source": [
        "layer0 = model.layers[0]"
      ],
      "execution_count": 73,
      "outputs": []
    },
    {
      "cell_type": "code",
      "metadata": {
        "id": "QD9namVBYwHt",
        "outputId": "d9d56faf-b782-4a05-8c86-f8dc0cef1f5f",
        "colab": {
          "base_uri": "https://localhost:8080/",
          "height": 35
        }
      },
      "source": [
        "layer0.name"
      ],
      "execution_count": 75,
      "outputs": [
        {
          "output_type": "execute_result",
          "data": {
            "application/vnd.google.colaboratory.intrinsic+json": {
              "type": "string"
            },
            "text/plain": [
              "'flatten'"
            ]
          },
          "metadata": {
            "tags": []
          },
          "execution_count": 75
        }
      ]
    },
    {
      "cell_type": "code",
      "metadata": {
        "id": "SKphvJbDTvFa"
      },
      "source": [
        "weights, biases = hidden1.get_weights()"
      ],
      "execution_count": 74,
      "outputs": []
    },
    {
      "cell_type": "code",
      "metadata": {
        "id": "2dRYUbKHUQcG",
        "outputId": "c420b9a0-1cca-4f13-b1da-586f6ecfffd2",
        "colab": {
          "base_uri": "https://localhost:8080/"
        }
      },
      "source": [
        "print(weights.shape)\n",
        "print(biases.shape)"
      ],
      "execution_count": 71,
      "outputs": [
        {
          "output_type": "stream",
          "text": [
            "(784, 300)\n",
            "(300,)\n"
          ],
          "name": "stdout"
        }
      ]
    },
    {
      "cell_type": "code",
      "metadata": {
        "id": "TZNgLsgAUbKj"
      },
      "source": [
        "model.compile(loss='sparse_categorical_crossentropy',\n",
        "              optimizer='sgd',\n",
        "              metrics=['accuracy']\n",
        "              )"
      ],
      "execution_count": 76,
      "outputs": []
    },
    {
      "cell_type": "code",
      "metadata": {
        "id": "kDSad0YGZR-r"
      },
      "source": [
        "# or\n",
        "model.compile(loss= keras.losses.sparse_categorical_crossentropy,\n",
        "       optimizer = keras.optimizers.SGD(),\n",
        "       metrics = [keras.metrics.sparse_categorical_accuracy]       \n",
        "              )"
      ],
      "execution_count": 77,
      "outputs": []
    },
    {
      "cell_type": "code",
      "metadata": {
        "id": "mjP1atRsZHgJ",
        "outputId": "073aaed6-8b3e-4297-c1a6-79cf899c1926",
        "colab": {
          "base_uri": "https://localhost:8080/"
        }
      },
      "source": [
        "fit_history = model.fit(X_train, y_train, epochs=50, validation_data=(X_valid, y_valid))"
      ],
      "execution_count": 81,
      "outputs": [
        {
          "output_type": "stream",
          "text": [
            "Epoch 1/50\n",
            "1719/1719 [==============================] - 4s 3ms/step - loss: 0.0979 - sparse_categorical_accuracy: 0.9664 - val_loss: 0.3239 - val_sparse_categorical_accuracy: 0.8988\n",
            "Epoch 2/50\n",
            "1719/1719 [==============================] - 4s 3ms/step - loss: 0.0976 - sparse_categorical_accuracy: 0.9664 - val_loss: 0.3527 - val_sparse_categorical_accuracy: 0.8910\n",
            "Epoch 3/50\n",
            "1719/1719 [==============================] - 6s 4ms/step - loss: 0.0947 - sparse_categorical_accuracy: 0.9679 - val_loss: 0.3668 - val_sparse_categorical_accuracy: 0.8886\n",
            "Epoch 4/50\n",
            "1719/1719 [==============================] - 7s 4ms/step - loss: 0.0931 - sparse_categorical_accuracy: 0.9689 - val_loss: 0.3257 - val_sparse_categorical_accuracy: 0.9000\n",
            "Epoch 5/50\n",
            "1719/1719 [==============================] - 4s 3ms/step - loss: 0.0921 - sparse_categorical_accuracy: 0.9681 - val_loss: 0.3290 - val_sparse_categorical_accuracy: 0.9052\n",
            "Epoch 6/50\n",
            "1719/1719 [==============================] - 4s 3ms/step - loss: 0.0910 - sparse_categorical_accuracy: 0.9687 - val_loss: 0.3795 - val_sparse_categorical_accuracy: 0.8920\n",
            "Epoch 7/50\n",
            "1719/1719 [==============================] - 4s 3ms/step - loss: 0.0888 - sparse_categorical_accuracy: 0.9700 - val_loss: 0.3529 - val_sparse_categorical_accuracy: 0.8974\n",
            "Epoch 8/50\n",
            "1719/1719 [==============================] - 5s 3ms/step - loss: 0.0871 - sparse_categorical_accuracy: 0.9706 - val_loss: 0.3525 - val_sparse_categorical_accuracy: 0.8944\n",
            "Epoch 9/50\n",
            "1719/1719 [==============================] - 4s 3ms/step - loss: 0.0859 - sparse_categorical_accuracy: 0.9708 - val_loss: 0.3371 - val_sparse_categorical_accuracy: 0.8990\n",
            "Epoch 10/50\n",
            "1719/1719 [==============================] - 4s 3ms/step - loss: 0.0845 - sparse_categorical_accuracy: 0.9721 - val_loss: 0.3376 - val_sparse_categorical_accuracy: 0.9050\n",
            "Epoch 11/50\n",
            "1719/1719 [==============================] - 4s 3ms/step - loss: 0.0839 - sparse_categorical_accuracy: 0.9711 - val_loss: 0.3467 - val_sparse_categorical_accuracy: 0.8978\n",
            "Epoch 12/50\n",
            "1719/1719 [==============================] - 4s 3ms/step - loss: 0.0820 - sparse_categorical_accuracy: 0.9726 - val_loss: 0.3583 - val_sparse_categorical_accuracy: 0.8958\n",
            "Epoch 13/50\n",
            "1719/1719 [==============================] - 5s 3ms/step - loss: 0.0809 - sparse_categorical_accuracy: 0.9730 - val_loss: 0.3482 - val_sparse_categorical_accuracy: 0.8974\n",
            "Epoch 14/50\n",
            "1719/1719 [==============================] - 4s 3ms/step - loss: 0.0786 - sparse_categorical_accuracy: 0.9735 - val_loss: 0.3888 - val_sparse_categorical_accuracy: 0.8828\n",
            "Epoch 15/50\n",
            "1719/1719 [==============================] - 5s 3ms/step - loss: 0.0776 - sparse_categorical_accuracy: 0.9735 - val_loss: 0.3493 - val_sparse_categorical_accuracy: 0.9004\n",
            "Epoch 16/50\n",
            "1719/1719 [==============================] - 5s 3ms/step - loss: 0.0769 - sparse_categorical_accuracy: 0.9740 - val_loss: 0.3586 - val_sparse_categorical_accuracy: 0.9000\n",
            "Epoch 17/50\n",
            "1719/1719 [==============================] - 5s 3ms/step - loss: 0.0750 - sparse_categorical_accuracy: 0.9751 - val_loss: 0.3687 - val_sparse_categorical_accuracy: 0.8968\n",
            "Epoch 18/50\n",
            "1719/1719 [==============================] - 4s 3ms/step - loss: 0.0728 - sparse_categorical_accuracy: 0.9758 - val_loss: 0.3750 - val_sparse_categorical_accuracy: 0.8980\n",
            "Epoch 19/50\n",
            "1719/1719 [==============================] - 4s 3ms/step - loss: 0.0743 - sparse_categorical_accuracy: 0.9744 - val_loss: 0.3877 - val_sparse_categorical_accuracy: 0.8946\n",
            "Epoch 20/50\n",
            "1719/1719 [==============================] - 4s 3ms/step - loss: 0.0714 - sparse_categorical_accuracy: 0.9762 - val_loss: 0.3860 - val_sparse_categorical_accuracy: 0.8962\n",
            "Epoch 21/50\n",
            "1719/1719 [==============================] - 4s 3ms/step - loss: 0.0708 - sparse_categorical_accuracy: 0.9759 - val_loss: 0.3709 - val_sparse_categorical_accuracy: 0.8980\n",
            "Epoch 22/50\n",
            "1719/1719 [==============================] - 5s 3ms/step - loss: 0.0702 - sparse_categorical_accuracy: 0.9766 - val_loss: 0.3523 - val_sparse_categorical_accuracy: 0.8998\n",
            "Epoch 23/50\n",
            "1719/1719 [==============================] - 4s 3ms/step - loss: 0.0694 - sparse_categorical_accuracy: 0.9765 - val_loss: 0.3565 - val_sparse_categorical_accuracy: 0.9052\n",
            "Epoch 24/50\n",
            "1719/1719 [==============================] - 4s 3ms/step - loss: 0.0671 - sparse_categorical_accuracy: 0.9775 - val_loss: 0.4011 - val_sparse_categorical_accuracy: 0.8934\n",
            "Epoch 25/50\n",
            "1719/1719 [==============================] - 4s 3ms/step - loss: 0.0660 - sparse_categorical_accuracy: 0.9778 - val_loss: 0.3882 - val_sparse_categorical_accuracy: 0.8996\n",
            "Epoch 26/50\n",
            "1719/1719 [==============================] - 5s 3ms/step - loss: 0.0657 - sparse_categorical_accuracy: 0.9783 - val_loss: 0.3842 - val_sparse_categorical_accuracy: 0.8976\n",
            "Epoch 27/50\n",
            "1719/1719 [==============================] - 4s 3ms/step - loss: 0.0638 - sparse_categorical_accuracy: 0.9793 - val_loss: 0.3838 - val_sparse_categorical_accuracy: 0.8992\n",
            "Epoch 28/50\n",
            "1719/1719 [==============================] - 4s 3ms/step - loss: 0.0626 - sparse_categorical_accuracy: 0.9790 - val_loss: 0.3938 - val_sparse_categorical_accuracy: 0.8964\n",
            "Epoch 29/50\n",
            "1719/1719 [==============================] - 5s 3ms/step - loss: 0.0630 - sparse_categorical_accuracy: 0.9791 - val_loss: 0.3910 - val_sparse_categorical_accuracy: 0.8932\n",
            "Epoch 30/50\n",
            "1719/1719 [==============================] - 4s 3ms/step - loss: 0.0605 - sparse_categorical_accuracy: 0.9795 - val_loss: 0.3865 - val_sparse_categorical_accuracy: 0.8976\n",
            "Epoch 31/50\n",
            "1719/1719 [==============================] - 5s 3ms/step - loss: 0.0597 - sparse_categorical_accuracy: 0.9798 - val_loss: 0.3800 - val_sparse_categorical_accuracy: 0.8946\n",
            "Epoch 32/50\n",
            "1719/1719 [==============================] - 4s 3ms/step - loss: 0.0576 - sparse_categorical_accuracy: 0.9812 - val_loss: 0.4147 - val_sparse_categorical_accuracy: 0.8946\n",
            "Epoch 33/50\n",
            "1719/1719 [==============================] - 4s 3ms/step - loss: 0.0575 - sparse_categorical_accuracy: 0.9809 - val_loss: 0.3887 - val_sparse_categorical_accuracy: 0.8998\n",
            "Epoch 34/50\n",
            "1719/1719 [==============================] - 4s 3ms/step - loss: 0.0558 - sparse_categorical_accuracy: 0.9814 - val_loss: 0.3997 - val_sparse_categorical_accuracy: 0.8968\n",
            "Epoch 35/50\n",
            "1719/1719 [==============================] - 5s 3ms/step - loss: 0.0532 - sparse_categorical_accuracy: 0.9827 - val_loss: 0.4037 - val_sparse_categorical_accuracy: 0.8982\n",
            "Epoch 36/50\n",
            "1719/1719 [==============================] - 4s 3ms/step - loss: 0.0560 - sparse_categorical_accuracy: 0.9809 - val_loss: 0.3910 - val_sparse_categorical_accuracy: 0.9008\n",
            "Epoch 37/50\n",
            "1719/1719 [==============================] - 4s 3ms/step - loss: 0.0522 - sparse_categorical_accuracy: 0.9828 - val_loss: 0.4046 - val_sparse_categorical_accuracy: 0.9016\n",
            "Epoch 38/50\n",
            "1719/1719 [==============================] - 4s 3ms/step - loss: 0.0509 - sparse_categorical_accuracy: 0.9835 - val_loss: 0.3930 - val_sparse_categorical_accuracy: 0.8970\n",
            "Epoch 39/50\n",
            "1719/1719 [==============================] - 5s 3ms/step - loss: 0.0523 - sparse_categorical_accuracy: 0.9826 - val_loss: 0.4027 - val_sparse_categorical_accuracy: 0.9048\n",
            "Epoch 40/50\n",
            "1719/1719 [==============================] - 5s 3ms/step - loss: 0.0515 - sparse_categorical_accuracy: 0.9830 - val_loss: 0.4059 - val_sparse_categorical_accuracy: 0.9020\n",
            "Epoch 41/50\n",
            "1719/1719 [==============================] - 5s 3ms/step - loss: 0.0497 - sparse_categorical_accuracy: 0.9839 - val_loss: 0.4188 - val_sparse_categorical_accuracy: 0.8954\n",
            "Epoch 42/50\n",
            "1719/1719 [==============================] - 5s 3ms/step - loss: 0.0478 - sparse_categorical_accuracy: 0.9846 - val_loss: 0.4109 - val_sparse_categorical_accuracy: 0.9026\n",
            "Epoch 43/50\n",
            "1719/1719 [==============================] - 4s 3ms/step - loss: 0.0479 - sparse_categorical_accuracy: 0.9843 - val_loss: 0.4172 - val_sparse_categorical_accuracy: 0.8984\n",
            "Epoch 44/50\n",
            "1719/1719 [==============================] - 5s 3ms/step - loss: 0.0477 - sparse_categorical_accuracy: 0.9837 - val_loss: 0.4101 - val_sparse_categorical_accuracy: 0.8970\n",
            "Epoch 45/50\n",
            "1719/1719 [==============================] - 5s 3ms/step - loss: 0.0467 - sparse_categorical_accuracy: 0.9848 - val_loss: 0.4365 - val_sparse_categorical_accuracy: 0.8964\n",
            "Epoch 46/50\n",
            "1719/1719 [==============================] - 5s 3ms/step - loss: 0.0449 - sparse_categorical_accuracy: 0.9853 - val_loss: 0.4216 - val_sparse_categorical_accuracy: 0.8990\n",
            "Epoch 47/50\n",
            "1719/1719 [==============================] - 5s 3ms/step - loss: 0.0444 - sparse_categorical_accuracy: 0.9851 - val_loss: 0.4129 - val_sparse_categorical_accuracy: 0.8986\n",
            "Epoch 48/50\n",
            "1719/1719 [==============================] - 5s 3ms/step - loss: 0.0428 - sparse_categorical_accuracy: 0.9865 - val_loss: 0.4491 - val_sparse_categorical_accuracy: 0.8904\n",
            "Epoch 49/50\n",
            "1719/1719 [==============================] - 5s 3ms/step - loss: 0.0417 - sparse_categorical_accuracy: 0.9876 - val_loss: 0.4209 - val_sparse_categorical_accuracy: 0.8960\n",
            "Epoch 50/50\n",
            "1719/1719 [==============================] - 5s 3ms/step - loss: 0.0419 - sparse_categorical_accuracy: 0.9868 - val_loss: 0.4208 - val_sparse_categorical_accuracy: 0.8996\n"
          ],
          "name": "stdout"
        }
      ]
    },
    {
      "cell_type": "code",
      "metadata": {
        "id": "CCHhYhxPbY_x",
        "outputId": "69241471-1c4e-4944-c854-f609d21f774a",
        "colab": {
          "base_uri": "https://localhost:8080/"
        }
      },
      "source": [
        "fit_history.params"
      ],
      "execution_count": 82,
      "outputs": [
        {
          "output_type": "execute_result",
          "data": {
            "text/plain": [
              "{'epochs': 50, 'steps': 1719, 'verbose': 1}"
            ]
          },
          "metadata": {
            "tags": []
          },
          "execution_count": 82
        }
      ]
    },
    {
      "cell_type": "code",
      "metadata": {
        "id": "aY1b3oDbbim8",
        "outputId": "c0dc0760-9e4a-4fb0-d0a8-ac8ce11fee99",
        "colab": {
          "base_uri": "https://localhost:8080/"
        }
      },
      "source": [
        "fit_history.history.keys()"
      ],
      "execution_count": 83,
      "outputs": [
        {
          "output_type": "execute_result",
          "data": {
            "text/plain": [
              "dict_keys(['loss', 'sparse_categorical_accuracy', 'val_loss', 'val_sparse_categorical_accuracy'])"
            ]
          },
          "metadata": {
            "tags": []
          },
          "execution_count": 83
        }
      ]
    },
    {
      "cell_type": "code",
      "metadata": {
        "id": "VilfZqvtcccW",
        "outputId": "e5c87b2c-34c6-49d7-a5a8-2ac67a080c92",
        "colab": {
          "base_uri": "https://localhost:8080/",
          "height": 374
        }
      },
      "source": [
        "pd.DataFrame(fit_history.history).plot(figsize=(10,6))\n",
        "plt.grid(True)\n",
        "plt.gca().set_ylim(0,1)\n",
        "plt.show()"
      ],
      "execution_count": 84,
      "outputs": [
        {
          "output_type": "display_data",
          "data": {
            "image/png": "[encoded data removed]",
            "text/plain": [
              "<Figure size 720x432 with 1 Axes>"
            ]
          },
          "metadata": {
            "tags": [],
            "needs_background": "light"
          }
        }
      ]
    },
    {
      "cell_type": "code",
      "metadata": {
        "id": "0FIU0XrjczDr",
        "outputId": "0f5938c5-4dff-45f6-fcb9-48c68a68e9bc",
        "colab": {
          "base_uri": "https://localhost:8080/"
        }
      },
      "source": [
        "model.evaluate(X_test, y_test)"
      ],
      "execution_count": 86,
      "outputs": [
        {
          "output_type": "stream",
          "text": [
            "313/313 [==============================] - 1s 2ms/step - loss: 0.4685 - sparse_categorical_accuracy: 0.8925\n"
          ],
          "name": "stdout"
        },
        {
          "output_type": "execute_result",
          "data": {
            "text/plain": [
              "[0.46853119134902954, 0.8924999833106995]"
            ]
          },
          "metadata": {
            "tags": []
          },
          "execution_count": 86
        }
      ]
    },
    {
      "cell_type": "code",
      "metadata": {
        "id": "L06EPQU4dcJC",
        "outputId": "454f74fd-fbcc-47b5-9dde-0fdd3a193e97",
        "colab": {
          "base_uri": "https://localhost:8080/"
        }
      },
      "source": [
        "y_pred = model.predict_classes(X_test)"
      ],
      "execution_count": 87,
      "outputs": [
        {
          "output_type": "stream",
          "text": [
            "WARNING:tensorflow:From <ipython-input-87-fdaaf2360398>:1: Sequential.predict_classes (from tensorflow.python.keras.engine.sequential) is deprecated and will be removed after 2021-01-01.\n",
            "Instructions for updating:\n",
            "Please use instead:* `np.argmax(model.predict(x), axis=-1)`,   if your model does multi-class classification   (e.g. if it uses a `softmax` last-layer activation).* `(model.predict(x) > 0.5).astype(\"int32\")`,   if your model does binary classification   (e.g. if it uses a `sigmoid` last-layer activation).\n"
          ],
          "name": "stdout"
        }
      ]
    },
    {
      "cell_type": "code",
      "metadata": {
        "id": "Jjq7RuE0do0x",
        "outputId": "d602da41-78af-4603-c605-b373ea90c2f1",
        "colab": {
          "base_uri": "https://localhost:8080/"
        }
      },
      "source": [
        "y_pred.shape"
      ],
      "execution_count": 88,
      "outputs": [
        {
          "output_type": "execute_result",
          "data": {
            "text/plain": [
              "(10000,)"
            ]
          },
          "metadata": {
            "tags": []
          },
          "execution_count": 88
        }
      ]
    },
    {
      "cell_type": "code",
      "metadata": {
        "id": "v4rCfIXydzTe"
      },
      "source": [
        "y_pred5 = y_pred[:5]"
      ],
      "execution_count": 94,
      "outputs": []
    },
    {
      "cell_type": "code",
      "metadata": {
        "id": "InIgdkB8d6Da",
        "outputId": "fd2cbdb2-93df-4f0e-87ef-91abbfce193b",
        "colab": {
          "base_uri": "https://localhost:8080/",
          "height": 150
        }
      },
      "source": [
        "plt.figure(figsize=(16,6))\n",
        "\n",
        "for index, img in enumerate(X_test[:5]):\n",
        "\n",
        "  plt.subplot(1,5,index+1)\n",
        "  plt.imshow(img, cmap = 'binary', interpolation='nearest')\n",
        "  plt.axis('off')\n",
        "  plt.title(class_names[y_test[index]], fontsize=14)\n",
        "plt.show()"
      ],
      "execution_count": 95,
      "outputs": [
        {
          "output_type": "display_data",
          "data": {
            "image/png": "[encoded data removed]",
            "text/plain": [
              "<Figure size 1152x432 with 5 Axes>"
            ]
          },
          "metadata": {
            "tags": [],
            "needs_background": "light"
          }
        }
      ]
    },
    {
      "cell_type": "code",
      "metadata": {
        "id": "KNHEZDLFeiPI",
        "outputId": "048199fd-5194-4348-d0db-2eed2566714e",
        "colab": {
          "base_uri": "https://localhost:8080/"
        }
      },
      "source": [
        "np.array(class_names)[y_pred5]"
      ],
      "execution_count": 98,
      "outputs": [
        {
          "output_type": "execute_result",
          "data": {
            "text/plain": [
              "array(['Ankle boot', 'Pullover', 'Trouser', 'Trouser', 'Shirt'],\n",
              "      dtype='<U11')"
            ]
          },
          "metadata": {
            "tags": []
          },
          "execution_count": 98
        }
      ]
    },
    {
      "cell_type": "markdown",
      "metadata": {
        "id": "XvsOU-YMeu8y"
      },
      "source": [
        "## MLP - Regression"
      ]
    },
    {
      "cell_type": "code",
      "metadata": {
        "id": "ziYrCjJch_h9",
        "outputId": "ebacac26-86fa-4199-f10e-ad7da8823774",
        "colab": {
          "base_uri": "https://localhost:8080/"
        }
      },
      "source": [
        "from sklearn.datasets import fetch_california_housing\n",
        "from sklearn.model_selection import train_test_split\n",
        "from sklearn.preprocessing import StandardScaler\n",
        "\n",
        "housing = fetch_california_housing()\n",
        "\n",
        "X_train_full, X_test, y_train_full, y_test = train_test_split(housing.data, housing.target, random_state=42)\n",
        "X_train, X_valid, y_train, y_valid = train_test_split(X_train_full, y_train_full, random_state=42)\n",
        "\n",
        "scaler = StandardScaler()\n",
        "X_train = scaler.fit_transform(X_train)\n",
        "X_valid = scaler.transform(X_valid)\n",
        "X_test = scaler.transform(X_test)\n",
        "\n",
        "print(X_train.shape)"
      ],
      "execution_count": 99,
      "outputs": [
        {
          "output_type": "stream",
          "text": [
            "Downloading Cal. housing from https://ndownloader.figshare.com/files/5976036 to /root/scikit_learn_data\n"
          ],
          "name": "stderr"
        },
        {
          "output_type": "stream",
          "text": [
            "(11610, 8)\n"
          ],
          "name": "stdout"
        }
      ]
    },
    {
      "cell_type": "code",
      "metadata": {
        "id": "EPoBDawzkFTl",
        "outputId": "53065513-b389-499f-bde7-cccf872b1b4c",
        "colab": {
          "base_uri": "https://localhost:8080/"
        }
      },
      "source": [
        "X_train.shape[1:]"
      ],
      "execution_count": 102,
      "outputs": [
        {
          "output_type": "execute_result",
          "data": {
            "text/plain": [
              "(8,)"
            ]
          },
          "metadata": {
            "tags": []
          },
          "execution_count": 102
        }
      ]
    },
    {
      "cell_type": "code",
      "metadata": {
        "id": "0DYWiqgijn3r"
      },
      "source": [
        "np.random.seed(42)\n",
        "tf.random.set_seed(42)"
      ],
      "execution_count": 100,
      "outputs": []
    },
    {
      "cell_type": "code",
      "metadata": {
        "id": "qegOZrvojtNM"
      },
      "source": [
        "model = keras.models.Sequential([\n",
        "  keras.layers.Dense(30, activation='relu', input_shape = X_train.shape[1:]),  \n",
        "  keras.layers.Dense(1)                               \n",
        "])\n",
        "\n",
        "model.compile(loss=keras.losses.mean_squared_error, optimizer=keras.optimizers.SGD(lr=1e-3), metrics=[keras.metrics.mean_squared_error])"
      ],
      "execution_count": 136,
      "outputs": []
    },
    {
      "cell_type": "code",
      "metadata": {
        "id": "8t-EsvaOk5_X",
        "outputId": "7dc7fc82-2119-480b-b9e4-afb3addd0c18",
        "colab": {
          "base_uri": "https://localhost:8080/"
        }
      },
      "source": [
        "fit_history = model.fit(X_train, y_train, epochs = 50, validation_data=(X_valid, y_valid))"
      ],
      "execution_count": 137,
      "outputs": [
        {
          "output_type": "stream",
          "text": [
            "Epoch 1/50\n",
            "363/363 [==============================] - 0s 1ms/step - loss: 1.8737 - mean_squared_error: 1.8737 - val_loss: 0.7688 - val_mean_squared_error: 0.7688\n",
            "Epoch 2/50\n",
            "363/363 [==============================] - 0s 1ms/step - loss: 0.6360 - mean_squared_error: 0.6360 - val_loss: 0.6091 - val_mean_squared_error: 0.6091\n",
            "Epoch 3/50\n",
            "363/363 [==============================] - 0s 1ms/step - loss: 0.5649 - mean_squared_error: 0.5649 - val_loss: 0.5705 - val_mean_squared_error: 0.5705\n",
            "Epoch 4/50\n",
            "363/363 [==============================] - 0s 1ms/step - loss: 0.5354 - mean_squared_error: 0.5354 - val_loss: 0.5174 - val_mean_squared_error: 0.5174\n",
            "Epoch 5/50\n",
            "363/363 [==============================] - 0s 1ms/step - loss: 0.5143 - mean_squared_error: 0.5143 - val_loss: 0.4895 - val_mean_squared_error: 0.4895\n",
            "Epoch 6/50\n",
            "363/363 [==============================] - 0s 1ms/step - loss: 0.4965 - mean_squared_error: 0.4965 - val_loss: 0.4710 - val_mean_squared_error: 0.4710\n",
            "Epoch 7/50\n",
            "363/363 [==============================] - 0s 1ms/step - loss: 0.4821 - mean_squared_error: 0.4821 - val_loss: 0.4634 - val_mean_squared_error: 0.4634\n",
            "Epoch 8/50\n",
            "363/363 [==============================] - 0s 1ms/step - loss: 0.4702 - mean_squared_error: 0.4702 - val_loss: 0.4442 - val_mean_squared_error: 0.4442\n",
            "Epoch 9/50\n",
            "363/363 [==============================] - 0s 1ms/step - loss: 0.4602 - mean_squared_error: 0.4602 - val_loss: 0.4338 - val_mean_squared_error: 0.4338\n",
            "Epoch 10/50\n",
            "363/363 [==============================] - 0s 1ms/step - loss: 0.4519 - mean_squared_error: 0.4519 - val_loss: 0.4252 - val_mean_squared_error: 0.4252\n",
            "Epoch 11/50\n",
            "363/363 [==============================] - 0s 1ms/step - loss: 0.4452 - mean_squared_error: 0.4452 - val_loss: 0.4184 - val_mean_squared_error: 0.4184\n",
            "Epoch 12/50\n",
            "363/363 [==============================] - 0s 1ms/step - loss: 0.4393 - mean_squared_error: 0.4393 - val_loss: 0.4120 - val_mean_squared_error: 0.4120\n",
            "Epoch 13/50\n",
            "363/363 [==============================] - 0s 1ms/step - loss: 0.4343 - mean_squared_error: 0.4343 - val_loss: 0.4080 - val_mean_squared_error: 0.4080\n",
            "Epoch 14/50\n",
            "363/363 [==============================] - 0s 1ms/step - loss: 0.4301 - mean_squared_error: 0.4301 - val_loss: 0.4031 - val_mean_squared_error: 0.4031\n",
            "Epoch 15/50\n",
            "363/363 [==============================] - 0s 1ms/step - loss: 0.4264 - mean_squared_error: 0.4264 - val_loss: 0.4012 - val_mean_squared_error: 0.4012\n",
            "Epoch 16/50\n",
            "363/363 [==============================] - 0s 1ms/step - loss: 0.4232 - mean_squared_error: 0.4232 - val_loss: 0.3968 - val_mean_squared_error: 0.3968\n",
            "Epoch 17/50\n",
            "363/363 [==============================] - 0s 1ms/step - loss: 0.4206 - mean_squared_error: 0.4206 - val_loss: 0.3991 - val_mean_squared_error: 0.3991\n",
            "Epoch 18/50\n",
            "363/363 [==============================] - 0s 1ms/step - loss: 0.4181 - mean_squared_error: 0.4181 - val_loss: 0.4001 - val_mean_squared_error: 0.4001\n",
            "Epoch 19/50\n",
            "363/363 [==============================] - 0s 1ms/step - loss: 0.4159 - mean_squared_error: 0.4159 - val_loss: 0.3943 - val_mean_squared_error: 0.3943\n",
            "Epoch 20/50\n",
            "363/363 [==============================] - 0s 1ms/step - loss: 0.4140 - mean_squared_error: 0.4140 - val_loss: 0.4025 - val_mean_squared_error: 0.4025\n",
            "Epoch 21/50\n",
            "363/363 [==============================] - 0s 1ms/step - loss: 0.4121 - mean_squared_error: 0.4121 - val_loss: 0.3946 - val_mean_squared_error: 0.3946\n",
            "Epoch 22/50\n",
            "363/363 [==============================] - 0s 1ms/step - loss: 0.4104 - mean_squared_error: 0.4104 - val_loss: 0.4004 - val_mean_squared_error: 0.4004\n",
            "Epoch 23/50\n",
            "363/363 [==============================] - 0s 1ms/step - loss: 0.4088 - mean_squared_error: 0.4088 - val_loss: 0.3856 - val_mean_squared_error: 0.3856\n",
            "Epoch 24/50\n",
            "363/363 [==============================] - 0s 1ms/step - loss: 0.4073 - mean_squared_error: 0.4073 - val_loss: 0.3912 - val_mean_squared_error: 0.3912\n",
            "Epoch 25/50\n",
            "363/363 [==============================] - 0s 1ms/step - loss: 0.4058 - mean_squared_error: 0.4058 - val_loss: 0.3993 - val_mean_squared_error: 0.3993\n",
            "Epoch 26/50\n",
            "363/363 [==============================] - 0s 1ms/step - loss: 0.4046 - mean_squared_error: 0.4046 - val_loss: 0.3976 - val_mean_squared_error: 0.3976\n",
            "Epoch 27/50\n",
            "363/363 [==============================] - 0s 1ms/step - loss: 0.4034 - mean_squared_error: 0.4034 - val_loss: 0.3831 - val_mean_squared_error: 0.3831\n",
            "Epoch 28/50\n",
            "363/363 [==============================] - 0s 1ms/step - loss: 0.4021 - mean_squared_error: 0.4021 - val_loss: 0.3913 - val_mean_squared_error: 0.3913\n",
            "Epoch 29/50\n",
            "363/363 [==============================] - 0s 1ms/step - loss: 0.4010 - mean_squared_error: 0.4010 - val_loss: 0.3874 - val_mean_squared_error: 0.3874\n",
            "Epoch 30/50\n",
            "363/363 [==============================] - 0s 1ms/step - loss: 0.3998 - mean_squared_error: 0.3998 - val_loss: 0.3967 - val_mean_squared_error: 0.3967\n",
            "Epoch 31/50\n",
            "363/363 [==============================] - 0s 1ms/step - loss: 0.3987 - mean_squared_error: 0.3987 - val_loss: 0.3897 - val_mean_squared_error: 0.3897\n",
            "Epoch 32/50\n",
            "363/363 [==============================] - 0s 1ms/step - loss: 0.3976 - mean_squared_error: 0.3976 - val_loss: 0.4009 - val_mean_squared_error: 0.4009\n",
            "Epoch 33/50\n",
            "363/363 [==============================] - 0s 1ms/step - loss: 0.3969 - mean_squared_error: 0.3969 - val_loss: 0.3847 - val_mean_squared_error: 0.3847\n",
            "Epoch 34/50\n",
            "363/363 [==============================] - 0s 1ms/step - loss: 0.3958 - mean_squared_error: 0.3958 - val_loss: 0.3768 - val_mean_squared_error: 0.3768\n",
            "Epoch 35/50\n",
            "363/363 [==============================] - 0s 1ms/step - loss: 0.3949 - mean_squared_error: 0.3949 - val_loss: 0.3968 - val_mean_squared_error: 0.3968\n",
            "Epoch 36/50\n",
            "363/363 [==============================] - 0s 1ms/step - loss: 0.3941 - mean_squared_error: 0.3941 - val_loss: 0.3747 - val_mean_squared_error: 0.3747\n",
            "Epoch 37/50\n",
            "363/363 [==============================] - 0s 1ms/step - loss: 0.3932 - mean_squared_error: 0.3932 - val_loss: 0.3837 - val_mean_squared_error: 0.3837\n",
            "Epoch 38/50\n",
            "363/363 [==============================] - 0s 1ms/step - loss: 0.3924 - mean_squared_error: 0.3924 - val_loss: 0.3757 - val_mean_squared_error: 0.3757\n",
            "Epoch 39/50\n",
            "363/363 [==============================] - 0s 1ms/step - loss: 0.3916 - mean_squared_error: 0.3916 - val_loss: 0.3733 - val_mean_squared_error: 0.3733\n",
            "Epoch 40/50\n",
            "363/363 [==============================] - 0s 1ms/step - loss: 0.3907 - mean_squared_error: 0.3907 - val_loss: 0.3814 - val_mean_squared_error: 0.3814\n",
            "Epoch 41/50\n",
            "363/363 [==============================] - 0s 1ms/step - loss: 0.3900 - mean_squared_error: 0.3900 - val_loss: 0.3832 - val_mean_squared_error: 0.3832\n",
            "Epoch 42/50\n",
            "363/363 [==============================] - 0s 1ms/step - loss: 0.3894 - mean_squared_error: 0.3894 - val_loss: 0.3890 - val_mean_squared_error: 0.3890\n",
            "Epoch 43/50\n",
            "363/363 [==============================] - 0s 1ms/step - loss: 0.3886 - mean_squared_error: 0.3886 - val_loss: 0.3900 - val_mean_squared_error: 0.3900\n",
            "Epoch 44/50\n",
            "363/363 [==============================] - 0s 1ms/step - loss: 0.3879 - mean_squared_error: 0.3879 - val_loss: 0.3903 - val_mean_squared_error: 0.3903\n",
            "Epoch 45/50\n",
            "363/363 [==============================] - 0s 1ms/step - loss: 0.3874 - mean_squared_error: 0.3874 - val_loss: 0.3688 - val_mean_squared_error: 0.3688\n",
            "Epoch 46/50\n",
            "363/363 [==============================] - 0s 1ms/step - loss: 0.3865 - mean_squared_error: 0.3865 - val_loss: 0.3724 - val_mean_squared_error: 0.3724\n",
            "Epoch 47/50\n",
            "363/363 [==============================] - 0s 1ms/step - loss: 0.3861 - mean_squared_error: 0.3861 - val_loss: 0.3715 - val_mean_squared_error: 0.3715\n",
            "Epoch 48/50\n",
            "363/363 [==============================] - 0s 1ms/step - loss: 0.3853 - mean_squared_error: 0.3853 - val_loss: 0.3834 - val_mean_squared_error: 0.3834\n",
            "Epoch 49/50\n",
            "363/363 [==============================] - 0s 1ms/step - loss: 0.3849 - mean_squared_error: 0.3849 - val_loss: 0.3683 - val_mean_squared_error: 0.3683\n",
            "Epoch 50/50\n",
            "363/363 [==============================] - 0s 1ms/step - loss: 0.3842 - mean_squared_error: 0.3842 - val_loss: 0.3606 - val_mean_squared_error: 0.3606\n"
          ],
          "name": "stdout"
        }
      ]
    },
    {
      "cell_type": "code",
      "metadata": {
        "id": "8Be0AkP0lJDs",
        "outputId": "3eb3c8bf-c1dd-4f33-da23-67d68697d77a",
        "colab": {
          "base_uri": "https://localhost:8080/"
        }
      },
      "source": [
        "fit_history.params"
      ],
      "execution_count": 138,
      "outputs": [
        {
          "output_type": "execute_result",
          "data": {
            "text/plain": [
              "{'epochs': 50, 'steps': 363, 'verbose': 1}"
            ]
          },
          "metadata": {
            "tags": []
          },
          "execution_count": 138
        }
      ]
    },
    {
      "cell_type": "code",
      "metadata": {
        "id": "FImdHDOflP8k",
        "outputId": "3cc43ac7-ee76-4990-ce11-9fe8a8802a80",
        "colab": {
          "base_uri": "https://localhost:8080/"
        }
      },
      "source": [
        "fit_history.history.keys()"
      ],
      "execution_count": 139,
      "outputs": [
        {
          "output_type": "execute_result",
          "data": {
            "text/plain": [
              "dict_keys(['loss', 'mean_squared_error', 'val_loss', 'val_mean_squared_error'])"
            ]
          },
          "metadata": {
            "tags": []
          },
          "execution_count": 139
        }
      ]
    },
    {
      "cell_type": "code",
      "metadata": {
        "id": "GeLCZmoTl28s",
        "outputId": "445487ea-7aa0-4d26-9f00-139d92b2071e",
        "colab": {
          "base_uri": "https://localhost:8080/"
        }
      },
      "source": [
        "his = pd.DataFrame(fit_history.history)\n",
        "print(his.head(5))\n",
        "his2 = his.iloc[:,[0,2]]\n",
        "print(his2.head(5))"
      ],
      "execution_count": 140,
      "outputs": [
        {
          "output_type": "stream",
          "text": [
            "       loss  mean_squared_error  val_loss  val_mean_squared_error\n",
            "0  1.873679            1.873679  0.768813                0.768813\n",
            "1  0.635976            0.635976  0.609103                0.609103\n",
            "2  0.564924            0.564924  0.570548                0.570548\n",
            "3  0.535392            0.535392  0.517447                0.517447\n",
            "4  0.514317            0.514317  0.489458                0.489458\n",
            "       loss  val_loss\n",
            "0  1.873679  0.768813\n",
            "1  0.635976  0.609103\n",
            "2  0.564924  0.570548\n",
            "3  0.535392  0.517447\n",
            "4  0.514317  0.489458\n"
          ],
          "name": "stdout"
        }
      ]
    },
    {
      "cell_type": "code",
      "metadata": {
        "id": "-dusYmFcns6V",
        "outputId": "e18ffacc-d026-4259-ec44-e1405f385a93",
        "colab": {
          "base_uri": "https://localhost:8080/"
        }
      },
      "source": [
        "his2.columns\n",
        "his2.columns = ['Train_loss', 'Validation_loss']\n",
        "his2.columns"
      ],
      "execution_count": 141,
      "outputs": [
        {
          "output_type": "execute_result",
          "data": {
            "text/plain": [
              "Index(['Train_loss', 'Validation_loss'], dtype='object')"
            ]
          },
          "metadata": {
            "tags": []
          },
          "execution_count": 141
        }
      ]
    },
    {
      "cell_type": "code",
      "metadata": {
        "id": "5FwAQmVXlT8T",
        "outputId": "83756931-81ae-4d48-9125-e4804b9a9581",
        "colab": {
          "base_uri": "https://localhost:8080/",
          "height": 391
        }
      },
      "source": [
        "plt.figure(figsize=(10,6))\n",
        "plt.plot(his2)\n",
        "plt.grid('True')\n",
        "plt.legend(loc='upper right')\n",
        "plt.show()"
      ],
      "execution_count": 142,
      "outputs": [
        {
          "output_type": "stream",
          "text": [
            "No handles with labels found to put in legend.\n"
          ],
          "name": "stderr"
        },
        {
          "output_type": "display_data",
          "data": {
            "image/png": "[encoded data removed]",
            "text/plain": [
              "<Figure size 720x432 with 1 Axes>"
            ]
          },
          "metadata": {
            "tags": [],
            "needs_background": "light"
          }
        }
      ]
    },
    {
      "cell_type": "code",
      "metadata": {
        "id": "UJJGF3_fllH1"
      },
      "source": [
        ""
      ],
      "execution_count": null,
      "outputs": []
    }
  ]
}