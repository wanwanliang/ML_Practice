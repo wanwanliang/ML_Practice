{
  "nbformat": 4,
  "nbformat_minor": 0,
  "metadata": {
    "colab": {
      "name": "Feature Selection.ipynb",
      "provenance": [],
      "authorship_tag": "ABX9TyO0ezhyExz7j763XrO6GOr+",
      "include_colab_link": true
    },
    "kernelspec": {
      "name": "python3",
      "display_name": "Python 3"
    }
  },
  "cells": [
    {
      "cell_type": "markdown",
      "metadata": {
        "id": "view-in-github",
        "colab_type": "text"
      },
      "source": [
        "<a href=\"https://colab.research.google.com/github/wanwanliang/ML_Projects/blob/main/notebook/Feature_Selection.ipynb\" target=\"_parent\"><img src=\"https://colab.research.google.com/assets/colab-badge.svg\" alt=\"Open In Colab\"/></a>"
      ]
    },
    {
      "cell_type": "code",
      "metadata": {
        "id": "DhklEdsWvdQE"
      },
      "source": [
        "import numpy as np\n",
        "import os\n",
        "import sklearn\n",
        "import pandas as pd\n",
        "%matplotlib inline\n",
        "import matplotlib as mpl\n",
        "import matplotlib.pyplot as plt\n",
        "from google.colab import drive"
      ],
      "execution_count": 2,
      "outputs": []
    },
    {
      "cell_type": "code",
      "metadata": {
        "id": "a5q2KsdYv11A",
        "outputId": "01348fd3-1fc2-48e5-876f-dd6894fcccae",
        "colab": {
          "base_uri": "https://localhost:8080/",
          "height": 34
        }
      },
      "source": [
        "drive.mount('/content/drive')"
      ],
      "execution_count": 5,
      "outputs": [
        {
          "output_type": "stream",
          "text": [
            "Mounted at /content/drive\n"
          ],
          "name": "stdout"
        }
      ]
    },
    {
      "cell_type": "code",
      "metadata": {
        "id": "eVurCUzKv8qd"
      },
      "source": [
        "os.chdir('/content/drive/My Drive/ML/projects/feature_selection')"
      ],
      "execution_count": 6,
      "outputs": []
    },
    {
      "cell_type": "markdown",
      "metadata": {
        "id": "ZFF7Xg-W9C-R"
      },
      "source": [
        "## Data Exploring"
      ]
    },
    {
      "cell_type": "code",
      "metadata": {
        "id": "Vyc8Ta2hw6Eb",
        "outputId": "7b9df09e-adf0-4e61-e1e3-b8ebb3b12377",
        "colab": {
          "base_uri": "https://localhost:8080/",
          "height": 34
        }
      },
      "source": [
        "dt = pd.read_csv('train.csv')\n",
        "dt.shape"
      ],
      "execution_count": 7,
      "outputs": [
        {
          "output_type": "execute_result",
          "data": {
            "text/plain": [
              "(114321, 133)"
            ]
          },
          "metadata": {
            "tags": []
          },
          "execution_count": 7
        }
      ]
    },
    {
      "cell_type": "code",
      "metadata": {
        "id": "O_v0z4Q33C2B",
        "outputId": "3831f588-79ce-4a01-d126-656fc7472536",
        "colab": {
          "base_uri": "https://localhost:8080/",
          "height": 294
        }
      },
      "source": [
        "dt.head()"
      ],
      "execution_count": 25,
      "outputs": [
        {
          "output_type": "execute_result",
          "data": {
            "text/html": [
              "<div>\n",
              "<style scoped>\n",
              "    .dataframe tbody tr th:only-of-type {\n",
              "        vertical-align: middle;\n",
              "    }\n",
              "\n",
              "    .dataframe tbody tr th {\n",
              "        vertical-align: top;\n",
              "    }\n",
              "\n",
              "    .dataframe thead th {\n",
              "        text-align: right;\n",
              "    }\n",
              "</style>\n",
              "<table border=\"1\" class=\"dataframe\">\n",
              "  <thead>\n",
              "    <tr style=\"text-align: right;\">\n",
              "      <th></th>\n",
              "      <th>ID</th>\n",
              "      <th>target</th>\n",
              "      <th>v1</th>\n",
              "      <th>v2</th>\n",
              "      <th>v3</th>\n",
              "      <th>v4</th>\n",
              "      <th>v5</th>\n",
              "      <th>v6</th>\n",
              "      <th>v7</th>\n",
              "      <th>v8</th>\n",
              "      <th>v9</th>\n",
              "      <th>v10</th>\n",
              "      <th>v11</th>\n",
              "      <th>v12</th>\n",
              "      <th>v13</th>\n",
              "      <th>v14</th>\n",
              "      <th>v15</th>\n",
              "      <th>v16</th>\n",
              "      <th>v17</th>\n",
              "      <th>v18</th>\n",
              "      <th>v19</th>\n",
              "      <th>v20</th>\n",
              "      <th>v21</th>\n",
              "      <th>v22</th>\n",
              "      <th>v23</th>\n",
              "      <th>v24</th>\n",
              "      <th>v25</th>\n",
              "      <th>v26</th>\n",
              "      <th>v27</th>\n",
              "      <th>v28</th>\n",
              "      <th>v29</th>\n",
              "      <th>v30</th>\n",
              "      <th>v31</th>\n",
              "      <th>v32</th>\n",
              "      <th>v33</th>\n",
              "      <th>v34</th>\n",
              "      <th>v35</th>\n",
              "      <th>v36</th>\n",
              "      <th>v37</th>\n",
              "      <th>v38</th>\n",
              "      <th>...</th>\n",
              "      <th>v92</th>\n",
              "      <th>v93</th>\n",
              "      <th>v94</th>\n",
              "      <th>v95</th>\n",
              "      <th>v96</th>\n",
              "      <th>v97</th>\n",
              "      <th>v98</th>\n",
              "      <th>v99</th>\n",
              "      <th>v100</th>\n",
              "      <th>v101</th>\n",
              "      <th>v102</th>\n",
              "      <th>v103</th>\n",
              "      <th>v104</th>\n",
              "      <th>v105</th>\n",
              "      <th>v106</th>\n",
              "      <th>v107</th>\n",
              "      <th>v108</th>\n",
              "      <th>v109</th>\n",
              "      <th>v110</th>\n",
              "      <th>v111</th>\n",
              "      <th>v112</th>\n",
              "      <th>v113</th>\n",
              "      <th>v114</th>\n",
              "      <th>v115</th>\n",
              "      <th>v116</th>\n",
              "      <th>v117</th>\n",
              "      <th>v118</th>\n",
              "      <th>v119</th>\n",
              "      <th>v120</th>\n",
              "      <th>v121</th>\n",
              "      <th>v122</th>\n",
              "      <th>v123</th>\n",
              "      <th>v124</th>\n",
              "      <th>v125</th>\n",
              "      <th>v126</th>\n",
              "      <th>v127</th>\n",
              "      <th>v128</th>\n",
              "      <th>v129</th>\n",
              "      <th>v130</th>\n",
              "      <th>v131</th>\n",
              "    </tr>\n",
              "  </thead>\n",
              "  <tbody>\n",
              "    <tr>\n",
              "      <th>0</th>\n",
              "      <td>3</td>\n",
              "      <td>1</td>\n",
              "      <td>1.335739</td>\n",
              "      <td>8.727474</td>\n",
              "      <td>C</td>\n",
              "      <td>3.921026</td>\n",
              "      <td>7.915266</td>\n",
              "      <td>2.599278</td>\n",
              "      <td>3.176895</td>\n",
              "      <td>0.012941</td>\n",
              "      <td>9.999999</td>\n",
              "      <td>0.503281</td>\n",
              "      <td>16.434108</td>\n",
              "      <td>6.085711</td>\n",
              "      <td>2.866830</td>\n",
              "      <td>11.636387</td>\n",
              "      <td>1.355013</td>\n",
              "      <td>8.571429</td>\n",
              "      <td>3.670350</td>\n",
              "      <td>0.106720</td>\n",
              "      <td>0.148883</td>\n",
              "      <td>18.869283</td>\n",
              "      <td>7.730923</td>\n",
              "      <td>XDX</td>\n",
              "      <td>-1.716131e-08</td>\n",
              "      <td>C</td>\n",
              "      <td>0.139412</td>\n",
              "      <td>1.720818</td>\n",
              "      <td>3.393503</td>\n",
              "      <td>0.590122</td>\n",
              "      <td>8.880867</td>\n",
              "      <td>C</td>\n",
              "      <td>A</td>\n",
              "      <td>1.083033</td>\n",
              "      <td>1.010829</td>\n",
              "      <td>7.270147</td>\n",
              "      <td>8.375452</td>\n",
              "      <td>11.326592</td>\n",
              "      <td>0.454546</td>\n",
              "      <td>0</td>\n",
              "      <td>...</td>\n",
              "      <td>0.442252</td>\n",
              "      <td>5.814018</td>\n",
              "      <td>3.517720</td>\n",
              "      <td>0.462019</td>\n",
              "      <td>7.436824</td>\n",
              "      <td>5.454545</td>\n",
              "      <td>8.877414</td>\n",
              "      <td>1.191337</td>\n",
              "      <td>19.470199</td>\n",
              "      <td>8.389237</td>\n",
              "      <td>2.757375</td>\n",
              "      <td>4.374296</td>\n",
              "      <td>1.574039</td>\n",
              "      <td>0.007294</td>\n",
              "      <td>12.579184</td>\n",
              "      <td>E</td>\n",
              "      <td>2.382692</td>\n",
              "      <td>3.930922</td>\n",
              "      <td>B</td>\n",
              "      <td>0.433213</td>\n",
              "      <td>O</td>\n",
              "      <td>NaN</td>\n",
              "      <td>15.634907</td>\n",
              "      <td>2.857144</td>\n",
              "      <td>1.951220</td>\n",
              "      <td>6.592012</td>\n",
              "      <td>5.909091</td>\n",
              "      <td>-6.297423e-07</td>\n",
              "      <td>1.059603</td>\n",
              "      <td>0.803572</td>\n",
              "      <td>8.000000</td>\n",
              "      <td>1.989780</td>\n",
              "      <td>0.035754</td>\n",
              "      <td>AU</td>\n",
              "      <td>1.804126</td>\n",
              "      <td>3.113719</td>\n",
              "      <td>2.024285</td>\n",
              "      <td>0</td>\n",
              "      <td>0.636365</td>\n",
              "      <td>2.857144</td>\n",
              "    </tr>\n",
              "    <tr>\n",
              "      <th>1</th>\n",
              "      <td>4</td>\n",
              "      <td>1</td>\n",
              "      <td>NaN</td>\n",
              "      <td>NaN</td>\n",
              "      <td>C</td>\n",
              "      <td>NaN</td>\n",
              "      <td>9.191265</td>\n",
              "      <td>NaN</td>\n",
              "      <td>NaN</td>\n",
              "      <td>2.301630</td>\n",
              "      <td>NaN</td>\n",
              "      <td>1.312910</td>\n",
              "      <td>NaN</td>\n",
              "      <td>6.507647</td>\n",
              "      <td>NaN</td>\n",
              "      <td>11.636386</td>\n",
              "      <td>NaN</td>\n",
              "      <td>NaN</td>\n",
              "      <td>NaN</td>\n",
              "      <td>NaN</td>\n",
              "      <td>NaN</td>\n",
              "      <td>NaN</td>\n",
              "      <td>6.763110</td>\n",
              "      <td>GUV</td>\n",
              "      <td>NaN</td>\n",
              "      <td>C</td>\n",
              "      <td>3.056144</td>\n",
              "      <td>NaN</td>\n",
              "      <td>NaN</td>\n",
              "      <td>NaN</td>\n",
              "      <td>NaN</td>\n",
              "      <td>C</td>\n",
              "      <td>A</td>\n",
              "      <td>NaN</td>\n",
              "      <td>NaN</td>\n",
              "      <td>3.615077</td>\n",
              "      <td>NaN</td>\n",
              "      <td>14.579479</td>\n",
              "      <td>NaN</td>\n",
              "      <td>0</td>\n",
              "      <td>...</td>\n",
              "      <td>NaN</td>\n",
              "      <td>NaN</td>\n",
              "      <td>NaN</td>\n",
              "      <td>NaN</td>\n",
              "      <td>NaN</td>\n",
              "      <td>NaN</td>\n",
              "      <td>8.303967</td>\n",
              "      <td>NaN</td>\n",
              "      <td>NaN</td>\n",
              "      <td>NaN</td>\n",
              "      <td>NaN</td>\n",
              "      <td>NaN</td>\n",
              "      <td>NaN</td>\n",
              "      <td>1.505335</td>\n",
              "      <td>NaN</td>\n",
              "      <td>B</td>\n",
              "      <td>1.825361</td>\n",
              "      <td>4.247858</td>\n",
              "      <td>A</td>\n",
              "      <td>NaN</td>\n",
              "      <td>U</td>\n",
              "      <td>G</td>\n",
              "      <td>10.308044</td>\n",
              "      <td>NaN</td>\n",
              "      <td>NaN</td>\n",
              "      <td>10.595357</td>\n",
              "      <td>NaN</td>\n",
              "      <td>NaN</td>\n",
              "      <td>NaN</td>\n",
              "      <td>NaN</td>\n",
              "      <td>NaN</td>\n",
              "      <td>NaN</td>\n",
              "      <td>0.598896</td>\n",
              "      <td>AF</td>\n",
              "      <td>NaN</td>\n",
              "      <td>NaN</td>\n",
              "      <td>1.957825</td>\n",
              "      <td>0</td>\n",
              "      <td>NaN</td>\n",
              "      <td>NaN</td>\n",
              "    </tr>\n",
              "    <tr>\n",
              "      <th>2</th>\n",
              "      <td>5</td>\n",
              "      <td>1</td>\n",
              "      <td>0.943877</td>\n",
              "      <td>5.310079</td>\n",
              "      <td>C</td>\n",
              "      <td>4.410969</td>\n",
              "      <td>5.326159</td>\n",
              "      <td>3.979592</td>\n",
              "      <td>3.928571</td>\n",
              "      <td>0.019645</td>\n",
              "      <td>12.666667</td>\n",
              "      <td>0.765864</td>\n",
              "      <td>14.756098</td>\n",
              "      <td>6.384670</td>\n",
              "      <td>2.505589</td>\n",
              "      <td>9.603542</td>\n",
              "      <td>1.984127</td>\n",
              "      <td>5.882353</td>\n",
              "      <td>3.170847</td>\n",
              "      <td>0.244541</td>\n",
              "      <td>0.144258</td>\n",
              "      <td>17.952332</td>\n",
              "      <td>5.245035</td>\n",
              "      <td>FQ</td>\n",
              "      <td>-2.785053e-07</td>\n",
              "      <td>E</td>\n",
              "      <td>0.113997</td>\n",
              "      <td>2.244897</td>\n",
              "      <td>5.306122</td>\n",
              "      <td>0.836005</td>\n",
              "      <td>7.499999</td>\n",
              "      <td>NaN</td>\n",
              "      <td>A</td>\n",
              "      <td>1.454082</td>\n",
              "      <td>1.734693</td>\n",
              "      <td>4.043864</td>\n",
              "      <td>7.959184</td>\n",
              "      <td>12.730517</td>\n",
              "      <td>0.259740</td>\n",
              "      <td>0</td>\n",
              "      <td>...</td>\n",
              "      <td>0.271480</td>\n",
              "      <td>5.156559</td>\n",
              "      <td>4.214944</td>\n",
              "      <td>0.309657</td>\n",
              "      <td>5.663265</td>\n",
              "      <td>5.974026</td>\n",
              "      <td>11.588858</td>\n",
              "      <td>0.841837</td>\n",
              "      <td>15.491329</td>\n",
              "      <td>5.879353</td>\n",
              "      <td>3.292788</td>\n",
              "      <td>5.924457</td>\n",
              "      <td>1.668401</td>\n",
              "      <td>0.008275</td>\n",
              "      <td>11.670572</td>\n",
              "      <td>C</td>\n",
              "      <td>1.375753</td>\n",
              "      <td>1.184211</td>\n",
              "      <td>B</td>\n",
              "      <td>3.367348</td>\n",
              "      <td>S</td>\n",
              "      <td>NaN</td>\n",
              "      <td>11.205561</td>\n",
              "      <td>12.941177</td>\n",
              "      <td>3.129253</td>\n",
              "      <td>3.478911</td>\n",
              "      <td>6.233767</td>\n",
              "      <td>-2.792745e-07</td>\n",
              "      <td>2.138728</td>\n",
              "      <td>2.238806</td>\n",
              "      <td>9.333333</td>\n",
              "      <td>2.477596</td>\n",
              "      <td>0.013452</td>\n",
              "      <td>AE</td>\n",
              "      <td>1.773709</td>\n",
              "      <td>3.922193</td>\n",
              "      <td>1.120468</td>\n",
              "      <td>2</td>\n",
              "      <td>0.883118</td>\n",
              "      <td>1.176472</td>\n",
              "    </tr>\n",
              "    <tr>\n",
              "      <th>3</th>\n",
              "      <td>6</td>\n",
              "      <td>1</td>\n",
              "      <td>0.797415</td>\n",
              "      <td>8.304757</td>\n",
              "      <td>C</td>\n",
              "      <td>4.225930</td>\n",
              "      <td>11.627438</td>\n",
              "      <td>2.097700</td>\n",
              "      <td>1.987549</td>\n",
              "      <td>0.171947</td>\n",
              "      <td>8.965516</td>\n",
              "      <td>6.542669</td>\n",
              "      <td>16.347483</td>\n",
              "      <td>9.646653</td>\n",
              "      <td>3.903302</td>\n",
              "      <td>14.094723</td>\n",
              "      <td>1.945044</td>\n",
              "      <td>5.517242</td>\n",
              "      <td>3.610789</td>\n",
              "      <td>1.224114</td>\n",
              "      <td>0.231630</td>\n",
              "      <td>18.376407</td>\n",
              "      <td>7.517125</td>\n",
              "      <td>ACUE</td>\n",
              "      <td>-4.805344e-07</td>\n",
              "      <td>D</td>\n",
              "      <td>0.148843</td>\n",
              "      <td>1.308269</td>\n",
              "      <td>2.303640</td>\n",
              "      <td>8.926662</td>\n",
              "      <td>8.874521</td>\n",
              "      <td>C</td>\n",
              "      <td>B</td>\n",
              "      <td>1.587644</td>\n",
              "      <td>1.666667</td>\n",
              "      <td>8.703550</td>\n",
              "      <td>8.898468</td>\n",
              "      <td>11.302795</td>\n",
              "      <td>0.433735</td>\n",
              "      <td>0</td>\n",
              "      <td>...</td>\n",
              "      <td>0.763925</td>\n",
              "      <td>5.498902</td>\n",
              "      <td>3.423944</td>\n",
              "      <td>0.832518</td>\n",
              "      <td>7.375480</td>\n",
              "      <td>6.746988</td>\n",
              "      <td>6.942002</td>\n",
              "      <td>1.334611</td>\n",
              "      <td>18.256352</td>\n",
              "      <td>8.507281</td>\n",
              "      <td>2.503055</td>\n",
              "      <td>4.872157</td>\n",
              "      <td>2.573664</td>\n",
              "      <td>0.113967</td>\n",
              "      <td>12.554274</td>\n",
              "      <td>B</td>\n",
              "      <td>2.230754</td>\n",
              "      <td>1.990131</td>\n",
              "      <td>B</td>\n",
              "      <td>2.643678</td>\n",
              "      <td>J</td>\n",
              "      <td>NaN</td>\n",
              "      <td>13.777666</td>\n",
              "      <td>10.574713</td>\n",
              "      <td>1.511063</td>\n",
              "      <td>4.949609</td>\n",
              "      <td>7.180722</td>\n",
              "      <td>5.655086e-01</td>\n",
              "      <td>1.166281</td>\n",
              "      <td>1.956521</td>\n",
              "      <td>7.018256</td>\n",
              "      <td>1.812795</td>\n",
              "      <td>0.002267</td>\n",
              "      <td>CJ</td>\n",
              "      <td>1.415230</td>\n",
              "      <td>2.954381</td>\n",
              "      <td>1.990847</td>\n",
              "      <td>1</td>\n",
              "      <td>1.677108</td>\n",
              "      <td>1.034483</td>\n",
              "    </tr>\n",
              "    <tr>\n",
              "      <th>4</th>\n",
              "      <td>8</td>\n",
              "      <td>1</td>\n",
              "      <td>NaN</td>\n",
              "      <td>NaN</td>\n",
              "      <td>C</td>\n",
              "      <td>NaN</td>\n",
              "      <td>NaN</td>\n",
              "      <td>NaN</td>\n",
              "      <td>NaN</td>\n",
              "      <td>NaN</td>\n",
              "      <td>NaN</td>\n",
              "      <td>1.050328</td>\n",
              "      <td>NaN</td>\n",
              "      <td>6.320087</td>\n",
              "      <td>NaN</td>\n",
              "      <td>10.991098</td>\n",
              "      <td>NaN</td>\n",
              "      <td>NaN</td>\n",
              "      <td>NaN</td>\n",
              "      <td>NaN</td>\n",
              "      <td>NaN</td>\n",
              "      <td>NaN</td>\n",
              "      <td>6.414567</td>\n",
              "      <td>HIT</td>\n",
              "      <td>NaN</td>\n",
              "      <td>E</td>\n",
              "      <td>NaN</td>\n",
              "      <td>NaN</td>\n",
              "      <td>NaN</td>\n",
              "      <td>NaN</td>\n",
              "      <td>NaN</td>\n",
              "      <td>NaN</td>\n",
              "      <td>A</td>\n",
              "      <td>NaN</td>\n",
              "      <td>NaN</td>\n",
              "      <td>6.083151</td>\n",
              "      <td>NaN</td>\n",
              "      <td>NaN</td>\n",
              "      <td>NaN</td>\n",
              "      <td>0</td>\n",
              "      <td>...</td>\n",
              "      <td>NaN</td>\n",
              "      <td>NaN</td>\n",
              "      <td>NaN</td>\n",
              "      <td>NaN</td>\n",
              "      <td>NaN</td>\n",
              "      <td>NaN</td>\n",
              "      <td>NaN</td>\n",
              "      <td>NaN</td>\n",
              "      <td>NaN</td>\n",
              "      <td>NaN</td>\n",
              "      <td>NaN</td>\n",
              "      <td>NaN</td>\n",
              "      <td>NaN</td>\n",
              "      <td>NaN</td>\n",
              "      <td>NaN</td>\n",
              "      <td>C</td>\n",
              "      <td>NaN</td>\n",
              "      <td>NaN</td>\n",
              "      <td>A</td>\n",
              "      <td>NaN</td>\n",
              "      <td>T</td>\n",
              "      <td>G</td>\n",
              "      <td>14.097099</td>\n",
              "      <td>NaN</td>\n",
              "      <td>NaN</td>\n",
              "      <td>NaN</td>\n",
              "      <td>NaN</td>\n",
              "      <td>NaN</td>\n",
              "      <td>NaN</td>\n",
              "      <td>NaN</td>\n",
              "      <td>NaN</td>\n",
              "      <td>NaN</td>\n",
              "      <td>NaN</td>\n",
              "      <td>Z</td>\n",
              "      <td>NaN</td>\n",
              "      <td>NaN</td>\n",
              "      <td>NaN</td>\n",
              "      <td>0</td>\n",
              "      <td>NaN</td>\n",
              "      <td>NaN</td>\n",
              "    </tr>\n",
              "  </tbody>\n",
              "</table>\n",
              "<p>5 rows × 133 columns</p>\n",
              "</div>"
            ],
            "text/plain": [
              "   ID  target        v1        v2  ...      v128  v129      v130      v131\n",
              "0   3       1  1.335739  8.727474  ...  2.024285     0  0.636365  2.857144\n",
              "1   4       1       NaN       NaN  ...  1.957825     0       NaN       NaN\n",
              "2   5       1  0.943877  5.310079  ...  1.120468     2  0.883118  1.176472\n",
              "3   6       1  0.797415  8.304757  ...  1.990847     1  1.677108  1.034483\n",
              "4   8       1       NaN       NaN  ...       NaN     0       NaN       NaN\n",
              "\n",
              "[5 rows x 133 columns]"
            ]
          },
          "metadata": {
            "tags": []
          },
          "execution_count": 25
        }
      ]
    },
    {
      "cell_type": "code",
      "metadata": {
        "id": "96ZEKB_5xBWN"
      },
      "source": [
        "var_type = []\n",
        "[var_type.append(type(dt.iloc[0,i])) for i in range(len(dt.columns))]"
      ],
      "execution_count": null,
      "outputs": []
    },
    {
      "cell_type": "code",
      "metadata": {
        "id": "Eq6ZfENQxJLW",
        "outputId": "6ab5c345-731a-47a2-a8db-5a8cec778df6",
        "colab": {
          "base_uri": "https://localhost:8080/",
          "height": 34
        }
      },
      "source": [
        "import collections\n",
        "collections.Counter(var_type)"
      ],
      "execution_count": 24,
      "outputs": [
        {
          "output_type": "execute_result",
          "data": {
            "text/plain": [
              "Counter({float: 1, numpy.float64: 108, numpy.int64: 6, str: 18})"
            ]
          },
          "metadata": {
            "tags": []
          },
          "execution_count": 24
        }
      ]
    },
    {
      "cell_type": "markdown",
      "metadata": {
        "id": "oBJA8pJ59LZy"
      },
      "source": [
        "### Keep numerical columns"
      ]
    },
    {
      "cell_type": "code",
      "metadata": {
        "id": "38yBiObEx0u1",
        "outputId": "11aa22c4-c902-43bf-9b45-d74f91f47aa3",
        "colab": {
          "base_uri": "https://localhost:8080/",
          "height": 34
        }
      },
      "source": [
        "dt2 = dt.select_dtypes('number')\n",
        "dt2.shape"
      ],
      "execution_count": 28,
      "outputs": [
        {
          "output_type": "execute_result",
          "data": {
            "text/plain": [
              "(114321, 114)"
            ]
          },
          "metadata": {
            "tags": []
          },
          "execution_count": 28
        }
      ]
    },
    {
      "cell_type": "code",
      "metadata": {
        "id": "XqjPzwrM5p9K",
        "outputId": "8d3706a2-0730-44cb-b5b0-b6fd434bc3ab",
        "colab": {
          "base_uri": "https://localhost:8080/",
          "height": 218
        }
      },
      "source": [
        "dt2.isnull().sum(axis=0)"
      ],
      "execution_count": 31,
      "outputs": [
        {
          "output_type": "execute_result",
          "data": {
            "text/plain": [
              "ID            0\n",
              "target        0\n",
              "v1        49832\n",
              "v2        49796\n",
              "v4        49796\n",
              "          ...  \n",
              "v127      49832\n",
              "v128      48624\n",
              "v129          0\n",
              "v130      49843\n",
              "v131      49895\n",
              "Length: 114, dtype: int64"
            ]
          },
          "metadata": {
            "tags": []
          },
          "execution_count": 31
        }
      ]
    },
    {
      "cell_type": "markdown",
      "metadata": {
        "id": "gWK7eSmM9PkF"
      },
      "source": [
        "### Remove observations with null values "
      ]
    },
    {
      "cell_type": "code",
      "metadata": {
        "id": "hEzmYzcB8Bk-",
        "outputId": "b229418b-92da-4b29-94b7-549f995bd04a",
        "colab": {
          "base_uri": "https://localhost:8080/",
          "height": 34
        }
      },
      "source": [
        "dt3 = dt2[dt2.isnull().sum(axis=1)==0]\n",
        "dt3.shape"
      ],
      "execution_count": 33,
      "outputs": [
        {
          "output_type": "execute_result",
          "data": {
            "text/plain": [
              "(62561, 114)"
            ]
          },
          "metadata": {
            "tags": []
          },
          "execution_count": 33
        }
      ]
    },
    {
      "cell_type": "code",
      "metadata": {
        "id": "dPuErgZM8pTj",
        "outputId": "f1c73d4f-fbb5-4b32-d4d7-166187766806",
        "colab": {
          "base_uri": "https://localhost:8080/",
          "height": 34
        }
      },
      "source": [
        "collections.Counter(dt3.isnull().sum(axis=0))"
      ],
      "execution_count": 34,
      "outputs": [
        {
          "output_type": "execute_result",
          "data": {
            "text/plain": [
              "Counter({0: 114})"
            ]
          },
          "metadata": {
            "tags": []
          },
          "execution_count": 34
        }
      ]
    },
    {
      "cell_type": "markdown",
      "metadata": {
        "id": "lATrq43_83_N"
      },
      "source": [
        "## Model training and feature selection"
      ]
    },
    {
      "cell_type": "markdown",
      "metadata": {
        "id": "JxK3sCvY-TfG"
      },
      "source": [
        "### Spliting data into train and validation"
      ]
    },
    {
      "cell_type": "code",
      "metadata": {
        "id": "RqJNKFte9loS"
      },
      "source": [
        "from sklearn.model_selection import train_test_split\n",
        "\n",
        "train_x, valid_x, train_y, valid_y = train_test_split(\n",
        "    dt3.drop(labels=['target', 'ID'], axis=1),\n",
        "    dt3['target'],\n",
        "    test_size=0.3,\n",
        "    random_state=6\n",
        ")"
      ],
      "execution_count": 35,
      "outputs": []
    },
    {
      "cell_type": "code",
      "metadata": {
        "id": "bM4YKAgI-JG4",
        "outputId": "2e4279be-eaf7-4da6-c94a-25baaa25aedb",
        "colab": {
          "base_uri": "https://localhost:8080/",
          "height": 34
        }
      },
      "source": [
        "train_x.shape, valid_x.shape"
      ],
      "execution_count": 36,
      "outputs": [
        {
          "output_type": "execute_result",
          "data": {
            "text/plain": [
              "((43792, 112), (18769, 112))"
            ]
          },
          "metadata": {
            "tags": []
          },
          "execution_count": 36
        }
      ]
    },
    {
      "cell_type": "markdown",
      "metadata": {
        "id": "yEmnuFZX-N00"
      },
      "source": [
        "### Data scaling"
      ]
    },
    {
      "cell_type": "code",
      "metadata": {
        "id": "chVhmdBh-d8L"
      },
      "source": [
        "from sklearn.preprocessing import StandardScaler\n",
        "\n",
        "scaler = StandardScaler()\n",
        "scaler.fit(train_x)\n",
        "train_x2, valid_x2 = scaler.transform(train_x), scaler.transform(valid_x)"
      ],
      "execution_count": 37,
      "outputs": []
    },
    {
      "cell_type": "markdown",
      "metadata": {
        "id": "yxlwNlbN-7NV"
      },
      "source": [
        "### Using Lasso regression and select features"
      ]
    },
    {
      "cell_type": "code",
      "metadata": {
        "id": "sGq_ab_9_Jk9"
      },
      "source": [
        "from sklearn.linear_model import Lasso"
      ],
      "execution_count": 38,
      "outputs": []
    },
    {
      "cell_type": "code",
      "metadata": {
        "id": "0Mn1qt9R_MIy"
      },
      "source": [
        ""
      ],
      "execution_count": null,
      "outputs": []
    }
  ]
}