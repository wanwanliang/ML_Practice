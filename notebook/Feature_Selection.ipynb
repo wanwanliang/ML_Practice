{
  "nbformat": 4,
  "nbformat_minor": 0,
  "metadata": {
    "colab": {
      "name": "Feature Selection.ipynb",
      "provenance": [],
      "collapsed_sections": [],
      "authorship_tag": "ABX9TyMnCqkrGJnTutQ0LLMclKxL",
      "include_colab_link": true
    },
    "kernelspec": {
      "name": "python3",
      "display_name": "Python 3"
    }
  },
  "cells": [
    {
      "cell_type": "markdown",
      "metadata": {
        "id": "view-in-github",
        "colab_type": "text"
      },
      "source": [
        "<a href=\"https://colab.research.google.com/github/wanwanliang/ML_Projects/blob/main/notebook/Feature_Selection.ipynb\" target=\"_parent\"><img src=\"https://colab.research.google.com/assets/colab-badge.svg\" alt=\"Open In Colab\"/></a>"
      ]
    },
    {
      "cell_type": "code",
      "metadata": {
        "id": "DhklEdsWvdQE"
      },
      "source": [
        "import numpy as np\n",
        "import os\n",
        "import sklearn\n",
        "import pandas as pd\n",
        "%matplotlib inline\n",
        "import matplotlib as mpl\n",
        "import matplotlib.pyplot as plt\n",
        "from google.colab import drive"
      ],
      "execution_count": 1,
      "outputs": []
    },
    {
      "cell_type": "code",
      "metadata": {
        "id": "a5q2KsdYv11A",
        "outputId": "2dc30ec6-4008-40fe-d5f3-0fac628b4f7b",
        "colab": {
          "base_uri": "https://localhost:8080/",
          "height": 34
        }
      },
      "source": [
        "drive.mount('/content/drive')"
      ],
      "execution_count": 2,
      "outputs": [
        {
          "output_type": "stream",
          "text": [
            "Drive already mounted at /content/drive; to attempt to forcibly remount, call drive.mount(\"/content/drive\", force_remount=True).\n"
          ],
          "name": "stdout"
        }
      ]
    },
    {
      "cell_type": "code",
      "metadata": {
        "id": "eVurCUzKv8qd"
      },
      "source": [
        "os.chdir('/content/drive/My Drive/ML/projects/feature_selection')"
      ],
      "execution_count": 3,
      "outputs": []
    },
    {
      "cell_type": "markdown",
      "metadata": {
        "id": "ZFF7Xg-W9C-R"
      },
      "source": [
        "## Data Exploring"
      ]
    },
    {
      "cell_type": "code",
      "metadata": {
        "id": "Vyc8Ta2hw6Eb",
        "outputId": "347eb462-e5a1-4994-98dd-7e7a84d686b9",
        "colab": {
          "base_uri": "https://localhost:8080/",
          "height": 34
        }
      },
      "source": [
        "dt = pd.read_csv('train.csv')\n",
        "dt.shape"
      ],
      "execution_count": 4,
      "outputs": [
        {
          "output_type": "execute_result",
          "data": {
            "text/plain": [
              "(114321, 133)"
            ]
          },
          "metadata": {
            "tags": []
          },
          "execution_count": 4
        }
      ]
    },
    {
      "cell_type": "code",
      "metadata": {
        "id": "O_v0z4Q33C2B",
        "outputId": "53073d88-e10a-498b-ed4a-cd7a58fc87f5",
        "colab": {
          "base_uri": "https://localhost:8080/",
          "height": 294
        }
      },
      "source": [
        "dt.head()"
      ],
      "execution_count": 5,
      "outputs": [
        {
          "output_type": "execute_result",
          "data": {
            "text/html": [
              "<div>\n",
              "<style scoped>\n",
              "    .dataframe tbody tr th:only-of-type {\n",
              "        vertical-align: middle;\n",
              "    }\n",
              "\n",
              "    .dataframe tbody tr th {\n",
              "        vertical-align: top;\n",
              "    }\n",
              "\n",
              "    .dataframe thead th {\n",
              "        text-align: right;\n",
              "    }\n",
              "</style>\n",
              "<table border=\"1\" class=\"dataframe\">\n",
              "  <thead>\n",
              "    <tr style=\"text-align: right;\">\n",
              "      <th></th>\n",
              "      <th>ID</th>\n",
              "      <th>target</th>\n",
              "      <th>v1</th>\n",
              "      <th>v2</th>\n",
              "      <th>v3</th>\n",
              "      <th>v4</th>\n",
              "      <th>v5</th>\n",
              "      <th>v6</th>\n",
              "      <th>v7</th>\n",
              "      <th>v8</th>\n",
              "      <th>v9</th>\n",
              "      <th>v10</th>\n",
              "      <th>v11</th>\n",
              "      <th>v12</th>\n",
              "      <th>v13</th>\n",
              "      <th>v14</th>\n",
              "      <th>v15</th>\n",
              "      <th>v16</th>\n",
              "      <th>v17</th>\n",
              "      <th>v18</th>\n",
              "      <th>v19</th>\n",
              "      <th>v20</th>\n",
              "      <th>v21</th>\n",
              "      <th>v22</th>\n",
              "      <th>v23</th>\n",
              "      <th>v24</th>\n",
              "      <th>v25</th>\n",
              "      <th>v26</th>\n",
              "      <th>v27</th>\n",
              "      <th>v28</th>\n",
              "      <th>v29</th>\n",
              "      <th>v30</th>\n",
              "      <th>v31</th>\n",
              "      <th>v32</th>\n",
              "      <th>v33</th>\n",
              "      <th>v34</th>\n",
              "      <th>v35</th>\n",
              "      <th>v36</th>\n",
              "      <th>v37</th>\n",
              "      <th>v38</th>\n",
              "      <th>...</th>\n",
              "      <th>v92</th>\n",
              "      <th>v93</th>\n",
              "      <th>v94</th>\n",
              "      <th>v95</th>\n",
              "      <th>v96</th>\n",
              "      <th>v97</th>\n",
              "      <th>v98</th>\n",
              "      <th>v99</th>\n",
              "      <th>v100</th>\n",
              "      <th>v101</th>\n",
              "      <th>v102</th>\n",
              "      <th>v103</th>\n",
              "      <th>v104</th>\n",
              "      <th>v105</th>\n",
              "      <th>v106</th>\n",
              "      <th>v107</th>\n",
              "      <th>v108</th>\n",
              "      <th>v109</th>\n",
              "      <th>v110</th>\n",
              "      <th>v111</th>\n",
              "      <th>v112</th>\n",
              "      <th>v113</th>\n",
              "      <th>v114</th>\n",
              "      <th>v115</th>\n",
              "      <th>v116</th>\n",
              "      <th>v117</th>\n",
              "      <th>v118</th>\n",
              "      <th>v119</th>\n",
              "      <th>v120</th>\n",
              "      <th>v121</th>\n",
              "      <th>v122</th>\n",
              "      <th>v123</th>\n",
              "      <th>v124</th>\n",
              "      <th>v125</th>\n",
              "      <th>v126</th>\n",
              "      <th>v127</th>\n",
              "      <th>v128</th>\n",
              "      <th>v129</th>\n",
              "      <th>v130</th>\n",
              "      <th>v131</th>\n",
              "    </tr>\n",
              "  </thead>\n",
              "  <tbody>\n",
              "    <tr>\n",
              "      <th>0</th>\n",
              "      <td>3</td>\n",
              "      <td>1</td>\n",
              "      <td>1.335739</td>\n",
              "      <td>8.727474</td>\n",
              "      <td>C</td>\n",
              "      <td>3.921026</td>\n",
              "      <td>7.915266</td>\n",
              "      <td>2.599278</td>\n",
              "      <td>3.176895</td>\n",
              "      <td>0.012941</td>\n",
              "      <td>9.999999</td>\n",
              "      <td>0.503281</td>\n",
              "      <td>16.434108</td>\n",
              "      <td>6.085711</td>\n",
              "      <td>2.866830</td>\n",
              "      <td>11.636387</td>\n",
              "      <td>1.355013</td>\n",
              "      <td>8.571429</td>\n",
              "      <td>3.670350</td>\n",
              "      <td>0.106720</td>\n",
              "      <td>0.148883</td>\n",
              "      <td>18.869283</td>\n",
              "      <td>7.730923</td>\n",
              "      <td>XDX</td>\n",
              "      <td>-1.716131e-08</td>\n",
              "      <td>C</td>\n",
              "      <td>0.139412</td>\n",
              "      <td>1.720818</td>\n",
              "      <td>3.393503</td>\n",
              "      <td>0.590122</td>\n",
              "      <td>8.880867</td>\n",
              "      <td>C</td>\n",
              "      <td>A</td>\n",
              "      <td>1.083033</td>\n",
              "      <td>1.010829</td>\n",
              "      <td>7.270147</td>\n",
              "      <td>8.375452</td>\n",
              "      <td>11.326592</td>\n",
              "      <td>0.454546</td>\n",
              "      <td>0</td>\n",
              "      <td>...</td>\n",
              "      <td>0.442252</td>\n",
              "      <td>5.814018</td>\n",
              "      <td>3.517720</td>\n",
              "      <td>0.462019</td>\n",
              "      <td>7.436824</td>\n",
              "      <td>5.454545</td>\n",
              "      <td>8.877414</td>\n",
              "      <td>1.191337</td>\n",
              "      <td>19.470199</td>\n",
              "      <td>8.389237</td>\n",
              "      <td>2.757375</td>\n",
              "      <td>4.374296</td>\n",
              "      <td>1.574039</td>\n",
              "      <td>0.007294</td>\n",
              "      <td>12.579184</td>\n",
              "      <td>E</td>\n",
              "      <td>2.382692</td>\n",
              "      <td>3.930922</td>\n",
              "      <td>B</td>\n",
              "      <td>0.433213</td>\n",
              "      <td>O</td>\n",
              "      <td>NaN</td>\n",
              "      <td>15.634907</td>\n",
              "      <td>2.857144</td>\n",
              "      <td>1.951220</td>\n",
              "      <td>6.592012</td>\n",
              "      <td>5.909091</td>\n",
              "      <td>-6.297423e-07</td>\n",
              "      <td>1.059603</td>\n",
              "      <td>0.803572</td>\n",
              "      <td>8.000000</td>\n",
              "      <td>1.989780</td>\n",
              "      <td>0.035754</td>\n",
              "      <td>AU</td>\n",
              "      <td>1.804126</td>\n",
              "      <td>3.113719</td>\n",
              "      <td>2.024285</td>\n",
              "      <td>0</td>\n",
              "      <td>0.636365</td>\n",
              "      <td>2.857144</td>\n",
              "    </tr>\n",
              "    <tr>\n",
              "      <th>1</th>\n",
              "      <td>4</td>\n",
              "      <td>1</td>\n",
              "      <td>NaN</td>\n",
              "      <td>NaN</td>\n",
              "      <td>C</td>\n",
              "      <td>NaN</td>\n",
              "      <td>9.191265</td>\n",
              "      <td>NaN</td>\n",
              "      <td>NaN</td>\n",
              "      <td>2.301630</td>\n",
              "      <td>NaN</td>\n",
              "      <td>1.312910</td>\n",
              "      <td>NaN</td>\n",
              "      <td>6.507647</td>\n",
              "      <td>NaN</td>\n",
              "      <td>11.636386</td>\n",
              "      <td>NaN</td>\n",
              "      <td>NaN</td>\n",
              "      <td>NaN</td>\n",
              "      <td>NaN</td>\n",
              "      <td>NaN</td>\n",
              "      <td>NaN</td>\n",
              "      <td>6.763110</td>\n",
              "      <td>GUV</td>\n",
              "      <td>NaN</td>\n",
              "      <td>C</td>\n",
              "      <td>3.056144</td>\n",
              "      <td>NaN</td>\n",
              "      <td>NaN</td>\n",
              "      <td>NaN</td>\n",
              "      <td>NaN</td>\n",
              "      <td>C</td>\n",
              "      <td>A</td>\n",
              "      <td>NaN</td>\n",
              "      <td>NaN</td>\n",
              "      <td>3.615077</td>\n",
              "      <td>NaN</td>\n",
              "      <td>14.579479</td>\n",
              "      <td>NaN</td>\n",
              "      <td>0</td>\n",
              "      <td>...</td>\n",
              "      <td>NaN</td>\n",
              "      <td>NaN</td>\n",
              "      <td>NaN</td>\n",
              "      <td>NaN</td>\n",
              "      <td>NaN</td>\n",
              "      <td>NaN</td>\n",
              "      <td>8.303967</td>\n",
              "      <td>NaN</td>\n",
              "      <td>NaN</td>\n",
              "      <td>NaN</td>\n",
              "      <td>NaN</td>\n",
              "      <td>NaN</td>\n",
              "      <td>NaN</td>\n",
              "      <td>1.505335</td>\n",
              "      <td>NaN</td>\n",
              "      <td>B</td>\n",
              "      <td>1.825361</td>\n",
              "      <td>4.247858</td>\n",
              "      <td>A</td>\n",
              "      <td>NaN</td>\n",
              "      <td>U</td>\n",
              "      <td>G</td>\n",
              "      <td>10.308044</td>\n",
              "      <td>NaN</td>\n",
              "      <td>NaN</td>\n",
              "      <td>10.595357</td>\n",
              "      <td>NaN</td>\n",
              "      <td>NaN</td>\n",
              "      <td>NaN</td>\n",
              "      <td>NaN</td>\n",
              "      <td>NaN</td>\n",
              "      <td>NaN</td>\n",
              "      <td>0.598896</td>\n",
              "      <td>AF</td>\n",
              "      <td>NaN</td>\n",
              "      <td>NaN</td>\n",
              "      <td>1.957825</td>\n",
              "      <td>0</td>\n",
              "      <td>NaN</td>\n",
              "      <td>NaN</td>\n",
              "    </tr>\n",
              "    <tr>\n",
              "      <th>2</th>\n",
              "      <td>5</td>\n",
              "      <td>1</td>\n",
              "      <td>0.943877</td>\n",
              "      <td>5.310079</td>\n",
              "      <td>C</td>\n",
              "      <td>4.410969</td>\n",
              "      <td>5.326159</td>\n",
              "      <td>3.979592</td>\n",
              "      <td>3.928571</td>\n",
              "      <td>0.019645</td>\n",
              "      <td>12.666667</td>\n",
              "      <td>0.765864</td>\n",
              "      <td>14.756098</td>\n",
              "      <td>6.384670</td>\n",
              "      <td>2.505589</td>\n",
              "      <td>9.603542</td>\n",
              "      <td>1.984127</td>\n",
              "      <td>5.882353</td>\n",
              "      <td>3.170847</td>\n",
              "      <td>0.244541</td>\n",
              "      <td>0.144258</td>\n",
              "      <td>17.952332</td>\n",
              "      <td>5.245035</td>\n",
              "      <td>FQ</td>\n",
              "      <td>-2.785053e-07</td>\n",
              "      <td>E</td>\n",
              "      <td>0.113997</td>\n",
              "      <td>2.244897</td>\n",
              "      <td>5.306122</td>\n",
              "      <td>0.836005</td>\n",
              "      <td>7.499999</td>\n",
              "      <td>NaN</td>\n",
              "      <td>A</td>\n",
              "      <td>1.454082</td>\n",
              "      <td>1.734693</td>\n",
              "      <td>4.043864</td>\n",
              "      <td>7.959184</td>\n",
              "      <td>12.730517</td>\n",
              "      <td>0.259740</td>\n",
              "      <td>0</td>\n",
              "      <td>...</td>\n",
              "      <td>0.271480</td>\n",
              "      <td>5.156559</td>\n",
              "      <td>4.214944</td>\n",
              "      <td>0.309657</td>\n",
              "      <td>5.663265</td>\n",
              "      <td>5.974026</td>\n",
              "      <td>11.588858</td>\n",
              "      <td>0.841837</td>\n",
              "      <td>15.491329</td>\n",
              "      <td>5.879353</td>\n",
              "      <td>3.292788</td>\n",
              "      <td>5.924457</td>\n",
              "      <td>1.668401</td>\n",
              "      <td>0.008275</td>\n",
              "      <td>11.670572</td>\n",
              "      <td>C</td>\n",
              "      <td>1.375753</td>\n",
              "      <td>1.184211</td>\n",
              "      <td>B</td>\n",
              "      <td>3.367348</td>\n",
              "      <td>S</td>\n",
              "      <td>NaN</td>\n",
              "      <td>11.205561</td>\n",
              "      <td>12.941177</td>\n",
              "      <td>3.129253</td>\n",
              "      <td>3.478911</td>\n",
              "      <td>6.233767</td>\n",
              "      <td>-2.792745e-07</td>\n",
              "      <td>2.138728</td>\n",
              "      <td>2.238806</td>\n",
              "      <td>9.333333</td>\n",
              "      <td>2.477596</td>\n",
              "      <td>0.013452</td>\n",
              "      <td>AE</td>\n",
              "      <td>1.773709</td>\n",
              "      <td>3.922193</td>\n",
              "      <td>1.120468</td>\n",
              "      <td>2</td>\n",
              "      <td>0.883118</td>\n",
              "      <td>1.176472</td>\n",
              "    </tr>\n",
              "    <tr>\n",
              "      <th>3</th>\n",
              "      <td>6</td>\n",
              "      <td>1</td>\n",
              "      <td>0.797415</td>\n",
              "      <td>8.304757</td>\n",
              "      <td>C</td>\n",
              "      <td>4.225930</td>\n",
              "      <td>11.627438</td>\n",
              "      <td>2.097700</td>\n",
              "      <td>1.987549</td>\n",
              "      <td>0.171947</td>\n",
              "      <td>8.965516</td>\n",
              "      <td>6.542669</td>\n",
              "      <td>16.347483</td>\n",
              "      <td>9.646653</td>\n",
              "      <td>3.903302</td>\n",
              "      <td>14.094723</td>\n",
              "      <td>1.945044</td>\n",
              "      <td>5.517242</td>\n",
              "      <td>3.610789</td>\n",
              "      <td>1.224114</td>\n",
              "      <td>0.231630</td>\n",
              "      <td>18.376407</td>\n",
              "      <td>7.517125</td>\n",
              "      <td>ACUE</td>\n",
              "      <td>-4.805344e-07</td>\n",
              "      <td>D</td>\n",
              "      <td>0.148843</td>\n",
              "      <td>1.308269</td>\n",
              "      <td>2.303640</td>\n",
              "      <td>8.926662</td>\n",
              "      <td>8.874521</td>\n",
              "      <td>C</td>\n",
              "      <td>B</td>\n",
              "      <td>1.587644</td>\n",
              "      <td>1.666667</td>\n",
              "      <td>8.703550</td>\n",
              "      <td>8.898468</td>\n",
              "      <td>11.302795</td>\n",
              "      <td>0.433735</td>\n",
              "      <td>0</td>\n",
              "      <td>...</td>\n",
              "      <td>0.763925</td>\n",
              "      <td>5.498902</td>\n",
              "      <td>3.423944</td>\n",
              "      <td>0.832518</td>\n",
              "      <td>7.375480</td>\n",
              "      <td>6.746988</td>\n",
              "      <td>6.942002</td>\n",
              "      <td>1.334611</td>\n",
              "      <td>18.256352</td>\n",
              "      <td>8.507281</td>\n",
              "      <td>2.503055</td>\n",
              "      <td>4.872157</td>\n",
              "      <td>2.573664</td>\n",
              "      <td>0.113967</td>\n",
              "      <td>12.554274</td>\n",
              "      <td>B</td>\n",
              "      <td>2.230754</td>\n",
              "      <td>1.990131</td>\n",
              "      <td>B</td>\n",
              "      <td>2.643678</td>\n",
              "      <td>J</td>\n",
              "      <td>NaN</td>\n",
              "      <td>13.777666</td>\n",
              "      <td>10.574713</td>\n",
              "      <td>1.511063</td>\n",
              "      <td>4.949609</td>\n",
              "      <td>7.180722</td>\n",
              "      <td>5.655086e-01</td>\n",
              "      <td>1.166281</td>\n",
              "      <td>1.956521</td>\n",
              "      <td>7.018256</td>\n",
              "      <td>1.812795</td>\n",
              "      <td>0.002267</td>\n",
              "      <td>CJ</td>\n",
              "      <td>1.415230</td>\n",
              "      <td>2.954381</td>\n",
              "      <td>1.990847</td>\n",
              "      <td>1</td>\n",
              "      <td>1.677108</td>\n",
              "      <td>1.034483</td>\n",
              "    </tr>\n",
              "    <tr>\n",
              "      <th>4</th>\n",
              "      <td>8</td>\n",
              "      <td>1</td>\n",
              "      <td>NaN</td>\n",
              "      <td>NaN</td>\n",
              "      <td>C</td>\n",
              "      <td>NaN</td>\n",
              "      <td>NaN</td>\n",
              "      <td>NaN</td>\n",
              "      <td>NaN</td>\n",
              "      <td>NaN</td>\n",
              "      <td>NaN</td>\n",
              "      <td>1.050328</td>\n",
              "      <td>NaN</td>\n",
              "      <td>6.320087</td>\n",
              "      <td>NaN</td>\n",
              "      <td>10.991098</td>\n",
              "      <td>NaN</td>\n",
              "      <td>NaN</td>\n",
              "      <td>NaN</td>\n",
              "      <td>NaN</td>\n",
              "      <td>NaN</td>\n",
              "      <td>NaN</td>\n",
              "      <td>6.414567</td>\n",
              "      <td>HIT</td>\n",
              "      <td>NaN</td>\n",
              "      <td>E</td>\n",
              "      <td>NaN</td>\n",
              "      <td>NaN</td>\n",
              "      <td>NaN</td>\n",
              "      <td>NaN</td>\n",
              "      <td>NaN</td>\n",
              "      <td>NaN</td>\n",
              "      <td>A</td>\n",
              "      <td>NaN</td>\n",
              "      <td>NaN</td>\n",
              "      <td>6.083151</td>\n",
              "      <td>NaN</td>\n",
              "      <td>NaN</td>\n",
              "      <td>NaN</td>\n",
              "      <td>0</td>\n",
              "      <td>...</td>\n",
              "      <td>NaN</td>\n",
              "      <td>NaN</td>\n",
              "      <td>NaN</td>\n",
              "      <td>NaN</td>\n",
              "      <td>NaN</td>\n",
              "      <td>NaN</td>\n",
              "      <td>NaN</td>\n",
              "      <td>NaN</td>\n",
              "      <td>NaN</td>\n",
              "      <td>NaN</td>\n",
              "      <td>NaN</td>\n",
              "      <td>NaN</td>\n",
              "      <td>NaN</td>\n",
              "      <td>NaN</td>\n",
              "      <td>NaN</td>\n",
              "      <td>C</td>\n",
              "      <td>NaN</td>\n",
              "      <td>NaN</td>\n",
              "      <td>A</td>\n",
              "      <td>NaN</td>\n",
              "      <td>T</td>\n",
              "      <td>G</td>\n",
              "      <td>14.097099</td>\n",
              "      <td>NaN</td>\n",
              "      <td>NaN</td>\n",
              "      <td>NaN</td>\n",
              "      <td>NaN</td>\n",
              "      <td>NaN</td>\n",
              "      <td>NaN</td>\n",
              "      <td>NaN</td>\n",
              "      <td>NaN</td>\n",
              "      <td>NaN</td>\n",
              "      <td>NaN</td>\n",
              "      <td>Z</td>\n",
              "      <td>NaN</td>\n",
              "      <td>NaN</td>\n",
              "      <td>NaN</td>\n",
              "      <td>0</td>\n",
              "      <td>NaN</td>\n",
              "      <td>NaN</td>\n",
              "    </tr>\n",
              "  </tbody>\n",
              "</table>\n",
              "<p>5 rows × 133 columns</p>\n",
              "</div>"
            ],
            "text/plain": [
              "   ID  target        v1        v2  ...      v128  v129      v130      v131\n",
              "0   3       1  1.335739  8.727474  ...  2.024285     0  0.636365  2.857144\n",
              "1   4       1       NaN       NaN  ...  1.957825     0       NaN       NaN\n",
              "2   5       1  0.943877  5.310079  ...  1.120468     2  0.883118  1.176472\n",
              "3   6       1  0.797415  8.304757  ...  1.990847     1  1.677108  1.034483\n",
              "4   8       1       NaN       NaN  ...       NaN     0       NaN       NaN\n",
              "\n",
              "[5 rows x 133 columns]"
            ]
          },
          "metadata": {
            "tags": []
          },
          "execution_count": 5
        }
      ]
    },
    {
      "cell_type": "code",
      "metadata": {
        "id": "xa8EdmuKAN66",
        "outputId": "6fee9e6d-0ac7-4ebe-ec18-83f67ef552f2",
        "colab": {
          "base_uri": "https://localhost:8080/",
          "height": 34
        }
      },
      "source": [
        "import collections\n",
        "collections.Counter(dt['target'])"
      ],
      "execution_count": 8,
      "outputs": [
        {
          "output_type": "execute_result",
          "data": {
            "text/plain": [
              "Counter({0: 27300, 1: 87021})"
            ]
          },
          "metadata": {
            "tags": []
          },
          "execution_count": 8
        }
      ]
    },
    {
      "cell_type": "code",
      "metadata": {
        "id": "96ZEKB_5xBWN"
      },
      "source": [
        "var_type = []\n",
        "[var_type.append(type(dt.iloc[0,i])) for i in range(len(dt.columns))]"
      ],
      "execution_count": null,
      "outputs": []
    },
    {
      "cell_type": "code",
      "metadata": {
        "id": "Eq6ZfENQxJLW",
        "outputId": "ceb487e0-0d38-41e1-c45b-40cab1baf3cf",
        "colab": {
          "base_uri": "https://localhost:8080/",
          "height": 34
        }
      },
      "source": [
        "import collections\n",
        "collections.Counter(var_type)"
      ],
      "execution_count": 9,
      "outputs": [
        {
          "output_type": "execute_result",
          "data": {
            "text/plain": [
              "Counter({float: 1, numpy.float64: 108, numpy.int64: 6, str: 18})"
            ]
          },
          "metadata": {
            "tags": []
          },
          "execution_count": 9
        }
      ]
    },
    {
      "cell_type": "markdown",
      "metadata": {
        "id": "oBJA8pJ59LZy"
      },
      "source": [
        "### Keep numerical columns"
      ]
    },
    {
      "cell_type": "code",
      "metadata": {
        "id": "38yBiObEx0u1",
        "outputId": "6aa7f0e1-d823-429d-bca0-b1963e104fb0",
        "colab": {
          "base_uri": "https://localhost:8080/",
          "height": 34
        }
      },
      "source": [
        "dt2 = dt.select_dtypes('number')\n",
        "dt2.shape"
      ],
      "execution_count": 10,
      "outputs": [
        {
          "output_type": "execute_result",
          "data": {
            "text/plain": [
              "(114321, 114)"
            ]
          },
          "metadata": {
            "tags": []
          },
          "execution_count": 10
        }
      ]
    },
    {
      "cell_type": "code",
      "metadata": {
        "id": "XqjPzwrM5p9K",
        "outputId": "56f8d7f0-0906-4385-dcb3-238696edc494",
        "colab": {
          "base_uri": "https://localhost:8080/",
          "height": 218
        }
      },
      "source": [
        "dt2.isnull().sum(axis=0)"
      ],
      "execution_count": 11,
      "outputs": [
        {
          "output_type": "execute_result",
          "data": {
            "text/plain": [
              "ID            0\n",
              "target        0\n",
              "v1        49832\n",
              "v2        49796\n",
              "v4        49796\n",
              "          ...  \n",
              "v127      49832\n",
              "v128      48624\n",
              "v129          0\n",
              "v130      49843\n",
              "v131      49895\n",
              "Length: 114, dtype: int64"
            ]
          },
          "metadata": {
            "tags": []
          },
          "execution_count": 11
        }
      ]
    },
    {
      "cell_type": "markdown",
      "metadata": {
        "id": "gWK7eSmM9PkF"
      },
      "source": [
        "### Remove observations with null values "
      ]
    },
    {
      "cell_type": "code",
      "metadata": {
        "id": "hEzmYzcB8Bk-",
        "outputId": "cb804ae3-715c-4c2a-f382-f2a41099fe1b",
        "colab": {
          "base_uri": "https://localhost:8080/",
          "height": 34
        }
      },
      "source": [
        "dt3 = dt2[dt2.isnull().sum(axis=1)==0]\n",
        "dt3.shape"
      ],
      "execution_count": 12,
      "outputs": [
        {
          "output_type": "execute_result",
          "data": {
            "text/plain": [
              "(62561, 114)"
            ]
          },
          "metadata": {
            "tags": []
          },
          "execution_count": 12
        }
      ]
    },
    {
      "cell_type": "code",
      "metadata": {
        "id": "dPuErgZM8pTj",
        "outputId": "53b408a1-e037-45f0-89cd-95e3e1f4b697",
        "colab": {
          "base_uri": "https://localhost:8080/",
          "height": 34
        }
      },
      "source": [
        "import collections\n",
        "collections.Counter(dt3.isnull().sum(axis=0))"
      ],
      "execution_count": 13,
      "outputs": [
        {
          "output_type": "execute_result",
          "data": {
            "text/plain": [
              "Counter({0: 114})"
            ]
          },
          "metadata": {
            "tags": []
          },
          "execution_count": 13
        }
      ]
    },
    {
      "cell_type": "markdown",
      "metadata": {
        "id": "lATrq43_83_N"
      },
      "source": [
        "## Model training and feature selection"
      ]
    },
    {
      "cell_type": "markdown",
      "metadata": {
        "id": "JxK3sCvY-TfG"
      },
      "source": [
        "### Spliting data into train and validation"
      ]
    },
    {
      "cell_type": "code",
      "metadata": {
        "id": "RqJNKFte9loS"
      },
      "source": [
        "from sklearn.model_selection import train_test_split\n",
        "\n",
        "train_x, valid_x, train_y, valid_y = train_test_split(\n",
        "    dt3.drop(labels=['target', 'ID'], axis=1),\n",
        "    dt3['target'],\n",
        "    test_size=0.3,\n",
        "    random_state=6\n",
        ")"
      ],
      "execution_count": 14,
      "outputs": []
    },
    {
      "cell_type": "code",
      "metadata": {
        "id": "bM4YKAgI-JG4",
        "outputId": "c88b92b1-2fe9-47fe-f383-56813e5ffddb",
        "colab": {
          "base_uri": "https://localhost:8080/",
          "height": 34
        }
      },
      "source": [
        "train_x.shape, valid_x.shape"
      ],
      "execution_count": 15,
      "outputs": [
        {
          "output_type": "execute_result",
          "data": {
            "text/plain": [
              "((43792, 112), (18769, 112))"
            ]
          },
          "metadata": {
            "tags": []
          },
          "execution_count": 15
        }
      ]
    },
    {
      "cell_type": "markdown",
      "metadata": {
        "id": "yEmnuFZX-N00"
      },
      "source": [
        "### Data scaling"
      ]
    },
    {
      "cell_type": "code",
      "metadata": {
        "id": "chVhmdBh-d8L"
      },
      "source": [
        "from sklearn.preprocessing import StandardScaler\n",
        "\n",
        "scaler = StandardScaler()\n",
        "scaler.fit(train_x)\n",
        "train_x2, valid_x2 = scaler.transform(train_x), scaler.transform(valid_x)"
      ],
      "execution_count": 16,
      "outputs": []
    },
    {
      "cell_type": "markdown",
      "metadata": {
        "id": "yxlwNlbN-7NV"
      },
      "source": [
        "### Using Lasso regression for feature selection"
      ]
    },
    {
      "cell_type": "code",
      "metadata": {
        "id": "sGq_ab_9_Jk9"
      },
      "source": [
        "from sklearn.linear_model import Lasso, LogisticRegression\n",
        "from sklearn.feature_selection import SelectFromModel"
      ],
      "execution_count": 15,
      "outputs": []
    },
    {
      "cell_type": "code",
      "metadata": {
        "id": "0Mn1qt9R_MIy"
      },
      "source": [
        "fea_sel = SelectFromModel(LogisticRegression(C=0.1,solver='saga',max_iter=100,penalty='l1'), max_features=30)"
      ],
      "execution_count": 68,
      "outputs": []
    },
    {
      "cell_type": "code",
      "metadata": {
        "id": "k6JT_RnrD3a7",
        "outputId": "007596b3-1cdb-4417-c6dc-fa9f2dfcd0b1",
        "colab": {
          "base_uri": "https://localhost:8080/",
          "height": 202
        }
      },
      "source": [
        "fea_sel.fit(train_x2, train_y)"
      ],
      "execution_count": 69,
      "outputs": [
        {
          "output_type": "stream",
          "text": [
            "/usr/local/lib/python3.6/dist-packages/sklearn/linear_model/_sag.py:330: ConvergenceWarning: The max_iter was reached which means the coef_ did not converge\n",
            "  \"the coef_ did not converge\", ConvergenceWarning)\n"
          ],
          "name": "stderr"
        },
        {
          "output_type": "execute_result",
          "data": {
            "text/plain": [
              "SelectFromModel(estimator=LogisticRegression(C=0.1, class_weight=None,\n",
              "                                             dual=False, fit_intercept=True,\n",
              "                                             intercept_scaling=1, l1_ratio=None,\n",
              "                                             max_iter=100, multi_class='auto',\n",
              "                                             n_jobs=None, penalty='l1',\n",
              "                                             random_state=None, solver='saga',\n",
              "                                             tol=0.0001, verbose=0,\n",
              "                                             warm_start=False),\n",
              "                max_features=30, norm_order=1, prefit=False, threshold=None)"
            ]
          },
          "metadata": {
            "tags": []
          },
          "execution_count": 69
        }
      ]
    },
    {
      "cell_type": "code",
      "metadata": {
        "id": "WQ9HxoJvD9EW",
        "outputId": "1a1680d8-42f6-4848-f531-d2d95d848a04",
        "colab": {
          "base_uri": "https://localhost:8080/",
          "height": 235
        }
      },
      "source": [
        "fea_sel.get_support()"
      ],
      "execution_count": 70,
      "outputs": [
        {
          "output_type": "execute_result",
          "data": {
            "text/plain": [
              "array([False, False, False, False,  True, False,  True,  True, False,\n",
              "       False,  True, False,  True,  True, False, False,  True, False,\n",
              "       False,  True, False, False, False, False, False, False, False,\n",
              "       False,  True, False, False,  True,  True, False,  True, False,\n",
              "       False, False, False, False, False, False, False,  True, False,\n",
              "       False, False,  True, False, False,  True, False, False,  True,\n",
              "        True, False, False, False, False, False,  True,  True, False,\n",
              "        True, False, False, False, False, False, False,  True, False,\n",
              "       False, False, False, False, False, False,  True, False, False,\n",
              "       False, False,  True, False, False, False,  True, False, False,\n",
              "       False, False, False,  True,  True,  True, False, False,  True,\n",
              "       False, False, False, False, False, False, False, False, False,\n",
              "       False,  True, False,  True])"
            ]
          },
          "metadata": {
            "tags": []
          },
          "execution_count": 70
        }
      ]
    },
    {
      "cell_type": "code",
      "metadata": {
        "id": "MZsCe6xxEqTO",
        "outputId": "f2f902f4-db3f-4ca2-cbaf-03e4d4296eca",
        "colab": {
          "base_uri": "https://localhost:8080/",
          "height": 34
        }
      },
      "source": [
        "collections.Counter(fea_sel.get_support())"
      ],
      "execution_count": 71,
      "outputs": [
        {
          "output_type": "execute_result",
          "data": {
            "text/plain": [
              "Counter({False: 82, True: 30})"
            ]
          },
          "metadata": {
            "tags": []
          },
          "execution_count": 71
        }
      ]
    },
    {
      "cell_type": "code",
      "metadata": {
        "id": "wmGR2_5XFtpm",
        "outputId": "2e8f7339-a2fc-4972-b345-f8a4b9d5a64a",
        "colab": {
          "base_uri": "https://localhost:8080/",
          "height": 34
        }
      },
      "source": [
        "train_x3, valid_x3 = fea_sel.transform(train_x2), fea_sel.transform(valid_x2)\n",
        "train_x3.shape, valid_x3.shape"
      ],
      "execution_count": 72,
      "outputs": [
        {
          "output_type": "execute_result",
          "data": {
            "text/plain": [
              "((43792, 30), (18769, 30))"
            ]
          },
          "metadata": {
            "tags": []
          },
          "execution_count": 72
        }
      ]
    },
    {
      "cell_type": "code",
      "metadata": {
        "id": "OxwhGqu2KmfN",
        "outputId": "a24f08b1-cf35-4a8a-d463-e8a1241c6443",
        "colab": {
          "base_uri": "https://localhost:8080/",
          "height": 101
        }
      },
      "source": [
        "lg = LogisticRegression(C=1,max_iter=100,penalty='l2')\n",
        "lg.fit(train_x3, train_y)"
      ],
      "execution_count": 73,
      "outputs": [
        {
          "output_type": "execute_result",
          "data": {
            "text/plain": [
              "LogisticRegression(C=1, class_weight=None, dual=False, fit_intercept=True,\n",
              "                   intercept_scaling=1, l1_ratio=None, max_iter=100,\n",
              "                   multi_class='auto', n_jobs=None, penalty='l2',\n",
              "                   random_state=None, solver='lbfgs', tol=0.0001, verbose=0,\n",
              "                   warm_start=False)"
            ]
          },
          "metadata": {
            "tags": []
          },
          "execution_count": 73
        }
      ]
    },
    {
      "cell_type": "code",
      "metadata": {
        "id": "QdTfDIX3LJyq",
        "outputId": "0c9b1a7b-9ddd-463f-f796-d5fa92c1d2ca",
        "colab": {
          "base_uri": "https://localhost:8080/",
          "height": 34
        }
      },
      "source": [
        "lg.score(train_x3, train_y)"
      ],
      "execution_count": 74,
      "outputs": [
        {
          "output_type": "execute_result",
          "data": {
            "text/plain": [
              "0.7536536353671903"
            ]
          },
          "metadata": {
            "tags": []
          },
          "execution_count": 74
        }
      ]
    },
    {
      "cell_type": "code",
      "metadata": {
        "id": "awOsFNJaLZlB",
        "outputId": "67ccc6ba-a1a4-4bf9-d504-b35d2dfa9b2b",
        "colab": {
          "base_uri": "https://localhost:8080/",
          "height": 34
        }
      },
      "source": [
        "lg.score(valid_x3, valid_y)"
      ],
      "execution_count": 75,
      "outputs": [
        {
          "output_type": "execute_result",
          "data": {
            "text/plain": [
              "0.7581117800628696"
            ]
          },
          "metadata": {
            "tags": []
          },
          "execution_count": 75
        }
      ]
    },
    {
      "cell_type": "code",
      "metadata": {
        "id": "Wd9RiIgZL02k",
        "outputId": "db2f3cfb-d693-47fd-b4f6-fbb26279895a",
        "colab": {
          "base_uri": "https://localhost:8080/",
          "height": 235
        }
      },
      "source": [
        "lg2 = LogisticRegression(C=1,max_iter=100,penalty='l2')\n",
        "lg2.fit(train_x2, train_y)"
      ],
      "execution_count": 76,
      "outputs": [
        {
          "output_type": "stream",
          "text": [
            "/usr/local/lib/python3.6/dist-packages/sklearn/linear_model/_logistic.py:940: ConvergenceWarning: lbfgs failed to converge (status=1):\n",
            "STOP: TOTAL NO. of ITERATIONS REACHED LIMIT.\n",
            "\n",
            "Increase the number of iterations (max_iter) or scale the data as shown in:\n",
            "    https://scikit-learn.org/stable/modules/preprocessing.html\n",
            "Please also refer to the documentation for alternative solver options:\n",
            "    https://scikit-learn.org/stable/modules/linear_model.html#logistic-regression\n",
            "  extra_warning_msg=_LOGISTIC_SOLVER_CONVERGENCE_MSG)\n"
          ],
          "name": "stderr"
        },
        {
          "output_type": "execute_result",
          "data": {
            "text/plain": [
              "LogisticRegression(C=1, class_weight=None, dual=False, fit_intercept=True,\n",
              "                   intercept_scaling=1, l1_ratio=None, max_iter=100,\n",
              "                   multi_class='auto', n_jobs=None, penalty='l2',\n",
              "                   random_state=None, solver='lbfgs', tol=0.0001, verbose=0,\n",
              "                   warm_start=False)"
            ]
          },
          "metadata": {
            "tags": []
          },
          "execution_count": 76
        }
      ]
    },
    {
      "cell_type": "code",
      "metadata": {
        "id": "j4t2vhzxMCxr",
        "outputId": "e2f8bf43-f1eb-4104-968d-efa83c7e9b7f",
        "colab": {
          "base_uri": "https://localhost:8080/",
          "height": 34
        }
      },
      "source": [
        "lg2.score(valid_x2, valid_y)"
      ],
      "execution_count": 77,
      "outputs": [
        {
          "output_type": "execute_result",
          "data": {
            "text/plain": [
              "0.7574191485960893"
            ]
          },
          "metadata": {
            "tags": []
          },
          "execution_count": 77
        }
      ]
    },
    {
      "cell_type": "code",
      "metadata": {
        "id": "65-4zgrzMGl5",
        "outputId": "abfed838-d412-4180-dd99-31e5e8d21620",
        "colab": {
          "base_uri": "https://localhost:8080/",
          "height": 34
        }
      },
      "source": [
        "lg2.score(train_x2, train_y)"
      ],
      "execution_count": 78,
      "outputs": [
        {
          "output_type": "execute_result",
          "data": {
            "text/plain": [
              "0.7539504932407746"
            ]
          },
          "metadata": {
            "tags": []
          },
          "execution_count": 78
        }
      ]
    },
    {
      "cell_type": "markdown",
      "metadata": {
        "id": "DP3Tn1N0OGjo"
      },
      "source": [
        "## Recursive feature elimination"
      ]
    },
    {
      "cell_type": "code",
      "metadata": {
        "id": "W32-wN5FOOfU"
      },
      "source": [
        "from sklearn.feature_selection import RFE"
      ],
      "execution_count": 88,
      "outputs": []
    },
    {
      "cell_type": "code",
      "metadata": {
        "id": "yd1RoQWJOVlk"
      },
      "source": [
        "lg = LogisticRegression(C=1,max_iter=100,penalty='l2')\n",
        "rfe_ = RFE(lg, n_features_to_select=30)\n",
        "rfe_fit = rfe_.fit(train_x2, train_y)"
      ],
      "execution_count": null,
      "outputs": []
    },
    {
      "cell_type": "code",
      "metadata": {
        "id": "m5-pzFQQOk_G",
        "outputId": "2ff886ed-f2d7-4d7c-a237-2e088a204c01",
        "colab": {
          "base_uri": "https://localhost:8080/",
          "height": 235
        }
      },
      "source": [
        "rfe_fit.support_"
      ],
      "execution_count": 93,
      "outputs": [
        {
          "output_type": "execute_result",
          "data": {
            "text/plain": [
              "array([False, False, False, False, False, False,  True, False, False,\n",
              "        True,  True,  True,  True,  True,  True, False, False, False,\n",
              "       False,  True, False,  True, False, False, False, False, False,\n",
              "       False,  True, False, False, False,  True, False,  True, False,\n",
              "       False,  True, False, False, False,  True, False,  True, False,\n",
              "        True, False,  True, False,  True, False, False, False,  True,\n",
              "        True,  True, False, False, False, False, False,  True, False,\n",
              "       False, False,  True, False, False, False, False,  True, False,\n",
              "       False, False, False, False, False, False,  True, False, False,\n",
              "       False, False, False, False,  True, False, False, False,  True,\n",
              "       False, False, False, False, False,  True, False,  True, False,\n",
              "       False, False, False, False, False, False, False, False, False,\n",
              "       False,  True, False, False])"
            ]
          },
          "metadata": {
            "tags": []
          },
          "execution_count": 93
        }
      ]
    },
    {
      "cell_type": "code",
      "metadata": {
        "id": "jLP9E_z4QnTw",
        "outputId": "8d3ab72f-9c10-4679-f025-1e2ac2631661",
        "colab": {
          "base_uri": "https://localhost:8080/",
          "height": 34
        }
      },
      "source": [
        "collections.Counter(rfe_fit.support_)"
      ],
      "execution_count": 94,
      "outputs": [
        {
          "output_type": "execute_result",
          "data": {
            "text/plain": [
              "Counter({False: 82, True: 30})"
            ]
          },
          "metadata": {
            "tags": []
          },
          "execution_count": 94
        }
      ]
    },
    {
      "cell_type": "code",
      "metadata": {
        "id": "mwqPViTRQ4qP"
      },
      "source": [
        "train_x3, valid_x3 = rfe_fit.transform(train_x2),rfe_fit.transform(valid_x2)"
      ],
      "execution_count": 96,
      "outputs": []
    },
    {
      "cell_type": "code",
      "metadata": {
        "id": "kzvQs8sTRCG6",
        "outputId": "45c2bcd3-567c-42ad-9248-b3c7d220be09",
        "colab": {
          "base_uri": "https://localhost:8080/",
          "height": 235
        }
      },
      "source": [
        "lg = LogisticRegression(C=1,max_iter=100,penalty='l2')\n",
        "lg.fit(train_x3, train_y)"
      ],
      "execution_count": 98,
      "outputs": [
        {
          "output_type": "stream",
          "text": [
            "/usr/local/lib/python3.6/dist-packages/sklearn/linear_model/_logistic.py:940: ConvergenceWarning: lbfgs failed to converge (status=1):\n",
            "STOP: TOTAL NO. of ITERATIONS REACHED LIMIT.\n",
            "\n",
            "Increase the number of iterations (max_iter) or scale the data as shown in:\n",
            "    https://scikit-learn.org/stable/modules/preprocessing.html\n",
            "Please also refer to the documentation for alternative solver options:\n",
            "    https://scikit-learn.org/stable/modules/linear_model.html#logistic-regression\n",
            "  extra_warning_msg=_LOGISTIC_SOLVER_CONVERGENCE_MSG)\n"
          ],
          "name": "stderr"
        },
        {
          "output_type": "execute_result",
          "data": {
            "text/plain": [
              "LogisticRegression(C=1, class_weight=None, dual=False, fit_intercept=True,\n",
              "                   intercept_scaling=1, l1_ratio=None, max_iter=100,\n",
              "                   multi_class='auto', n_jobs=None, penalty='l2',\n",
              "                   random_state=None, solver='lbfgs', tol=0.0001, verbose=0,\n",
              "                   warm_start=False)"
            ]
          },
          "metadata": {
            "tags": []
          },
          "execution_count": 98
        }
      ]
    },
    {
      "cell_type": "code",
      "metadata": {
        "id": "skqrxXf6NyM8",
        "outputId": "e4ebdb2a-1300-4bfa-9a38-5d693f749ec3",
        "colab": {
          "base_uri": "https://localhost:8080/",
          "height": 34
        }
      },
      "source": [
        "lg.score(valid_x3, valid_y)"
      ],
      "execution_count": 99,
      "outputs": [
        {
          "output_type": "execute_result",
          "data": {
            "text/plain": [
              "0.7568330758165059"
            ]
          },
          "metadata": {
            "tags": []
          },
          "execution_count": 99
        }
      ]
    },
    {
      "cell_type": "markdown",
      "metadata": {
        "id": "j_j938LqR04o"
      },
      "source": [
        "# Build MLP"
      ]
    },
    {
      "cell_type": "code",
      "metadata": {
        "id": "yIQUOx5OSI-o"
      },
      "source": [
        "import tensorflow as tf\n",
        "from tensorflow import keras"
      ],
      "execution_count": 17,
      "outputs": []
    },
    {
      "cell_type": "code",
      "metadata": {
        "id": "8N8aG7ykSLmC"
      },
      "source": [
        "mlp_m = keras.models.Sequential([\n",
        "    keras.layers.Dense(20, activation='relu'),\n",
        "    keras.layers.Dense(20, activation='relu'),\n",
        "    keras.layers.Dense(20, activation='relu'),\n",
        "    keras.layers.Dense(1, activation='sigmoid')\n",
        "])\n",
        "\n",
        "mlp_m.compile(loss='binary_crossentropy', optimizer='adam', metrics=['accuracy'])"
      ],
      "execution_count": 52,
      "outputs": []
    },
    {
      "cell_type": "code",
      "metadata": {
        "id": "88uRMixcYDlB",
        "outputId": "7830ea42-92d1-4353-8743-9dc7222b6e06",
        "colab": {
          "base_uri": "https://localhost:8080/",
          "height": 34
        }
      },
      "source": [
        "train_y = np.array(train_y).reshape(-1,1)\n",
        "train_y.shape, train_x2.shape"
      ],
      "execution_count": 53,
      "outputs": [
        {
          "output_type": "execute_result",
          "data": {
            "text/plain": [
              "((43792, 1), (43792, 112))"
            ]
          },
          "metadata": {
            "tags": []
          },
          "execution_count": 53
        }
      ]
    },
    {
      "cell_type": "code",
      "metadata": {
        "id": "Etll7cw2T-f7",
        "outputId": "5c75d7dd-809b-4d53-f587-3e61090ddfc7",
        "colab": {
          "base_uri": "https://localhost:8080/",
          "height": 1000
        }
      },
      "source": [
        "mlp_m.fit(train_x2, train_y, epochs=50, validation_data=(valid_x2, valid_y))"
      ],
      "execution_count": null,
      "outputs": [
        {
          "output_type": "stream",
          "text": [
            "Epoch 1/50\n",
            "1369/1369 [==============================] - 2s 2ms/step - loss: 0.5329 - accuracy: 0.7488 - val_loss: 0.5164 - val_accuracy: 0.7564\n",
            "Epoch 2/50\n",
            "1369/1369 [==============================] - 2s 1ms/step - loss: 0.5189 - accuracy: 0.7530 - val_loss: 0.5142 - val_accuracy: 0.7555\n",
            "Epoch 3/50\n",
            "1369/1369 [==============================] - 2s 1ms/step - loss: 0.5151 - accuracy: 0.7548 - val_loss: 0.5118 - val_accuracy: 0.7591\n",
            "Epoch 4/50\n",
            "1369/1369 [==============================] - 2s 2ms/step - loss: 0.5132 - accuracy: 0.7555 - val_loss: 0.5106 - val_accuracy: 0.7580\n",
            "Epoch 5/50\n",
            "1369/1369 [==============================] - 2s 2ms/step - loss: 0.5111 - accuracy: 0.7569 - val_loss: 0.5085 - val_accuracy: 0.7601\n",
            "Epoch 6/50\n",
            "1369/1369 [==============================] - 2s 2ms/step - loss: 0.5108 - accuracy: 0.7558 - val_loss: 0.5080 - val_accuracy: 0.7588\n",
            "Epoch 7/50\n",
            "1369/1369 [==============================] - 2s 2ms/step - loss: 0.5090 - accuracy: 0.7588 - val_loss: 0.5087 - val_accuracy: 0.7581\n",
            "Epoch 8/50\n",
            "1369/1369 [==============================] - 2s 2ms/step - loss: 0.5079 - accuracy: 0.7586 - val_loss: 0.5095 - val_accuracy: 0.7579\n",
            "Epoch 9/50\n",
            "1369/1369 [==============================] - 2s 2ms/step - loss: 0.5071 - accuracy: 0.7593 - val_loss: 0.5085 - val_accuracy: 0.7591\n",
            "Epoch 10/50\n",
            "1369/1369 [==============================] - 2s 2ms/step - loss: 0.5054 - accuracy: 0.7592 - val_loss: 0.5109 - val_accuracy: 0.7555\n",
            "Epoch 11/50\n",
            "1369/1369 [==============================] - 2s 1ms/step - loss: 0.5043 - accuracy: 0.7606 - val_loss: 0.5088 - val_accuracy: 0.7587\n",
            "Epoch 12/50\n",
            "1369/1369 [==============================] - 2s 2ms/step - loss: 0.5031 - accuracy: 0.7623 - val_loss: 0.5099 - val_accuracy: 0.7594\n",
            "Epoch 13/50\n",
            "1369/1369 [==============================] - 2s 2ms/step - loss: 0.5024 - accuracy: 0.7622 - val_loss: 0.5112 - val_accuracy: 0.7553\n",
            "Epoch 14/50\n",
            "1369/1369 [==============================] - 2s 2ms/step - loss: 0.5007 - accuracy: 0.7640 - val_loss: 0.5138 - val_accuracy: 0.7594\n",
            "Epoch 15/50\n",
            "1369/1369 [==============================] - 2s 2ms/step - loss: 0.4997 - accuracy: 0.7636 - val_loss: 0.5162 - val_accuracy: 0.7580\n",
            "Epoch 16/50\n",
            "1369/1369 [==============================] - 2s 2ms/step - loss: 0.4991 - accuracy: 0.7631 - val_loss: 0.5116 - val_accuracy: 0.7561\n",
            "Epoch 17/50\n",
            "1369/1369 [==============================] - 2s 2ms/step - loss: 0.4979 - accuracy: 0.7631 - val_loss: 0.5143 - val_accuracy: 0.7556\n",
            "Epoch 18/50\n",
            "1369/1369 [==============================] - 2s 2ms/step - loss: 0.4969 - accuracy: 0.7648 - val_loss: 0.5127 - val_accuracy: 0.7565\n",
            "Epoch 19/50\n",
            "1369/1369 [==============================] - 2s 2ms/step - loss: 0.4966 - accuracy: 0.7658 - val_loss: 0.5138 - val_accuracy: 0.7569\n",
            "Epoch 20/50\n",
            "1369/1369 [==============================] - 2s 1ms/step - loss: 0.4954 - accuracy: 0.7653 - val_loss: 0.5148 - val_accuracy: 0.7550\n",
            "Epoch 21/50\n",
            "1369/1369 [==============================] - 2s 2ms/step - loss: 0.4943 - accuracy: 0.7671 - val_loss: 0.5147 - val_accuracy: 0.7541\n",
            "Epoch 22/50\n",
            "1369/1369 [==============================] - 2s 2ms/step - loss: 0.4938 - accuracy: 0.7666 - val_loss: 0.5162 - val_accuracy: 0.7527\n",
            "Epoch 23/50\n",
            "1369/1369 [==============================] - 2s 2ms/step - loss: 0.4931 - accuracy: 0.7679 - val_loss: 0.5189 - val_accuracy: 0.7509\n",
            "Epoch 24/50\n",
            "1369/1369 [==============================] - 2s 1ms/step - loss: 0.4926 - accuracy: 0.7674 - val_loss: 0.5163 - val_accuracy: 0.7515\n",
            "Epoch 25/50\n",
            "1369/1369 [==============================] - 2s 2ms/step - loss: 0.4917 - accuracy: 0.7667 - val_loss: 0.5160 - val_accuracy: 0.7553\n",
            "Epoch 26/50\n",
            "1369/1369 [==============================] - 2s 2ms/step - loss: 0.4910 - accuracy: 0.7674 - val_loss: 0.5168 - val_accuracy: 0.7537\n",
            "Epoch 27/50\n",
            "1369/1369 [==============================] - 2s 2ms/step - loss: 0.4905 - accuracy: 0.7669 - val_loss: 0.5176 - val_accuracy: 0.7537\n",
            "Epoch 28/50\n",
            "1369/1369 [==============================] - 2s 2ms/step - loss: 0.4891 - accuracy: 0.7688 - val_loss: 0.5187 - val_accuracy: 0.7553\n",
            "Epoch 29/50\n",
            "1369/1369 [==============================] - 2s 2ms/step - loss: 0.4889 - accuracy: 0.7673 - val_loss: 0.5199 - val_accuracy: 0.7533\n",
            "Epoch 30/50\n",
            "1369/1369 [==============================] - 2s 2ms/step - loss: 0.4882 - accuracy: 0.7677 - val_loss: 0.5181 - val_accuracy: 0.7518\n",
            "Epoch 31/50\n",
            "1369/1369 [==============================] - 2s 2ms/step - loss: 0.4880 - accuracy: 0.7681 - val_loss: 0.5228 - val_accuracy: 0.7533\n",
            "Epoch 32/50\n",
            "1369/1369 [==============================] - 2s 2ms/step - loss: 0.4867 - accuracy: 0.7690 - val_loss: 0.5197 - val_accuracy: 0.7529\n",
            "Epoch 33/50\n",
            "1369/1369 [==============================] - 2s 2ms/step - loss: 0.4860 - accuracy: 0.7703 - val_loss: 0.5246 - val_accuracy: 0.7524\n",
            "Epoch 34/50\n",
            "1369/1369 [==============================] - 2s 2ms/step - loss: 0.4861 - accuracy: 0.7691 - val_loss: 0.5220 - val_accuracy: 0.7517\n",
            "Epoch 35/50\n",
            "1369/1369 [==============================] - 2s 2ms/step - loss: 0.4853 - accuracy: 0.7699 - val_loss: 0.5248 - val_accuracy: 0.7527\n",
            "Epoch 36/50\n",
            "1369/1369 [==============================] - 2s 2ms/step - loss: 0.4850 - accuracy: 0.7693 - val_loss: 0.5253 - val_accuracy: 0.7520\n",
            "Epoch 37/50\n",
            "1369/1369 [==============================] - 2s 2ms/step - loss: 0.4843 - accuracy: 0.7707 - val_loss: 0.5238 - val_accuracy: 0.7519\n",
            "Epoch 38/50\n",
            "1369/1369 [==============================] - 2s 2ms/step - loss: 0.4835 - accuracy: 0.7718 - val_loss: 0.5271 - val_accuracy: 0.7526\n",
            "Epoch 39/50\n",
            "1369/1369 [==============================] - 2s 2ms/step - loss: 0.4835 - accuracy: 0.7713 - val_loss: 0.5261 - val_accuracy: 0.7503\n",
            "Epoch 40/50\n",
            "1369/1369 [==============================] - 2s 2ms/step - loss: 0.4831 - accuracy: 0.7714 - val_loss: 0.5268 - val_accuracy: 0.7490\n",
            "Epoch 41/50\n",
            "1369/1369 [==============================] - 2s 2ms/step - loss: 0.4823 - accuracy: 0.7713 - val_loss: 0.5252 - val_accuracy: 0.7513\n",
            "Epoch 42/50\n",
            "1369/1369 [==============================] - 2s 2ms/step - loss: 0.4821 - accuracy: 0.7719 - val_loss: 0.5266 - val_accuracy: 0.7517\n",
            "Epoch 43/50\n",
            "1359/1369 [============================>.] - ETA: 0s - loss: 0.4817 - accuracy: 0.7721"
          ],
          "name": "stdout"
        }
      ]
    },
    {
      "cell_type": "code",
      "metadata": {
        "id": "BJvUKhPVavco"
      },
      "source": [
        ""
      ],
      "execution_count": null,
      "outputs": []
    }
  ]
}