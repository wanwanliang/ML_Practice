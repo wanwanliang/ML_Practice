{
  "nbformat": 4,
  "nbformat_minor": 0,
  "metadata": {
    "colab": {
      "name": "Neural network intro.ipynb",
      "provenance": [],
      "collapsed_sections": [],
      "toc_visible": true,
      "authorship_tag": "ABX9TyPY/A6IXfa3sKwdaRlllzpQ",
      "include_colab_link": true
    },
    "kernelspec": {
      "name": "python3",
      "display_name": "Python 3"
    }
  },
  "cells": [
    {
      "cell_type": "markdown",
      "metadata": {
        "id": "view-in-github",
        "colab_type": "text"
      },
      "source": [
        "<a href=\"https://colab.research.google.com/github/wanwanliang/ML_Projects/blob/main/notebook/Neural_network_intro.ipynb\" target=\"_parent\"><img src=\"https://colab.research.google.com/assets/colab-badge.svg\" alt=\"Open In Colab\"/></a>"
      ]
    },
    {
      "cell_type": "code",
      "metadata": {
        "id": "ISdxiezN9lnN"
      },
      "source": [
        "import sys\n",
        "assert sys.version_info >= (3, 5)\n",
        "import sklearn\n",
        "assert sklearn.__version__ >= '0.20'\n",
        "import os\n",
        "import numpy as np\n",
        "import tensorflow as tf\n",
        "import seaborn as sns\n",
        "%matplotlib inline\n",
        "import matplotlib as mpl\n",
        "import matplotlib.pyplot as plt\n",
        "import pandas as pd"
      ],
      "execution_count": null,
      "outputs": []
    },
    {
      "cell_type": "code",
      "metadata": {
        "id": "J0ZnZGXL_BQw",
        "outputId": "de3fd032-4c7c-47c7-b183-5d8bd74dcb19",
        "colab": {
          "base_uri": "https://localhost:8080/",
          "height": 84
        }
      },
      "source": [
        "from sklearn.datasets import load_iris\n",
        "from sklearn.linear_model import Perceptron\n",
        "\n",
        "iris = load_iris()\n",
        "X = iris.data[:,(2,3)]\n",
        "y = (iris.target == 0).astype(np.int)\n",
        "\n",
        "per_clf = Perceptron(max_iter = 1000, tol=1e-3, random_state=42)\n",
        "per_clf.fit(X,y)"
      ],
      "execution_count": null,
      "outputs": [
        {
          "output_type": "execute_result",
          "data": {
            "text/plain": [
              "Perceptron(alpha=0.0001, class_weight=None, early_stopping=False, eta0=1.0,\n",
              "           fit_intercept=True, max_iter=1000, n_iter_no_change=5, n_jobs=None,\n",
              "           penalty=None, random_state=42, shuffle=True, tol=0.001,\n",
              "           validation_fraction=0.1, verbose=0, warm_start=False)"
            ]
          },
          "metadata": {
            "tags": []
          },
          "execution_count": 2
        }
      ]
    },
    {
      "cell_type": "code",
      "metadata": {
        "id": "PzkNXFWwckNb",
        "outputId": "a065386c-b376-4f35-b99e-050ba4a77bdd",
        "colab": {
          "base_uri": "https://localhost:8080/",
          "height": 287
        }
      },
      "source": [
        "a = -per_clf.coef_[0][0] / per_clf.coef_[0][1]\n",
        "b = -per_clf.intercept_ / per_clf.coef_[0][1]\n",
        "\n",
        "axes = [0, 5, 0, 2]\n",
        "\n",
        "x0, x1 = np.meshgrid(\n",
        "        np.linspace(axes[0], axes[1], 500).reshape(-1, 1),\n",
        "        np.linspace(axes[2], axes[3], 200).reshape(-1, 1),\n",
        "    )\n",
        "X_new = np.c_[x0.ravel(), x1.ravel()]\n",
        "y_predict = per_clf.predict(X_new)\n",
        "zz = y_predict.reshape(x0.shape)\n",
        "\n",
        "plt.figure(figsize=(10,4))\n",
        "plt.plot(X[y==0,0], X[y==0,1], 'bs', label='Not Iris-Setosa')\n",
        "plt.plot(X[y==1,0], X[y==1,1], 'yo', label='Iris-Setosa')\n",
        "\n",
        "plt.plot([axes[0], axes[1]], [a * axes[0] + b, a * axes[1] + b], \"k-\", linewidth=3)\n",
        "from matplotlib.colors import ListedColormap\n",
        "custom_cmap = ListedColormap(['#9898ff','#fafab0'])\n",
        "\n",
        "plt.contourf(x0, x1, zz, cmap=custom_cmap)\n",
        "plt.xlabel(\"Petal length\", fontsize=14)\n",
        "plt.ylabel(\"Petal width\", fontsize=14)\n",
        "plt.legend(loc='lower right', fontsize=14)\n",
        "plt.axis(axes)\n",
        "plt.show()"
      ],
      "execution_count": null,
      "outputs": [
        {
          "output_type": "display_data",
          "data": {
            "image/png": "[encoded data removed]",
            "text/plain": [
              "<Figure size 720x288 with 1 Axes>"
            ]
          },
          "metadata": {
            "tags": [],
            "needs_background": "light"
          }
        }
      ]
    },
    {
      "cell_type": "markdown",
      "metadata": {
        "id": "jr_KY9sahFOI"
      },
      "source": [
        "## Activation functions"
      ]
    },
    {
      "cell_type": "code",
      "metadata": {
        "id": "8sPg42ReiMb5"
      },
      "source": [
        "def sigmoid(z):\n",
        "  return 1/(1 + np.exp(-z))\n",
        "\n",
        "def relu(z):\n",
        "  return np.maximum(0,z)\n",
        "\n",
        "def tanh(z):\n",
        "  return(np.tanh(z))\n",
        "\n",
        "def step(z):\n",
        "  return(np.sign(z))\n",
        "\n",
        "\n",
        "def derivative(f, z, eps=0.000001):\n",
        "  return (f(z+eps)-f(z-eps))/(2*eps)"
      ],
      "execution_count": null,
      "outputs": []
    },
    {
      "cell_type": "code",
      "metadata": {
        "id": "DG1irEliiyU9",
        "outputId": "0702f58f-2bbd-4567-8198-8e8bf8e98396",
        "colab": {
          "base_uri": "https://localhost:8080/",
          "height": 258
        }
      },
      "source": [
        "x = np.linspace(-5, 5, 500)\n",
        "sig = sigmoid(x)\n",
        "rel = relu(x)\n",
        "tan = tanh(x)\n",
        "sig2 = step(x)\n",
        "\n",
        "sig_der = derivative(sigmoid, x, eps=0.000001)\n",
        "rel_der = derivative(relu, x, eps=1e-6)\n",
        "tan_der = derivative(tanh, x, eps=1e-6)\n",
        "sig2_der = derivative(step, x, eps=1e-6)\n",
        "\n",
        "plt.figure(figsize=(15,5))\n",
        "plt.subplot(121)\n",
        "plt.grid('True')\n",
        "plt.gca().spines['right'].set_color('none')\n",
        "plt.gca().spines['top'].set_color('none')\n",
        "plt.plot(x, sig, 'r-', label=\"Sigmoid\")\n",
        "plt.plot(x, rel, 'b--', label=\"Relu\")\n",
        "plt.plot(x, tan,'g-', label=\"Tanh\")\n",
        "plt.plot(x, sig2,\"m-.\" ,label=\"Sign\")\n",
        "plt.legend(loc=\"center right\", fontsize=12)\n",
        "plt.axis([-5,5,-1.2,1.5])\n",
        "\n",
        "\n",
        "plt.subplot(122)\n",
        "plt.grid('True')\n",
        "plt.gca().spines['right'].set_color('none')\n",
        "plt.gca().spines['top'].set_color('none')\n",
        "plt.plot(x, sig_der, 'r-', label=\"Sigmoid\")\n",
        "plt.plot(x, rel_der, 'b--', label=\"Relu\")\n",
        "plt.plot(x, tan_der,'g-', label=\"Tanh\")\n",
        "plt.plot(x, sig2_der,\"m-.\" ,label=\"Sign\")\n",
        "plt.legend(loc=\"center right\", fontsize=12)\n",
        "plt.axis([-5,5,-0.2,1.2])\n"
      ],
      "execution_count": null,
      "outputs": [
        {
          "output_type": "execute_result",
          "data": {
            "text/plain": [
              "(-5.0, 5.0, -0.2, 1.2)"
            ]
          },
          "metadata": {
            "tags": []
          },
          "execution_count": 6
        },
        {
          "output_type": "display_data",
          "data": {
            "image/png": "[encoded data removed]",
            "text/plain": [
              "<Figure size 1080x360 with 2 Axes>"
            ]
          },
          "metadata": {
            "tags": [],
            "needs_background": "light"
          }
        }
      ]
    },
    {
      "cell_type": "markdown",
      "metadata": {
        "id": "bTA6IAtGZ_n4"
      },
      "source": [
        "## MLP - Classification"
      ]
    },
    {
      "cell_type": "code",
      "metadata": {
        "id": "Bhkz9Vdq2iYx"
      },
      "source": [
        "import tensorflow as tf\n",
        "from tensorflow import keras"
      ],
      "execution_count": null,
      "outputs": []
    },
    {
      "cell_type": "code",
      "metadata": {
        "id": "tI5WSgNl2o_4",
        "outputId": "733e5216-2d6f-48ba-9416-a2f1dce93e11",
        "colab": {
          "base_uri": "https://localhost:8080/",
          "height": 50
        }
      },
      "source": [
        "print('TF version:',tf.__version__)\n",
        "print('Keras version:', keras.__version__)"
      ],
      "execution_count": null,
      "outputs": [
        {
          "output_type": "stream",
          "text": [
            "TF version: 2.3.0\n",
            "Keras version: 2.4.0\n"
          ],
          "name": "stdout"
        }
      ]
    },
    {
      "cell_type": "code",
      "metadata": {
        "id": "TTPZA0Ms2w7g",
        "outputId": "d3b4dc81-003b-4d88-ace2-d2e77de064e0",
        "colab": {
          "base_uri": "https://localhost:8080/",
          "height": 171
        }
      },
      "source": [
        "fashion_mnist = keras.datasets.fashion_mnist\n",
        "(X_train_full, y_train_full), (X_test, y_test) = fashion_mnist.load_data()"
      ],
      "execution_count": null,
      "outputs": [
        {
          "output_type": "stream",
          "text": [
            "Downloading data from https://storage.googleapis.com/tensorflow/tf-keras-datasets/train-labels-idx1-ubyte.gz\n",
            "32768/29515 [=================================] - 0s 0us/step\n",
            "Downloading data from https://storage.googleapis.com/tensorflow/tf-keras-datasets/train-images-idx3-ubyte.gz\n",
            "26427392/26421880 [==============================] - 0s 0us/step\n",
            "Downloading data from https://storage.googleapis.com/tensorflow/tf-keras-datasets/t10k-labels-idx1-ubyte.gz\n",
            "8192/5148 [===============================================] - 0s 0us/step\n",
            "Downloading data from https://storage.googleapis.com/tensorflow/tf-keras-datasets/t10k-images-idx3-ubyte.gz\n",
            "4423680/4422102 [==============================] - 0s 0us/step\n"
          ],
          "name": "stdout"
        }
      ]
    },
    {
      "cell_type": "code",
      "metadata": {
        "id": "st-cG95T7AEc",
        "outputId": "129c8354-8fae-4bd9-eeb6-97527e2c06bc",
        "colab": {
          "base_uri": "https://localhost:8080/",
          "height": 34
        }
      },
      "source": [
        "X_train_full.shape"
      ],
      "execution_count": null,
      "outputs": [
        {
          "output_type": "execute_result",
          "data": {
            "text/plain": [
              "(60000, 28, 28)"
            ]
          },
          "metadata": {
            "tags": []
          },
          "execution_count": 10
        }
      ]
    },
    {
      "cell_type": "code",
      "metadata": {
        "id": "uYJPv2yB7gOh",
        "outputId": "4f632066-9fb0-4cf3-9c02-6859cf3dee83",
        "colab": {
          "base_uri": "https://localhost:8080/",
          "height": 34
        }
      },
      "source": [
        "X_train_full.dtype"
      ],
      "execution_count": null,
      "outputs": [
        {
          "output_type": "execute_result",
          "data": {
            "text/plain": [
              "dtype('uint8')"
            ]
          },
          "metadata": {
            "tags": []
          },
          "execution_count": 11
        }
      ]
    },
    {
      "cell_type": "code",
      "metadata": {
        "id": "bweQj7dq8oR0"
      },
      "source": [
        "X_valid, X_train = X_train_full[:5000]/255., X_train_full[5000:]/255.\n",
        "y_valid, y_train = y_train_full[:5000], y_train_full[5000:]\n",
        "X_test = X_test/255."
      ],
      "execution_count": null,
      "outputs": []
    },
    {
      "cell_type": "code",
      "metadata": {
        "id": "Lq8uCw20DYNS",
        "outputId": "d26c7462-909f-4417-9954-b6361716ce82",
        "colab": {
          "base_uri": "https://localhost:8080/",
          "height": 248
        }
      },
      "source": [
        "plt.imshow(X_train[1], cmap='binary')\n",
        "plt.axis('off')\n",
        "plt.show()"
      ],
      "execution_count": null,
      "outputs": [
        {
          "output_type": "display_data",
          "data": {
            "image/png": "[encoded data removed]",
            "text/plain": [
              "<Figure size 432x288 with 1 Axes>"
            ]
          },
          "metadata": {
            "tags": [],
            "needs_background": "light"
          }
        }
      ]
    },
    {
      "cell_type": "code",
      "metadata": {
        "id": "oj9P3IoaE5WF",
        "outputId": "fe26c74f-eaf1-4016-b2e4-b412f14d651b",
        "colab": {
          "base_uri": "https://localhost:8080/",
          "height": 202
        }
      },
      "source": [
        "pd.DataFrame(y_train).value_counts()"
      ],
      "execution_count": null,
      "outputs": [
        {
          "output_type": "execute_result",
          "data": {
            "text/plain": [
              "0    5543\n",
              "4    5512\n",
              "8    5510\n",
              "6    5507\n",
              "5    5507\n",
              "3    5499\n",
              "2    5496\n",
              "9    5494\n",
              "7    5488\n",
              "1    5444\n",
              "dtype: int64"
            ]
          },
          "metadata": {
            "tags": []
          },
          "execution_count": 14
        }
      ]
    },
    {
      "cell_type": "code",
      "metadata": {
        "id": "zFnoeV7vFFP7"
      },
      "source": [
        "class_names = [\"T-shirt/top\", \"Trouser\", \"Pullover\", \"Dress\", \"Coat\",\n",
        "               \"Sandal\", \"Shirt\", \"Sneaker\", \"Bag\", \"Ankle boot\"]"
      ],
      "execution_count": null,
      "outputs": []
    },
    {
      "cell_type": "code",
      "metadata": {
        "id": "fdeeaT2gKtn-",
        "outputId": "474ce138-d7ef-4941-f9d0-010aa096b873",
        "colab": {
          "base_uri": "https://localhost:8080/",
          "height": 35
        }
      },
      "source": [
        "class_names[2]"
      ],
      "execution_count": null,
      "outputs": [
        {
          "output_type": "execute_result",
          "data": {
            "application/vnd.google.colaboratory.intrinsic+json": {
              "type": "string"
            },
            "text/plain": [
              "'Pullover'"
            ]
          },
          "metadata": {
            "tags": []
          },
          "execution_count": 16
        }
      ]
    },
    {
      "cell_type": "code",
      "metadata": {
        "id": "DC07RJyYGGhV",
        "outputId": "b13e6066-6094-49f7-ad6f-59a6d77a21ff",
        "colab": {
          "base_uri": "https://localhost:8080/",
          "height": 34
        }
      },
      "source": [
        "y_train[:5]"
      ],
      "execution_count": null,
      "outputs": [
        {
          "output_type": "execute_result",
          "data": {
            "text/plain": [
              "array([4, 0, 7, 9, 9], dtype=uint8)"
            ]
          },
          "metadata": {
            "tags": []
          },
          "execution_count": 17
        }
      ]
    },
    {
      "cell_type": "code",
      "metadata": {
        "id": "y-1BtUvjJeqg",
        "outputId": "c7dcbfc1-8917-47fb-ba64-1fda9f076511",
        "colab": {
          "base_uri": "https://localhost:8080/",
          "height": 35
        }
      },
      "source": [
        "class_names[y_train[20]]"
      ],
      "execution_count": null,
      "outputs": [
        {
          "output_type": "execute_result",
          "data": {
            "application/vnd.google.colaboratory.intrinsic+json": {
              "type": "string"
            },
            "text/plain": [
              "'Sneaker'"
            ]
          },
          "metadata": {
            "tags": []
          },
          "execution_count": 18
        }
      ]
    },
    {
      "cell_type": "code",
      "metadata": {
        "id": "2r8OpYFNGMl9",
        "outputId": "f7d218f3-0f95-4170-9656-bcc9af2bb1b5",
        "colab": {
          "base_uri": "https://localhost:8080/",
          "height": 559
        }
      },
      "source": [
        "n_rows = 6\n",
        "n_cols = 8\n",
        "\n",
        "for row in range(n_rows):\n",
        "  plt.figure(figsize=(15,12))\n",
        "  for col in range(n_cols):\n",
        "\n",
        "    n_img = row*n_cols + col + 1\n",
        "\n",
        "    plt.subplot(n_rows, n_cols, n_img)\n",
        "    plt.imshow(X_train[n_img-1], cmap='binary')\n",
        "    plt.axis('off')\n",
        "    plt.title(class_names[y_train[n_img -1]], fontsize=12)"
      ],
      "execution_count": null,
      "outputs": [
        {
          "output_type": "display_data",
          "data": {
            "image/png": "[encoded data removed]",
            "text/plain": [
              "<Figure size 1080x864 with 8 Axes>"
            ]
          },
          "metadata": {
            "tags": [],
            "needs_background": "light"
          }
        },
        {
          "output_type": "display_data",
          "data": {
            "image/png": "[encoded data removed]",
            "text/plain": [
              "<Figure size 1080x864 with 8 Axes>"
            ]
          },
          "metadata": {
            "tags": [],
            "needs_background": "light"
          }
        },
        {
          "output_type": "display_data",
          "data": {
            "image/png": "[encoded data removed]",
            "text/plain": [
              "<Figure size 1080x864 with 8 Axes>"
            ]
          },
          "metadata": {
            "tags": [],
            "needs_background": "light"
          }
        },
        {
          "output_type": "display_data",
          "data": {
            "image/png": "[encoded data removed]",
            "text/plain": [
              "<Figure size 1080x864 with 8 Axes>"
            ]
          },
          "metadata": {
            "tags": [],
            "needs_background": "light"
          }
        },
        {
          "output_type": "display_data",
          "data": {
            "image/png": "[encoded data removed]",
            "text/plain": [
              "<Figure size 1080x864 with 8 Axes>"
            ]
          },
          "metadata": {
            "tags": [],
            "needs_background": "light"
          }
        },
        {
          "output_type": "display_data",
          "data": {
            "image/png": "[encoded data removed]",
            "text/plain": [
              "<Figure size 1080x864 with 8 Axes>"
            ]
          },
          "metadata": {
            "tags": [],
            "needs_background": "light"
          }
        }
      ]
    },
    {
      "cell_type": "code",
      "metadata": {
        "id": "h6GhznhNI2KP"
      },
      "source": [
        "model = keras.models.Sequential()\n",
        "model.add(keras.layers.Flatten(input_shape=[28,28]))\n",
        "model.add(keras.layers.Dense(300, activation='relu'))\n",
        "model.add(keras.layers.Dense(100, activation='relu'))\n",
        "model.add(keras.layers.Dense(10, activation='softmax'))"
      ],
      "execution_count": null,
      "outputs": []
    },
    {
      "cell_type": "code",
      "metadata": {
        "id": "lXFMw2lySohM"
      },
      "source": [
        "# or\n",
        "\n",
        "model = keras.models.Sequential([\n",
        "   keras.layers.Flatten(input_shape=[28,28]),                              \n",
        "   keras.layers.Dense(300, activation='relu'),\n",
        "   keras.layers.Dense(100, activation='relu'),\n",
        "   keras.layers.Dense(10, activation='softmax')\n",
        "\n",
        "])"
      ],
      "execution_count": null,
      "outputs": []
    },
    {
      "cell_type": "code",
      "metadata": {
        "id": "7Aei6nHDSRDh",
        "outputId": "55b41fb3-87fa-4e98-bfc1-a2aa7545670d",
        "colab": {
          "base_uri": "https://localhost:8080/",
          "height": 84
        }
      },
      "source": [
        "model.layers"
      ],
      "execution_count": null,
      "outputs": [
        {
          "output_type": "execute_result",
          "data": {
            "text/plain": [
              "[<tensorflow.python.keras.layers.core.Flatten at 0x7f36c679c978>,\n",
              " <tensorflow.python.keras.layers.core.Dense at 0x7f36c63013c8>,\n",
              " <tensorflow.python.keras.layers.core.Dense at 0x7f36bf1a2668>,\n",
              " <tensorflow.python.keras.layers.core.Dense at 0x7f36bf1a92e8>]"
            ]
          },
          "metadata": {
            "tags": []
          },
          "execution_count": 22
        }
      ]
    },
    {
      "cell_type": "code",
      "metadata": {
        "id": "MynSXlNoSj4l",
        "outputId": "f56296b6-b5b4-4b0a-8ce4-755f057085a0",
        "colab": {
          "base_uri": "https://localhost:8080/",
          "height": 286
        }
      },
      "source": [
        "model.summary()"
      ],
      "execution_count": null,
      "outputs": [
        {
          "output_type": "stream",
          "text": [
            "Model: \"sequential_1\"\n",
            "_________________________________________________________________\n",
            "Layer (type)                 Output Shape              Param #   \n",
            "=================================================================\n",
            "flatten_1 (Flatten)          (None, 784)               0         \n",
            "_________________________________________________________________\n",
            "dense_3 (Dense)              (None, 300)               235500    \n",
            "_________________________________________________________________\n",
            "dense_4 (Dense)              (None, 100)               30100     \n",
            "_________________________________________________________________\n",
            "dense_5 (Dense)              (None, 10)                1010      \n",
            "=================================================================\n",
            "Total params: 266,610\n",
            "Trainable params: 266,610\n",
            "Non-trainable params: 0\n",
            "_________________________________________________________________\n"
          ],
          "name": "stdout"
        }
      ]
    },
    {
      "cell_type": "code",
      "metadata": {
        "id": "4ZZ4NOVaQtDw"
      },
      "source": [
        "keras.backend.clear_session()\n",
        "np.random.seed(42)\n",
        "tf.random.set_seed(42)"
      ],
      "execution_count": null,
      "outputs": []
    },
    {
      "cell_type": "code",
      "metadata": {
        "id": "-MR6Ui11TPgJ",
        "outputId": "4bf659d8-41e1-4d11-fc7a-ac22a33c5599",
        "colab": {
          "base_uri": "https://localhost:8080/",
          "height": 533
        }
      },
      "source": [
        "keras.utils.plot_model(model, show_shapes=True)"
      ],
      "execution_count": null,
      "outputs": [
        {
          "output_type": "execute_result",
          "data": {
            "image/png": "[encoded data removed]",
            "text/plain": [
              "<IPython.core.display.Image object>"
            ]
          },
          "metadata": {
            "tags": []
          },
          "execution_count": 25
        }
      ]
    },
    {
      "cell_type": "code",
      "metadata": {
        "id": "pvYvyjzvTVjY",
        "outputId": "48469e7c-82fa-45d3-be6e-346806deda6e",
        "colab": {
          "base_uri": "https://localhost:8080/",
          "height": 35
        }
      },
      "source": [
        "hidden1 = model.layers[1]\n",
        "hidden1.name"
      ],
      "execution_count": null,
      "outputs": [
        {
          "output_type": "execute_result",
          "data": {
            "application/vnd.google.colaboratory.intrinsic+json": {
              "type": "string"
            },
            "text/plain": [
              "'dense_3'"
            ]
          },
          "metadata": {
            "tags": []
          },
          "execution_count": 26
        }
      ]
    },
    {
      "cell_type": "code",
      "metadata": {
        "id": "XdM-99-YTmUC",
        "outputId": "e400b7ed-7391-41aa-9f9b-9c4aee6c5d7f",
        "colab": {
          "base_uri": "https://localhost:8080/",
          "height": 84
        }
      },
      "source": [
        "model.layers"
      ],
      "execution_count": null,
      "outputs": [
        {
          "output_type": "execute_result",
          "data": {
            "text/plain": [
              "[<tensorflow.python.keras.layers.core.Flatten at 0x7f36c679c978>,\n",
              " <tensorflow.python.keras.layers.core.Dense at 0x7f36c63013c8>,\n",
              " <tensorflow.python.keras.layers.core.Dense at 0x7f36bf1a2668>,\n",
              " <tensorflow.python.keras.layers.core.Dense at 0x7f36bf1a92e8>]"
            ]
          },
          "metadata": {
            "tags": []
          },
          "execution_count": 27
        }
      ]
    },
    {
      "cell_type": "code",
      "metadata": {
        "id": "e7Jrh4HKYqA9"
      },
      "source": [
        "layer0 = model.layers[0]"
      ],
      "execution_count": null,
      "outputs": []
    },
    {
      "cell_type": "code",
      "metadata": {
        "id": "QD9namVBYwHt",
        "outputId": "cd4d4779-5d85-45e3-890c-27e795cfc3a7",
        "colab": {
          "base_uri": "https://localhost:8080/",
          "height": 35
        }
      },
      "source": [
        "layer0.name"
      ],
      "execution_count": null,
      "outputs": [
        {
          "output_type": "execute_result",
          "data": {
            "application/vnd.google.colaboratory.intrinsic+json": {
              "type": "string"
            },
            "text/plain": [
              "'flatten_1'"
            ]
          },
          "metadata": {
            "tags": []
          },
          "execution_count": 29
        }
      ]
    },
    {
      "cell_type": "code",
      "metadata": {
        "id": "SKphvJbDTvFa"
      },
      "source": [
        "weights, biases = hidden1.get_weights()"
      ],
      "execution_count": null,
      "outputs": []
    },
    {
      "cell_type": "code",
      "metadata": {
        "id": "2dRYUbKHUQcG",
        "outputId": "5079f979-ff47-4340-d2ed-4b5852d57cf1",
        "colab": {
          "base_uri": "https://localhost:8080/",
          "height": 50
        }
      },
      "source": [
        "print(weights.shape)\n",
        "print(biases.shape)"
      ],
      "execution_count": null,
      "outputs": [
        {
          "output_type": "stream",
          "text": [
            "(784, 300)\n",
            "(300,)\n"
          ],
          "name": "stdout"
        }
      ]
    },
    {
      "cell_type": "code",
      "metadata": {
        "id": "TZNgLsgAUbKj"
      },
      "source": [
        "model.compile(loss='sparse_categorical_crossentropy',\n",
        "              optimizer='sgd',\n",
        "              metrics=['accuracy']\n",
        "              )"
      ],
      "execution_count": null,
      "outputs": []
    },
    {
      "cell_type": "code",
      "metadata": {
        "id": "kDSad0YGZR-r"
      },
      "source": [
        "# or\n",
        "model.compile(loss= keras.losses.sparse_categorical_crossentropy,\n",
        "       optimizer = keras.optimizers.SGD(),\n",
        "       metrics = [keras.metrics.sparse_categorical_accuracy]       \n",
        "              )"
      ],
      "execution_count": null,
      "outputs": []
    },
    {
      "cell_type": "code",
      "metadata": {
        "id": "mjP1atRsZHgJ",
        "outputId": "b8998395-4dfc-4d2c-86ed-e765b7376f5d",
        "colab": {
          "base_uri": "https://localhost:8080/",
          "height": 1000
        }
      },
      "source": [
        "fit_history = model.fit(X_train, y_train, epochs=50, validation_data=(X_valid, y_valid))"
      ],
      "execution_count": null,
      "outputs": [
        {
          "output_type": "stream",
          "text": [
            "Epoch 1/50\n",
            "1719/1719 [==============================] - 5s 3ms/step - loss: 0.7134 - sparse_categorical_accuracy: 0.7660 - val_loss: 0.5215 - val_sparse_categorical_accuracy: 0.8238\n",
            "Epoch 2/50\n",
            "1719/1719 [==============================] - 5s 3ms/step - loss: 0.4883 - sparse_categorical_accuracy: 0.8291 - val_loss: 0.4364 - val_sparse_categorical_accuracy: 0.8520\n",
            "Epoch 3/50\n",
            "1719/1719 [==============================] - 5s 3ms/step - loss: 0.4444 - sparse_categorical_accuracy: 0.8435 - val_loss: 0.5225 - val_sparse_categorical_accuracy: 0.8030\n",
            "Epoch 4/50\n",
            "1719/1719 [==============================] - 5s 3ms/step - loss: 0.4183 - sparse_categorical_accuracy: 0.8547 - val_loss: 0.3988 - val_sparse_categorical_accuracy: 0.8638\n",
            "Epoch 5/50\n",
            "1719/1719 [==============================] - 5s 3ms/step - loss: 0.3995 - sparse_categorical_accuracy: 0.8609 - val_loss: 0.3845 - val_sparse_categorical_accuracy: 0.8672\n",
            "Epoch 6/50\n",
            "1719/1719 [==============================] - 5s 3ms/step - loss: 0.3803 - sparse_categorical_accuracy: 0.8663 - val_loss: 0.3779 - val_sparse_categorical_accuracy: 0.8726\n",
            "Epoch 7/50\n",
            "1719/1719 [==============================] - 5s 3ms/step - loss: 0.3679 - sparse_categorical_accuracy: 0.8699 - val_loss: 0.3650 - val_sparse_categorical_accuracy: 0.8734\n",
            "Epoch 8/50\n",
            "1719/1719 [==============================] - 5s 3ms/step - loss: 0.3561 - sparse_categorical_accuracy: 0.8737 - val_loss: 0.3943 - val_sparse_categorical_accuracy: 0.8590\n",
            "Epoch 9/50\n",
            "1719/1719 [==============================] - 5s 3ms/step - loss: 0.3452 - sparse_categorical_accuracy: 0.8785 - val_loss: 0.3561 - val_sparse_categorical_accuracy: 0.8748\n",
            "Epoch 10/50\n",
            "1719/1719 [==============================] - 6s 3ms/step - loss: 0.3360 - sparse_categorical_accuracy: 0.8808 - val_loss: 0.3601 - val_sparse_categorical_accuracy: 0.8708\n",
            "Epoch 11/50\n",
            "1719/1719 [==============================] - 5s 3ms/step - loss: 0.3276 - sparse_categorical_accuracy: 0.8831 - val_loss: 0.3512 - val_sparse_categorical_accuracy: 0.8738\n",
            "Epoch 12/50\n",
            "1719/1719 [==============================] - 5s 3ms/step - loss: 0.3185 - sparse_categorical_accuracy: 0.8849 - val_loss: 0.3371 - val_sparse_categorical_accuracy: 0.8798\n",
            "Epoch 13/50\n",
            "1719/1719 [==============================] - 5s 3ms/step - loss: 0.3110 - sparse_categorical_accuracy: 0.8883 - val_loss: 0.3364 - val_sparse_categorical_accuracy: 0.8804\n",
            "Epoch 14/50\n",
            "1719/1719 [==============================] - 5s 3ms/step - loss: 0.3050 - sparse_categorical_accuracy: 0.8902 - val_loss: 0.3544 - val_sparse_categorical_accuracy: 0.8718\n",
            "Epoch 15/50\n",
            "1719/1719 [==============================] - 5s 3ms/step - loss: 0.2973 - sparse_categorical_accuracy: 0.8931 - val_loss: 0.3324 - val_sparse_categorical_accuracy: 0.8822\n",
            "Epoch 16/50\n",
            "1719/1719 [==============================] - 5s 3ms/step - loss: 0.2922 - sparse_categorical_accuracy: 0.8951 - val_loss: 0.3151 - val_sparse_categorical_accuracy: 0.8876\n",
            "Epoch 17/50\n",
            "1719/1719 [==============================] - 5s 3ms/step - loss: 0.2866 - sparse_categorical_accuracy: 0.8965 - val_loss: 0.3623 - val_sparse_categorical_accuracy: 0.8716\n",
            "Epoch 18/50\n",
            "1719/1719 [==============================] - 5s 3ms/step - loss: 0.2805 - sparse_categorical_accuracy: 0.8991 - val_loss: 0.3271 - val_sparse_categorical_accuracy: 0.8858\n",
            "Epoch 19/50\n",
            "1719/1719 [==============================] - 5s 3ms/step - loss: 0.2755 - sparse_categorical_accuracy: 0.9016 - val_loss: 0.3155 - val_sparse_categorical_accuracy: 0.8858\n",
            "Epoch 20/50\n",
            "1719/1719 [==============================] - 5s 3ms/step - loss: 0.2702 - sparse_categorical_accuracy: 0.9030 - val_loss: 0.3384 - val_sparse_categorical_accuracy: 0.8758\n",
            "Epoch 21/50\n",
            "1719/1719 [==============================] - 5s 3ms/step - loss: 0.2649 - sparse_categorical_accuracy: 0.9045 - val_loss: 0.3117 - val_sparse_categorical_accuracy: 0.8906\n",
            "Epoch 22/50\n",
            "1719/1719 [==============================] - 5s 3ms/step - loss: 0.2602 - sparse_categorical_accuracy: 0.9062 - val_loss: 0.3011 - val_sparse_categorical_accuracy: 0.8946\n",
            "Epoch 23/50\n",
            "1719/1719 [==============================] - 5s 3ms/step - loss: 0.2557 - sparse_categorical_accuracy: 0.9079 - val_loss: 0.3079 - val_sparse_categorical_accuracy: 0.8888\n",
            "Epoch 24/50\n",
            "1719/1719 [==============================] - 5s 3ms/step - loss: 0.2513 - sparse_categorical_accuracy: 0.9088 - val_loss: 0.3179 - val_sparse_categorical_accuracy: 0.8840\n",
            "Epoch 25/50\n",
            "1719/1719 [==============================] - 5s 3ms/step - loss: 0.2473 - sparse_categorical_accuracy: 0.9105 - val_loss: 0.3028 - val_sparse_categorical_accuracy: 0.8958\n",
            "Epoch 26/50\n",
            "1719/1719 [==============================] - 5s 3ms/step - loss: 0.2428 - sparse_categorical_accuracy: 0.9119 - val_loss: 0.3155 - val_sparse_categorical_accuracy: 0.8888\n",
            "Epoch 27/50\n",
            "1719/1719 [==============================] - 5s 3ms/step - loss: 0.2398 - sparse_categorical_accuracy: 0.9129 - val_loss: 0.2992 - val_sparse_categorical_accuracy: 0.8952\n",
            "Epoch 28/50\n",
            "1719/1719 [==============================] - 5s 3ms/step - loss: 0.2358 - sparse_categorical_accuracy: 0.9151 - val_loss: 0.3050 - val_sparse_categorical_accuracy: 0.8926\n",
            "Epoch 29/50\n",
            "1719/1719 [==============================] - 5s 3ms/step - loss: 0.2313 - sparse_categorical_accuracy: 0.9159 - val_loss: 0.3189 - val_sparse_categorical_accuracy: 0.8846\n",
            "Epoch 30/50\n",
            "1719/1719 [==============================] - 6s 3ms/step - loss: 0.2277 - sparse_categorical_accuracy: 0.9176 - val_loss: 0.3207 - val_sparse_categorical_accuracy: 0.8864\n",
            "Epoch 31/50\n",
            "1719/1719 [==============================] - 5s 3ms/step - loss: 0.2241 - sparse_categorical_accuracy: 0.9193 - val_loss: 0.3044 - val_sparse_categorical_accuracy: 0.8936\n",
            "Epoch 32/50\n",
            "1719/1719 [==============================] - 5s 3ms/step - loss: 0.2206 - sparse_categorical_accuracy: 0.9198 - val_loss: 0.3027 - val_sparse_categorical_accuracy: 0.8942\n",
            "Epoch 33/50\n",
            "1719/1719 [==============================] - 5s 3ms/step - loss: 0.2164 - sparse_categorical_accuracy: 0.9216 - val_loss: 0.3098 - val_sparse_categorical_accuracy: 0.8922\n",
            "Epoch 34/50\n",
            "1719/1719 [==============================] - 5s 3ms/step - loss: 0.2134 - sparse_categorical_accuracy: 0.9227 - val_loss: 0.3132 - val_sparse_categorical_accuracy: 0.8876\n",
            "Epoch 35/50\n",
            "1719/1719 [==============================] - 5s 3ms/step - loss: 0.2091 - sparse_categorical_accuracy: 0.9238 - val_loss: 0.2916 - val_sparse_categorical_accuracy: 0.8962\n",
            "Epoch 36/50\n",
            "1719/1719 [==============================] - 5s 3ms/step - loss: 0.2072 - sparse_categorical_accuracy: 0.9251 - val_loss: 0.3050 - val_sparse_categorical_accuracy: 0.8944\n",
            "Epoch 37/50\n",
            "1719/1719 [==============================] - 5s 3ms/step - loss: 0.2038 - sparse_categorical_accuracy: 0.9264 - val_loss: 0.3009 - val_sparse_categorical_accuracy: 0.8904\n",
            "Epoch 38/50\n",
            "1719/1719 [==============================] - 5s 3ms/step - loss: 0.1991 - sparse_categorical_accuracy: 0.9285 - val_loss: 0.2977 - val_sparse_categorical_accuracy: 0.8932\n",
            "Epoch 39/50\n",
            "1719/1719 [==============================] - 5s 3ms/step - loss: 0.1988 - sparse_categorical_accuracy: 0.9291 - val_loss: 0.3005 - val_sparse_categorical_accuracy: 0.8970\n",
            "Epoch 40/50\n",
            "1719/1719 [==============================] - 5s 3ms/step - loss: 0.1942 - sparse_categorical_accuracy: 0.9309 - val_loss: 0.3029 - val_sparse_categorical_accuracy: 0.8908\n",
            "Epoch 41/50\n",
            "1719/1719 [==============================] - 5s 3ms/step - loss: 0.1913 - sparse_categorical_accuracy: 0.9321 - val_loss: 0.2884 - val_sparse_categorical_accuracy: 0.8946\n",
            "Epoch 42/50\n",
            "1719/1719 [==============================] - 5s 3ms/step - loss: 0.1892 - sparse_categorical_accuracy: 0.9320 - val_loss: 0.2945 - val_sparse_categorical_accuracy: 0.8978\n",
            "Epoch 43/50\n",
            "1719/1719 [==============================] - 5s 3ms/step - loss: 0.1844 - sparse_categorical_accuracy: 0.9331 - val_loss: 0.3379 - val_sparse_categorical_accuracy: 0.8772\n",
            "Epoch 44/50\n",
            "1719/1719 [==============================] - 5s 3ms/step - loss: 0.1822 - sparse_categorical_accuracy: 0.9352 - val_loss: 0.3058 - val_sparse_categorical_accuracy: 0.8866\n",
            "Epoch 45/50\n",
            "1719/1719 [==============================] - 5s 3ms/step - loss: 0.1804 - sparse_categorical_accuracy: 0.9348 - val_loss: 0.3116 - val_sparse_categorical_accuracy: 0.8872\n",
            "Epoch 46/50\n",
            "1719/1719 [==============================] - 5s 3ms/step - loss: 0.1771 - sparse_categorical_accuracy: 0.9365 - val_loss: 0.3101 - val_sparse_categorical_accuracy: 0.8936\n",
            "Epoch 47/50\n",
            "1719/1719 [==============================] - 5s 3ms/step - loss: 0.1739 - sparse_categorical_accuracy: 0.9378 - val_loss: 0.3077 - val_sparse_categorical_accuracy: 0.8964\n",
            "Epoch 48/50\n",
            "1719/1719 [==============================] - 5s 3ms/step - loss: 0.1719 - sparse_categorical_accuracy: 0.9395 - val_loss: 0.3238 - val_sparse_categorical_accuracy: 0.8890\n",
            "Epoch 49/50\n",
            "1719/1719 [==============================] - 5s 3ms/step - loss: 0.1677 - sparse_categorical_accuracy: 0.9402 - val_loss: 0.3098 - val_sparse_categorical_accuracy: 0.8894\n",
            "Epoch 50/50\n",
            "1719/1719 [==============================] - 5s 3ms/step - loss: 0.1663 - sparse_categorical_accuracy: 0.9397 - val_loss: 0.3161 - val_sparse_categorical_accuracy: 0.8912\n"
          ],
          "name": "stdout"
        }
      ]
    },
    {
      "cell_type": "code",
      "metadata": {
        "id": "CCHhYhxPbY_x",
        "outputId": "1dae644c-32e8-4efc-bcae-91ca2ab44943",
        "colab": {
          "base_uri": "https://localhost:8080/",
          "height": 34
        }
      },
      "source": [
        "fit_history.params"
      ],
      "execution_count": null,
      "outputs": [
        {
          "output_type": "execute_result",
          "data": {
            "text/plain": [
              "{'epochs': 50, 'steps': 1719, 'verbose': 1}"
            ]
          },
          "metadata": {
            "tags": []
          },
          "execution_count": 35
        }
      ]
    },
    {
      "cell_type": "code",
      "metadata": {
        "id": "aY1b3oDbbim8",
        "outputId": "9da450bd-3f2c-4e2b-ed82-005fc8ae7878",
        "colab": {
          "base_uri": "https://localhost:8080/",
          "height": 54
        }
      },
      "source": [
        "fit_history.history.keys()"
      ],
      "execution_count": null,
      "outputs": [
        {
          "output_type": "execute_result",
          "data": {
            "text/plain": [
              "dict_keys(['loss', 'sparse_categorical_accuracy', 'val_loss', 'val_sparse_categorical_accuracy'])"
            ]
          },
          "metadata": {
            "tags": []
          },
          "execution_count": 36
        }
      ]
    },
    {
      "cell_type": "code",
      "metadata": {
        "id": "VilfZqvtcccW",
        "outputId": "a7473d9c-ddf3-4ec7-93c6-afe1b20fb6af",
        "colab": {
          "base_uri": "https://localhost:8080/",
          "height": 378
        }
      },
      "source": [
        "pd.DataFrame(fit_history.history).plot(figsize=(10,6))\n",
        "plt.grid(True)\n",
        "plt.gca().set_ylim(0,1)\n",
        "plt.show()"
      ],
      "execution_count": null,
      "outputs": [
        {
          "output_type": "display_data",
          "data": {
            "image/png": "[encoded data removed]",
            "text/plain": [
              "<Figure size 720x432 with 1 Axes>"
            ]
          },
          "metadata": {
            "tags": [],
            "needs_background": "light"
          }
        }
      ]
    },
    {
      "cell_type": "code",
      "metadata": {
        "id": "0FIU0XrjczDr",
        "outputId": "de1be0bf-e142-4769-d482-ecdfca992b09",
        "colab": {
          "base_uri": "https://localhost:8080/",
          "height": 70
        }
      },
      "source": [
        "model.evaluate(X_test, y_test)"
      ],
      "execution_count": null,
      "outputs": [
        {
          "output_type": "stream",
          "text": [
            "313/313 [==============================] - 0s 2ms/step - loss: 0.3378 - sparse_categorical_accuracy: 0.8864\n"
          ],
          "name": "stdout"
        },
        {
          "output_type": "execute_result",
          "data": {
            "text/plain": [
              "[0.33782094717025757, 0.8863999843597412]"
            ]
          },
          "metadata": {
            "tags": []
          },
          "execution_count": 38
        }
      ]
    },
    {
      "cell_type": "code",
      "metadata": {
        "id": "L06EPQU4dcJC",
        "outputId": "979f15a0-8e7f-47ce-c032-79fef61a8939",
        "colab": {
          "base_uri": "https://localhost:8080/",
          "height": 87
        }
      },
      "source": [
        "y_pred = model.predict_classes(X_test)"
      ],
      "execution_count": null,
      "outputs": [
        {
          "output_type": "stream",
          "text": [
            "WARNING:tensorflow:From <ipython-input-39-fdaaf2360398>:1: Sequential.predict_classes (from tensorflow.python.keras.engine.sequential) is deprecated and will be removed after 2021-01-01.\n",
            "Instructions for updating:\n",
            "Please use instead:* `np.argmax(model.predict(x), axis=-1)`,   if your model does multi-class classification   (e.g. if it uses a `softmax` last-layer activation).* `(model.predict(x) > 0.5).astype(\"int32\")`,   if your model does binary classification   (e.g. if it uses a `sigmoid` last-layer activation).\n"
          ],
          "name": "stdout"
        }
      ]
    },
    {
      "cell_type": "code",
      "metadata": {
        "id": "Jjq7RuE0do0x",
        "outputId": "3271fb5c-1e52-4d01-b449-2458227e7097",
        "colab": {
          "base_uri": "https://localhost:8080/",
          "height": 34
        }
      },
      "source": [
        "y_pred.shape"
      ],
      "execution_count": null,
      "outputs": [
        {
          "output_type": "execute_result",
          "data": {
            "text/plain": [
              "(10000,)"
            ]
          },
          "metadata": {
            "tags": []
          },
          "execution_count": 40
        }
      ]
    },
    {
      "cell_type": "code",
      "metadata": {
        "id": "v4rCfIXydzTe"
      },
      "source": [
        "y_pred5 = y_pred[:5]"
      ],
      "execution_count": null,
      "outputs": []
    },
    {
      "cell_type": "code",
      "metadata": {
        "id": "InIgdkB8d6Da",
        "outputId": "f2852894-b700-4712-8096-3d966763fb59",
        "colab": {
          "base_uri": "https://localhost:8080/",
          "height": 149
        }
      },
      "source": [
        "plt.figure(figsize=(16,6))\n",
        "\n",
        "for index, img in enumerate(X_test[:5]):\n",
        "\n",
        "  plt.subplot(1,5,index+1)\n",
        "  plt.imshow(img, cmap = 'binary', interpolation='nearest')\n",
        "  plt.axis('off')\n",
        "  plt.title(class_names[y_test[index]], fontsize=14)\n",
        "plt.show()"
      ],
      "execution_count": null,
      "outputs": [
        {
          "output_type": "display_data",
          "data": {
            "image/png": "[encoded data removed]",
            "text/plain": [
              "<Figure size 1152x432 with 5 Axes>"
            ]
          },
          "metadata": {
            "tags": [],
            "needs_background": "light"
          }
        }
      ]
    },
    {
      "cell_type": "code",
      "metadata": {
        "id": "KNHEZDLFeiPI",
        "outputId": "c0bc14e6-594f-4edf-dee3-e317a880f3d5",
        "colab": {
          "base_uri": "https://localhost:8080/",
          "height": 50
        }
      },
      "source": [
        "np.array(class_names)[y_pred5]"
      ],
      "execution_count": null,
      "outputs": [
        {
          "output_type": "execute_result",
          "data": {
            "text/plain": [
              "array(['Ankle boot', 'Pullover', 'Trouser', 'Trouser', 'Shirt'],\n",
              "      dtype='<U11')"
            ]
          },
          "metadata": {
            "tags": []
          },
          "execution_count": 43
        }
      ]
    },
    {
      "cell_type": "markdown",
      "metadata": {
        "id": "XvsOU-YMeu8y"
      },
      "source": [
        "## MLP - Regression"
      ]
    },
    {
      "cell_type": "code",
      "metadata": {
        "id": "ziYrCjJch_h9",
        "outputId": "8ef82328-627e-4488-a249-59461e03dc28",
        "colab": {
          "base_uri": "https://localhost:8080/",
          "height": 70
        }
      },
      "source": [
        "from sklearn.datasets import fetch_california_housing\n",
        "from sklearn.model_selection import train_test_split\n",
        "from sklearn.preprocessing import StandardScaler\n",
        "\n",
        "housing = fetch_california_housing()\n",
        "\n",
        "X_train_full, X_test, y_train_full, y_test = train_test_split(housing.data, housing.target, random_state=42)\n",
        "X_train, X_valid, y_train, y_valid = train_test_split(X_train_full, y_train_full, random_state=42)\n",
        "\n",
        "scaler = StandardScaler()\n",
        "X_train = scaler.fit_transform(X_train)\n",
        "X_valid = scaler.transform(X_valid)\n",
        "X_test = scaler.transform(X_test)\n",
        "\n",
        "print(X_train.shape)"
      ],
      "execution_count": null,
      "outputs": [
        {
          "output_type": "stream",
          "text": [
            "Downloading Cal. housing from https://ndownloader.figshare.com/files/5976036 to /root/scikit_learn_data\n"
          ],
          "name": "stderr"
        },
        {
          "output_type": "stream",
          "text": [
            "(11610, 8)\n"
          ],
          "name": "stdout"
        }
      ]
    },
    {
      "cell_type": "code",
      "metadata": {
        "id": "EPoBDawzkFTl",
        "outputId": "ca794a1f-6d13-4333-cc59-e904fa0e8eaa",
        "colab": {
          "base_uri": "https://localhost:8080/",
          "height": 34
        }
      },
      "source": [
        "X_train.shape[1:]"
      ],
      "execution_count": null,
      "outputs": [
        {
          "output_type": "execute_result",
          "data": {
            "text/plain": [
              "(8,)"
            ]
          },
          "metadata": {
            "tags": []
          },
          "execution_count": 45
        }
      ]
    },
    {
      "cell_type": "code",
      "metadata": {
        "id": "0DYWiqgijn3r"
      },
      "source": [
        "np.random.seed(42)\n",
        "tf.random.set_seed(42)"
      ],
      "execution_count": null,
      "outputs": []
    },
    {
      "cell_type": "code",
      "metadata": {
        "id": "qegOZrvojtNM"
      },
      "source": [
        "model = keras.models.Sequential([\n",
        "  keras.layers.Dense(30, activation='relu', input_shape = X_train.shape[1:]),  \n",
        "  keras.layers.Dense(1)                               \n",
        "])\n",
        "\n",
        "model.compile(loss=keras.losses.mean_squared_error, optimizer=keras.optimizers.SGD(lr=1e-3), metrics=[keras.metrics.mean_squared_error])"
      ],
      "execution_count": null,
      "outputs": []
    },
    {
      "cell_type": "code",
      "metadata": {
        "id": "8t-EsvaOk5_X",
        "outputId": "18e0a53e-3836-4101-e1af-2992233cdf31",
        "colab": {
          "base_uri": "https://localhost:8080/",
          "height": 1000
        }
      },
      "source": [
        "fit_history1 = model.fit(X_train, y_train, epochs = 50, validation_data=(X_valid, y_valid))"
      ],
      "execution_count": null,
      "outputs": [
        {
          "output_type": "stream",
          "text": [
            "Epoch 1/50\n",
            "363/363 [==============================] - 1s 1ms/step - loss: 1.6419 - mean_squared_error: 1.6419 - val_loss: 0.8560 - val_mean_squared_error: 0.8560\n",
            "Epoch 2/50\n",
            "363/363 [==============================] - 0s 1ms/step - loss: 0.7047 - mean_squared_error: 0.7047 - val_loss: 0.6531 - val_mean_squared_error: 0.6531\n",
            "Epoch 3/50\n",
            "363/363 [==============================] - 0s 1ms/step - loss: 0.6345 - mean_squared_error: 0.6345 - val_loss: 0.6099 - val_mean_squared_error: 0.6099\n",
            "Epoch 4/50\n",
            "363/363 [==============================] - 0s 1ms/step - loss: 0.5977 - mean_squared_error: 0.5977 - val_loss: 0.5658 - val_mean_squared_error: 0.5658\n",
            "Epoch 5/50\n",
            "363/363 [==============================] - 0s 1ms/step - loss: 0.5706 - mean_squared_error: 0.5706 - val_loss: 0.5355 - val_mean_squared_error: 0.5355\n",
            "Epoch 6/50\n",
            "363/363 [==============================] - 0s 1ms/step - loss: 0.5472 - mean_squared_error: 0.5472 - val_loss: 0.5173 - val_mean_squared_error: 0.5173\n",
            "Epoch 7/50\n",
            "363/363 [==============================] - 0s 1ms/step - loss: 0.5288 - mean_squared_error: 0.5288 - val_loss: 0.5081 - val_mean_squared_error: 0.5081\n",
            "Epoch 8/50\n",
            "363/363 [==============================] - 0s 1ms/step - loss: 0.5130 - mean_squared_error: 0.5130 - val_loss: 0.4799 - val_mean_squared_error: 0.4799\n",
            "Epoch 9/50\n",
            "363/363 [==============================] - 0s 1ms/step - loss: 0.4992 - mean_squared_error: 0.4992 - val_loss: 0.4690 - val_mean_squared_error: 0.4690\n",
            "Epoch 10/50\n",
            "363/363 [==============================] - 0s 1ms/step - loss: 0.4875 - mean_squared_error: 0.4875 - val_loss: 0.4656 - val_mean_squared_error: 0.4656\n",
            "Epoch 11/50\n",
            "363/363 [==============================] - 0s 1ms/step - loss: 0.4777 - mean_squared_error: 0.4777 - val_loss: 0.4482 - val_mean_squared_error: 0.4482\n",
            "Epoch 12/50\n",
            "363/363 [==============================] - 0s 1ms/step - loss: 0.4688 - mean_squared_error: 0.4688 - val_loss: 0.4479 - val_mean_squared_error: 0.4479\n",
            "Epoch 13/50\n",
            "363/363 [==============================] - 0s 1ms/step - loss: 0.4615 - mean_squared_error: 0.4615 - val_loss: 0.4296 - val_mean_squared_error: 0.4296\n",
            "Epoch 14/50\n",
            "363/363 [==============================] - 0s 1ms/step - loss: 0.4547 - mean_squared_error: 0.4547 - val_loss: 0.4233 - val_mean_squared_error: 0.4233\n",
            "Epoch 15/50\n",
            "363/363 [==============================] - 0s 1ms/step - loss: 0.4488 - mean_squared_error: 0.4488 - val_loss: 0.4176 - val_mean_squared_error: 0.4176\n",
            "Epoch 16/50\n",
            "363/363 [==============================] - 0s 1ms/step - loss: 0.4435 - mean_squared_error: 0.4435 - val_loss: 0.4123 - val_mean_squared_error: 0.4123\n",
            "Epoch 17/50\n",
            "363/363 [==============================] - 0s 1ms/step - loss: 0.4389 - mean_squared_error: 0.4389 - val_loss: 0.4071 - val_mean_squared_error: 0.4071\n",
            "Epoch 18/50\n",
            "363/363 [==============================] - 0s 1ms/step - loss: 0.4347 - mean_squared_error: 0.4347 - val_loss: 0.4037 - val_mean_squared_error: 0.4037\n",
            "Epoch 19/50\n",
            "363/363 [==============================] - 0s 1ms/step - loss: 0.4306 - mean_squared_error: 0.4306 - val_loss: 0.4000 - val_mean_squared_error: 0.4000\n",
            "Epoch 20/50\n",
            "363/363 [==============================] - 0s 1ms/step - loss: 0.4273 - mean_squared_error: 0.4273 - val_loss: 0.3969 - val_mean_squared_error: 0.3969\n",
            "Epoch 21/50\n",
            "363/363 [==============================] - 0s 1ms/step - loss: 0.4240 - mean_squared_error: 0.4240 - val_loss: 0.3938 - val_mean_squared_error: 0.3938\n",
            "Epoch 22/50\n",
            "363/363 [==============================] - 0s 1ms/step - loss: 0.4211 - mean_squared_error: 0.4211 - val_loss: 0.3913 - val_mean_squared_error: 0.3913\n",
            "Epoch 23/50\n",
            "363/363 [==============================] - 0s 1ms/step - loss: 0.4183 - mean_squared_error: 0.4183 - val_loss: 0.3884 - val_mean_squared_error: 0.3884\n",
            "Epoch 24/50\n",
            "363/363 [==============================] - 0s 1ms/step - loss: 0.4158 - mean_squared_error: 0.4158 - val_loss: 0.3871 - val_mean_squared_error: 0.3871\n",
            "Epoch 25/50\n",
            "363/363 [==============================] - 0s 1ms/step - loss: 0.4135 - mean_squared_error: 0.4135 - val_loss: 0.3857 - val_mean_squared_error: 0.3857\n",
            "Epoch 26/50\n",
            "363/363 [==============================] - 0s 1ms/step - loss: 0.4115 - mean_squared_error: 0.4115 - val_loss: 0.3818 - val_mean_squared_error: 0.3818\n",
            "Epoch 27/50\n",
            "363/363 [==============================] - 0s 1ms/step - loss: 0.4096 - mean_squared_error: 0.4096 - val_loss: 0.3800 - val_mean_squared_error: 0.3800\n",
            "Epoch 28/50\n",
            "363/363 [==============================] - 0s 1ms/step - loss: 0.4077 - mean_squared_error: 0.4077 - val_loss: 0.3794 - val_mean_squared_error: 0.3794\n",
            "Epoch 29/50\n",
            "363/363 [==============================] - 0s 1ms/step - loss: 0.4061 - mean_squared_error: 0.4061 - val_loss: 0.3769 - val_mean_squared_error: 0.3769\n",
            "Epoch 30/50\n",
            "363/363 [==============================] - 0s 1ms/step - loss: 0.4045 - mean_squared_error: 0.4045 - val_loss: 0.3763 - val_mean_squared_error: 0.3763\n",
            "Epoch 31/50\n",
            "363/363 [==============================] - 0s 1ms/step - loss: 0.4027 - mean_squared_error: 0.4027 - val_loss: 0.3740 - val_mean_squared_error: 0.3740\n",
            "Epoch 32/50\n",
            "363/363 [==============================] - 0s 1ms/step - loss: 0.4015 - mean_squared_error: 0.4015 - val_loss: 0.3750 - val_mean_squared_error: 0.3750\n",
            "Epoch 33/50\n",
            "363/363 [==============================] - 0s 1ms/step - loss: 0.4003 - mean_squared_error: 0.4003 - val_loss: 0.3714 - val_mean_squared_error: 0.3714\n",
            "Epoch 34/50\n",
            "363/363 [==============================] - 0s 1ms/step - loss: 0.3988 - mean_squared_error: 0.3988 - val_loss: 0.3704 - val_mean_squared_error: 0.3704\n",
            "Epoch 35/50\n",
            "363/363 [==============================] - 0s 1ms/step - loss: 0.3975 - mean_squared_error: 0.3975 - val_loss: 0.3739 - val_mean_squared_error: 0.3739\n",
            "Epoch 36/50\n",
            "363/363 [==============================] - 0s 1ms/step - loss: 0.3963 - mean_squared_error: 0.3963 - val_loss: 0.3685 - val_mean_squared_error: 0.3685\n",
            "Epoch 37/50\n",
            "363/363 [==============================] - 0s 1ms/step - loss: 0.3952 - mean_squared_error: 0.3952 - val_loss: 0.3683 - val_mean_squared_error: 0.3683\n",
            "Epoch 38/50\n",
            "363/363 [==============================] - 0s 1ms/step - loss: 0.3940 - mean_squared_error: 0.3940 - val_loss: 0.3661 - val_mean_squared_error: 0.3661\n",
            "Epoch 39/50\n",
            "363/363 [==============================] - 0s 1ms/step - loss: 0.3929 - mean_squared_error: 0.3929 - val_loss: 0.3654 - val_mean_squared_error: 0.3654\n",
            "Epoch 40/50\n",
            "363/363 [==============================] - 0s 1ms/step - loss: 0.3918 - mean_squared_error: 0.3918 - val_loss: 0.3643 - val_mean_squared_error: 0.3643\n",
            "Epoch 41/50\n",
            "363/363 [==============================] - 0s 1ms/step - loss: 0.3907 - mean_squared_error: 0.3907 - val_loss: 0.3648 - val_mean_squared_error: 0.3648\n",
            "Epoch 42/50\n",
            "363/363 [==============================] - 0s 1ms/step - loss: 0.3898 - mean_squared_error: 0.3898 - val_loss: 0.3686 - val_mean_squared_error: 0.3686\n",
            "Epoch 43/50\n",
            "363/363 [==============================] - 0s 1ms/step - loss: 0.3888 - mean_squared_error: 0.3888 - val_loss: 0.3675 - val_mean_squared_error: 0.3675\n",
            "Epoch 44/50\n",
            "363/363 [==============================] - 0s 1ms/step - loss: 0.3879 - mean_squared_error: 0.3879 - val_loss: 0.3693 - val_mean_squared_error: 0.3693\n",
            "Epoch 45/50\n",
            "363/363 [==============================] - 0s 1ms/step - loss: 0.3871 - mean_squared_error: 0.3871 - val_loss: 0.3629 - val_mean_squared_error: 0.3629\n",
            "Epoch 46/50\n",
            "363/363 [==============================] - 1s 1ms/step - loss: 0.3860 - mean_squared_error: 0.3860 - val_loss: 0.3638 - val_mean_squared_error: 0.3638\n",
            "Epoch 47/50\n",
            "363/363 [==============================] - 0s 1ms/step - loss: 0.3854 - mean_squared_error: 0.3854 - val_loss: 0.3619 - val_mean_squared_error: 0.3619\n",
            "Epoch 48/50\n",
            "363/363 [==============================] - 0s 1ms/step - loss: 0.3844 - mean_squared_error: 0.3844 - val_loss: 0.3702 - val_mean_squared_error: 0.3702\n",
            "Epoch 49/50\n",
            "363/363 [==============================] - 0s 1ms/step - loss: 0.3837 - mean_squared_error: 0.3837 - val_loss: 0.3613 - val_mean_squared_error: 0.3613\n",
            "Epoch 50/50\n",
            "363/363 [==============================] - 0s 1ms/step - loss: 0.3829 - mean_squared_error: 0.3829 - val_loss: 0.3579 - val_mean_squared_error: 0.3579\n"
          ],
          "name": "stdout"
        }
      ]
    },
    {
      "cell_type": "code",
      "metadata": {
        "id": "8Be0AkP0lJDs",
        "outputId": "fc031d7d-0c62-42a5-b290-e16c80e779aa",
        "colab": {
          "base_uri": "https://localhost:8080/",
          "height": 34
        }
      },
      "source": [
        "fit_history1.params"
      ],
      "execution_count": null,
      "outputs": [
        {
          "output_type": "execute_result",
          "data": {
            "text/plain": [
              "{'epochs': 50, 'steps': 363, 'verbose': 1}"
            ]
          },
          "metadata": {
            "tags": []
          },
          "execution_count": 49
        }
      ]
    },
    {
      "cell_type": "code",
      "metadata": {
        "id": "FImdHDOflP8k",
        "outputId": "6a4a7a6f-c4d3-4261-c674-10ed4571dc4a",
        "colab": {
          "base_uri": "https://localhost:8080/",
          "height": 34
        }
      },
      "source": [
        "fit_history1.history.keys()"
      ],
      "execution_count": null,
      "outputs": [
        {
          "output_type": "execute_result",
          "data": {
            "text/plain": [
              "dict_keys(['loss', 'mean_squared_error', 'val_loss', 'val_mean_squared_error'])"
            ]
          },
          "metadata": {
            "tags": []
          },
          "execution_count": 50
        }
      ]
    },
    {
      "cell_type": "code",
      "metadata": {
        "id": "GeLCZmoTl28s",
        "outputId": "ba697aee-60e9-461a-8e1a-72bd279c6915",
        "colab": {
          "base_uri": "https://localhost:8080/",
          "height": 218
        }
      },
      "source": [
        "his = pd.DataFrame(fit_history1.history)\n",
        "print(his.head(5))\n",
        "his2 = his.iloc[:,[0,2]]\n",
        "print(his2.head(5))"
      ],
      "execution_count": null,
      "outputs": [
        {
          "output_type": "stream",
          "text": [
            "       loss  mean_squared_error  val_loss  val_mean_squared_error\n",
            "0  1.641871            1.641871  0.855952                0.855952\n",
            "1  0.704696            0.704696  0.653076                0.653076\n",
            "2  0.634542            0.634542  0.609898                0.609898\n",
            "3  0.597736            0.597736  0.565842                0.565842\n",
            "4  0.570629            0.570629  0.535460                0.535460\n",
            "       loss  val_loss\n",
            "0  1.641871  0.855952\n",
            "1  0.704696  0.653076\n",
            "2  0.634542  0.609898\n",
            "3  0.597736  0.565842\n",
            "4  0.570629  0.535460\n"
          ],
          "name": "stdout"
        }
      ]
    },
    {
      "cell_type": "code",
      "metadata": {
        "id": "-dusYmFcns6V",
        "outputId": "6ac33b3e-8725-4b73-f057-fcee440f57d2",
        "colab": {
          "base_uri": "https://localhost:8080/",
          "height": 34
        }
      },
      "source": [
        "his2.columns\n",
        "his2.columns = ['Train_loss', 'Validation_loss']\n",
        "his2.columns"
      ],
      "execution_count": null,
      "outputs": [
        {
          "output_type": "execute_result",
          "data": {
            "text/plain": [
              "Index(['Train_loss', 'Validation_loss'], dtype='object')"
            ]
          },
          "metadata": {
            "tags": []
          },
          "execution_count": 52
        }
      ]
    },
    {
      "cell_type": "code",
      "metadata": {
        "id": "5FwAQmVXlT8T",
        "outputId": "9781e0fa-f155-4bc0-dae6-c1b3ea89cd33",
        "colab": {
          "base_uri": "https://localhost:8080/",
          "height": 391
        }
      },
      "source": [
        "plt.figure(figsize=(10,6))\n",
        "plt.plot(his2)\n",
        "plt.grid('True')\n",
        "plt.legend(loc='upper right')\n",
        "plt.show()"
      ],
      "execution_count": null,
      "outputs": [
        {
          "output_type": "stream",
          "text": [
            "No handles with labels found to put in legend.\n"
          ],
          "name": "stderr"
        },
        {
          "output_type": "display_data",
          "data": {
            "image/png": "[encoded data removed]",
            "text/plain": [
              "<Figure size 720x432 with 1 Axes>"
            ]
          },
          "metadata": {
            "tags": [],
            "needs_background": "light"
          }
        }
      ]
    },
    {
      "cell_type": "markdown",
      "metadata": {
        "id": "UJJGF3_fllH1"
      },
      "source": [
        "## Functional API"
      ]
    },
    {
      "cell_type": "code",
      "metadata": {
        "id": "W2Xea8Bxu5oF"
      },
      "source": [
        "np.random.seed(42)\n",
        "tf.random.set_seed(42)"
      ],
      "execution_count": null,
      "outputs": []
    },
    {
      "cell_type": "code",
      "metadata": {
        "id": "mSvAKiJyvAPH"
      },
      "source": [
        "input = keras.layers.Input(shape=X_train.shape[1:])\n",
        "hidden1 = keras.layers.Dense(30, activation='relu')(input)\n",
        "hidden2 = keras.layers.Dense(30, activation='relu')(hidden1)\n",
        "concat = keras.layers.concatenate([input, hidden2])\n",
        "output = keras.layers.Dense(1)(concat)\n",
        "model = keras.models.Model(inputs=[input], outputs=[output])"
      ],
      "execution_count": null,
      "outputs": []
    },
    {
      "cell_type": "code",
      "metadata": {
        "id": "82OjnZfEvsqx",
        "outputId": "3993453c-42d5-49a8-ddac-48cae3e7f46d",
        "colab": {
          "base_uri": "https://localhost:8080/",
          "height": 356
        }
      },
      "source": [
        "model.summary()"
      ],
      "execution_count": null,
      "outputs": [
        {
          "output_type": "stream",
          "text": [
            "Model: \"functional_1\"\n",
            "__________________________________________________________________________________________________\n",
            "Layer (type)                    Output Shape         Param #     Connected to                     \n",
            "==================================================================================================\n",
            "input_1 (InputLayer)            [(None, 8)]          0                                            \n",
            "__________________________________________________________________________________________________\n",
            "dense_2 (Dense)                 (None, 30)           270         input_1[0][0]                    \n",
            "__________________________________________________________________________________________________\n",
            "dense_3 (Dense)                 (None, 30)           930         dense_2[0][0]                    \n",
            "__________________________________________________________________________________________________\n",
            "concatenate (Concatenate)       (None, 38)           0           input_1[0][0]                    \n",
            "                                                                 dense_3[0][0]                    \n",
            "__________________________________________________________________________________________________\n",
            "dense_4 (Dense)                 (None, 1)            39          concatenate[0][0]                \n",
            "==================================================================================================\n",
            "Total params: 1,239\n",
            "Trainable params: 1,239\n",
            "Non-trainable params: 0\n",
            "__________________________________________________________________________________________________\n"
          ],
          "name": "stdout"
        }
      ]
    },
    {
      "cell_type": "code",
      "metadata": {
        "id": "sxa5X6fov8J3"
      },
      "source": [
        "model.compile(loss = keras.losses.mean_squared_error, optimizer=keras.optimizers.SGD(lr=1e-3),metrics=[keras.metrics.mean_squared_error])\n",
        "fit_history2 = model.fit(X_train, y_train, epochs=50, validation_data=(X_valid, y_valid))"
      ],
      "execution_count": null,
      "outputs": []
    },
    {
      "cell_type": "code",
      "metadata": {
        "id": "uSn1EqcRwkMI",
        "outputId": "a82202bf-46fa-4ebe-e114-a24b96076021",
        "colab": {
          "base_uri": "https://localhost:8080/",
          "height": 70
        }
      },
      "source": [
        "model.evaluate(X_test, y_test)"
      ],
      "execution_count": null,
      "outputs": [
        {
          "output_type": "stream",
          "text": [
            "162/162 [==============================] - 0s 881us/step - loss: 0.3578 - mean_squared_error: 0.3578\n"
          ],
          "name": "stdout"
        },
        {
          "output_type": "execute_result",
          "data": {
            "text/plain": [
              "[0.35778748989105225, 0.35778748989105225]"
            ]
          },
          "metadata": {
            "tags": []
          },
          "execution_count": 58
        }
      ]
    },
    {
      "cell_type": "code",
      "metadata": {
        "id": "4N3MPERdwzCZ"
      },
      "source": [
        "loss1 = pd.DataFrame(fit_history1.history['loss'])\n",
        "loss2 = pd.DataFrame(fit_history2.history['loss'])"
      ],
      "execution_count": null,
      "outputs": []
    },
    {
      "cell_type": "code",
      "metadata": {
        "id": "2tg29na8xxra",
        "outputId": "f14b1438-5c57-4abe-f7fd-aca7afdb4bd8",
        "colab": {
          "base_uri": "https://localhost:8080/",
          "height": 218
        }
      },
      "source": [
        "print(loss1.head())\n",
        "print(loss2.head())"
      ],
      "execution_count": null,
      "outputs": [
        {
          "output_type": "stream",
          "text": [
            "          0\n",
            "0  1.641871\n",
            "1  0.704696\n",
            "2  0.634542\n",
            "3  0.597736\n",
            "4  0.570629\n",
            "          0\n",
            "0  1.261135\n",
            "1  0.658015\n",
            "2  0.587849\n",
            "3  0.558221\n",
            "4  0.534745\n"
          ],
          "name": "stdout"
        }
      ]
    },
    {
      "cell_type": "code",
      "metadata": {
        "id": "JaFDQIFY3cmI",
        "outputId": "de830635-9de0-4fea-a6d2-fbdf4613a76b",
        "colab": {
          "base_uri": "https://localhost:8080/",
          "height": 195
        }
      },
      "source": [
        "loss1.columns=['Loss Sequential NN']\n",
        "loss1['Loss Functional NN'] = loss2\n",
        "loss1.head()"
      ],
      "execution_count": null,
      "outputs": [
        {
          "output_type": "execute_result",
          "data": {
            "text/html": [
              "<div>\n",
              "<style scoped>\n",
              "    .dataframe tbody tr th:only-of-type {\n",
              "        vertical-align: middle;\n",
              "    }\n",
              "\n",
              "    .dataframe tbody tr th {\n",
              "        vertical-align: top;\n",
              "    }\n",
              "\n",
              "    .dataframe thead th {\n",
              "        text-align: right;\n",
              "    }\n",
              "</style>\n",
              "<table border=\"1\" class=\"dataframe\">\n",
              "  <thead>\n",
              "    <tr style=\"text-align: right;\">\n",
              "      <th></th>\n",
              "      <th>Loss Sequential NN</th>\n",
              "      <th>Loss Functional NN</th>\n",
              "    </tr>\n",
              "  </thead>\n",
              "  <tbody>\n",
              "    <tr>\n",
              "      <th>0</th>\n",
              "      <td>1.641871</td>\n",
              "      <td>1.261135</td>\n",
              "    </tr>\n",
              "    <tr>\n",
              "      <th>1</th>\n",
              "      <td>0.704696</td>\n",
              "      <td>0.658015</td>\n",
              "    </tr>\n",
              "    <tr>\n",
              "      <th>2</th>\n",
              "      <td>0.634542</td>\n",
              "      <td>0.587849</td>\n",
              "    </tr>\n",
              "    <tr>\n",
              "      <th>3</th>\n",
              "      <td>0.597736</td>\n",
              "      <td>0.558221</td>\n",
              "    </tr>\n",
              "    <tr>\n",
              "      <th>4</th>\n",
              "      <td>0.570629</td>\n",
              "      <td>0.534745</td>\n",
              "    </tr>\n",
              "  </tbody>\n",
              "</table>\n",
              "</div>"
            ],
            "text/plain": [
              "   Loss Sequential NN  Loss Functional NN\n",
              "0            1.641871            1.261135\n",
              "1            0.704696            0.658015\n",
              "2            0.634542            0.587849\n",
              "3            0.597736            0.558221\n",
              "4            0.570629            0.534745"
            ]
          },
          "metadata": {
            "tags": []
          },
          "execution_count": 61
        }
      ]
    },
    {
      "cell_type": "code",
      "metadata": {
        "id": "EHr32uXYx2Ax",
        "outputId": "898cb409-3416-43c2-c758-a77cc41756ca",
        "colab": {
          "base_uri": "https://localhost:8080/",
          "height": 378
        }
      },
      "source": [
        "plt.figure(figsize=(10,6))\n",
        "plt.plot(loss1)\n",
        "plt.gca().set_xlim(0, 30)\n",
        "plt.gca().set_ylim(0.25, 1.6)\n",
        "plt.grid(True)\n",
        "plt.show()"
      ],
      "execution_count": null,
      "outputs": [
        {
          "output_type": "display_data",
          "data": {
            "image/png": "[encoded data removed]",
            "text/plain": [
              "<Figure size 720x432 with 1 Axes>"
            ]
          },
          "metadata": {
            "tags": [],
            "needs_background": "light"
          }
        }
      ]
    },
    {
      "cell_type": "markdown",
      "metadata": {
        "id": "R5Kl7UMgzzfQ"
      },
      "source": [
        "### With different variables in different layers"
      ]
    },
    {
      "cell_type": "code",
      "metadata": {
        "id": "SGUptcBdOREE"
      },
      "source": [
        "input_A = keras.layers.Input(shape=[5], name='wide_input')\n",
        "input_B = keras.layers.Input(shape=[6], name='deep_input')\n",
        "hidden1 = keras.layers.Dense(30, activation='relu')(input_B)\n",
        "hidden2 = keras.layers.Dense(30, activation='relu')(hidden1)\n",
        "concat = keras.layers.concatenate([input_A, hidden2])\n",
        "output = keras.layers.Dense(1, name='output')(concat)\n",
        "\n",
        "model = keras.models.Model(inputs=[input_A, input_B], outputs=[output])\n",
        "model.compile(loss=keras.losses.mean_squared_error, optimizer=keras.optimizers.SGD(lr=1e-3))"
      ],
      "execution_count": null,
      "outputs": []
    },
    {
      "cell_type": "code",
      "metadata": {
        "id": "XZ1_2OXcTwV6"
      },
      "source": [
        "X_train_A, X_train_B = X_train[:, :5], X_train[:, 2:]\n",
        "X_valid_A, X_valid_B = X_valid[:, :5], X_valid[:, 2:]\n",
        "X_test_A, X_test_B = X_test[:, :5], X_test[:, 2:]\n",
        "X_new_A, X_new_B = X_test_A[:3], X_test_B[:3]"
      ],
      "execution_count": null,
      "outputs": []
    },
    {
      "cell_type": "code",
      "metadata": {
        "id": "Xpd5dtJvT3iI"
      },
      "source": [
        "fit_history3 = model.fit((X_train_A, X_train_B), y_train, epochs=50, validation_data=((X_valid_A, X_valid_B), y_valid))"
      ],
      "execution_count": null,
      "outputs": []
    },
    {
      "cell_type": "code",
      "metadata": {
        "id": "0mSSmg8eUQSs",
        "outputId": "8f5354ca-100e-4bda-af7a-d0a18582b85a",
        "colab": {
          "base_uri": "https://localhost:8080/",
          "height": 50
        }
      },
      "source": [
        "mse_test = model.evaluate((X_test_A, X_test_B), y_test)\n",
        "mse_test"
      ],
      "execution_count": null,
      "outputs": [
        {
          "output_type": "stream",
          "text": [
            "162/162 [==============================] - 0s 800us/step - loss: 0.3912\n"
          ],
          "name": "stdout"
        },
        {
          "output_type": "execute_result",
          "data": {
            "text/plain": [
              "0.39124810695648193"
            ]
          },
          "metadata": {
            "tags": []
          },
          "execution_count": 68
        }
      ]
    },
    {
      "cell_type": "code",
      "metadata": {
        "id": "PjjM0k7mUd-z",
        "outputId": "12a7f0c2-a613-4ee2-a212-01363327ed4f",
        "colab": {
          "base_uri": "https://localhost:8080/",
          "height": 195
        }
      },
      "source": [
        "loss1['Loss Functional NN Vars'] = pd.DataFrame(fit_history3.history['loss'])\n",
        "loss1.head()"
      ],
      "execution_count": null,
      "outputs": [
        {
          "output_type": "execute_result",
          "data": {
            "text/html": [
              "<div>\n",
              "<style scoped>\n",
              "    .dataframe tbody tr th:only-of-type {\n",
              "        vertical-align: middle;\n",
              "    }\n",
              "\n",
              "    .dataframe tbody tr th {\n",
              "        vertical-align: top;\n",
              "    }\n",
              "\n",
              "    .dataframe thead th {\n",
              "        text-align: right;\n",
              "    }\n",
              "</style>\n",
              "<table border=\"1\" class=\"dataframe\">\n",
              "  <thead>\n",
              "    <tr style=\"text-align: right;\">\n",
              "      <th></th>\n",
              "      <th>Loss Sequential NN</th>\n",
              "      <th>Loss Functional NN</th>\n",
              "      <th>Loss Functional NN Vars</th>\n",
              "    </tr>\n",
              "  </thead>\n",
              "  <tbody>\n",
              "    <tr>\n",
              "      <th>0</th>\n",
              "      <td>1.641871</td>\n",
              "      <td>1.261135</td>\n",
              "      <td>2.109356</td>\n",
              "    </tr>\n",
              "    <tr>\n",
              "      <th>1</th>\n",
              "      <td>0.704696</td>\n",
              "      <td>0.658015</td>\n",
              "      <td>0.784856</td>\n",
              "    </tr>\n",
              "    <tr>\n",
              "      <th>2</th>\n",
              "      <td>0.634542</td>\n",
              "      <td>0.587849</td>\n",
              "      <td>0.651682</td>\n",
              "    </tr>\n",
              "    <tr>\n",
              "      <th>3</th>\n",
              "      <td>0.597736</td>\n",
              "      <td>0.558221</td>\n",
              "      <td>0.596463</td>\n",
              "    </tr>\n",
              "    <tr>\n",
              "      <th>4</th>\n",
              "      <td>0.570629</td>\n",
              "      <td>0.534745</td>\n",
              "      <td>0.559452</td>\n",
              "    </tr>\n",
              "  </tbody>\n",
              "</table>\n",
              "</div>"
            ],
            "text/plain": [
              "   Loss Sequential NN  Loss Functional NN  Loss Functional NN Vars\n",
              "0            1.641871            1.261135                 2.109356\n",
              "1            0.704696            0.658015                 0.784856\n",
              "2            0.634542            0.587849                 0.651682\n",
              "3            0.597736            0.558221                 0.596463\n",
              "4            0.570629            0.534745                 0.559452"
            ]
          },
          "metadata": {
            "tags": []
          },
          "execution_count": 69
        }
      ]
    },
    {
      "cell_type": "code",
      "metadata": {
        "id": "WKRvpKJ_U9G1",
        "outputId": "e1e42146-312d-4425-b178-b891c908fd43",
        "colab": {
          "base_uri": "https://localhost:8080/",
          "height": 378
        }
      },
      "source": [
        "plt.figure(figsize=(10,6))\n",
        "plt.plot(loss1)\n",
        "plt.gca().set_xlim(0, 30)\n",
        "plt.gca().set_ylim(0.25, 1)\n",
        "plt.grid(True)\n",
        "plt.show()"
      ],
      "execution_count": null,
      "outputs": [
        {
          "output_type": "display_data",
          "data": {
            "image/png": "[encoded data removed]",
            "text/plain": [
              "<Figure size 720x432 with 1 Axes>"
            ]
          },
          "metadata": {
            "tags": [],
            "needs_background": "light"
          }
        }
      ]
    },
    {
      "cell_type": "code",
      "metadata": {
        "id": "gFdcxvzfVBOC"
      },
      "source": [
        "np.random.seed(42)\n",
        "tf.random.set_seed(42)"
      ],
      "execution_count": null,
      "outputs": []
    },
    {
      "cell_type": "code",
      "metadata": {
        "id": "KBJY71dTc_pC"
      },
      "source": [
        "input_A = keras.layers.Input(shape=[5], name='wide_input')\n",
        "input_B = keras.layers.Input(shape=[6], name='deep_input')\n",
        "\n",
        "hidden1 = keras.layers.Dense(30, activation='relu')(input_B)\n",
        "hidden2 = keras.layers.Dense(20, activation='relu')(hidden1)\n",
        "\n",
        "concat = keras.layers.concatenate([input_A, hidden2])\n",
        "output = keras.layers.Dense(1, name='main_output')(concat)\n",
        "aux_output = keras.layers.Dense(1, name='aux_output')(hidden2)\n",
        "\n",
        "model = keras.models.Model(inputs=[input_A, input_B], outputs=[output, aux_output])"
      ],
      "execution_count": null,
      "outputs": []
    },
    {
      "cell_type": "code",
      "metadata": {
        "id": "_gx33SaKd6fF"
      },
      "source": [
        "model.compile(loss=['mse', 'mse'], loss_weights=[0.9, 0.1], optimizer=keras.optimizers.SGD(lr=1e-3))"
      ],
      "execution_count": 76,
      "outputs": []
    },
    {
      "cell_type": "code",
      "metadata": {
        "id": "rQmv0vpMeqaf",
        "outputId": "af99c22f-ac7c-4a78-f2e2-baa5e1c32a87",
        "colab": {
          "base_uri": "https://localhost:8080/",
          "height": 1000
        }
      },
      "source": [
        "model.fit([X_train_A, X_train_B], [y_train, y_train], epochs=50, validation_data=([X_valid_A, X_valid_B], [y_valid, y_valid]))"
      ],
      "execution_count": 78,
      "outputs": [
        {
          "output_type": "stream",
          "text": [
            "Epoch 1/50\n",
            "363/363 [==============================] - 1s 2ms/step - loss: 1.0328 - main_output_loss: 0.8602 - aux_output_loss: 2.5863 - val_loss: 1.0649 - val_main_output_loss: 0.7688 - val_aux_output_loss: 3.7294\n",
            "Epoch 2/50\n",
            "363/363 [==============================] - 1s 1ms/step - loss: 0.8480 - main_output_loss: 0.7266 - aux_output_loss: 1.9414 - val_loss: 0.9491 - val_main_output_loss: 0.6792 - val_aux_output_loss: 3.3784\n",
            "Epoch 3/50\n",
            "363/363 [==============================] - 1s 1ms/step - loss: 0.7602 - main_output_loss: 0.6629 - aux_output_loss: 1.6362 - val_loss: 0.8472 - val_main_output_loss: 0.6285 - val_aux_output_loss: 2.8149\n",
            "Epoch 4/50\n",
            "363/363 [==============================] - 1s 2ms/step - loss: 0.7072 - main_output_loss: 0.6201 - aux_output_loss: 1.4906 - val_loss: 0.7633 - val_main_output_loss: 0.5876 - val_aux_output_loss: 2.3440\n",
            "Epoch 5/50\n",
            "363/363 [==============================] - 1s 1ms/step - loss: 0.6694 - main_output_loss: 0.5874 - aux_output_loss: 1.4079 - val_loss: 0.6924 - val_main_output_loss: 0.5529 - val_aux_output_loss: 1.9485\n",
            "Epoch 6/50\n",
            "363/363 [==============================] - 1s 1ms/step - loss: 0.6399 - main_output_loss: 0.5602 - aux_output_loss: 1.3575 - val_loss: 0.6394 - val_main_output_loss: 0.5271 - val_aux_output_loss: 1.6501\n",
            "Epoch 7/50\n",
            "363/363 [==============================] - 1s 1ms/step - loss: 0.6159 - main_output_loss: 0.5380 - aux_output_loss: 1.3177 - val_loss: 0.6069 - val_main_output_loss: 0.5051 - val_aux_output_loss: 1.5234\n",
            "Epoch 8/50\n",
            "363/363 [==============================] - 1s 2ms/step - loss: 0.5961 - main_output_loss: 0.5197 - aux_output_loss: 1.2835 - val_loss: 0.5822 - val_main_output_loss: 0.4893 - val_aux_output_loss: 1.4186\n",
            "Epoch 9/50\n",
            "363/363 [==============================] - 0s 1ms/step - loss: 0.5790 - main_output_loss: 0.5040 - aux_output_loss: 1.2537 - val_loss: 0.5660 - val_main_output_loss: 0.4801 - val_aux_output_loss: 1.3389\n",
            "Epoch 10/50\n",
            "363/363 [==============================] - 1s 1ms/step - loss: 0.5644 - main_output_loss: 0.4910 - aux_output_loss: 1.2257 - val_loss: 0.5490 - val_main_output_loss: 0.4685 - val_aux_output_loss: 1.2737\n",
            "Epoch 11/50\n",
            "363/363 [==============================] - 1s 1ms/step - loss: 0.5520 - main_output_loss: 0.4801 - aux_output_loss: 1.1998 - val_loss: 0.5383 - val_main_output_loss: 0.4619 - val_aux_output_loss: 1.2262\n",
            "Epoch 12/50\n",
            "363/363 [==============================] - 1s 1ms/step - loss: 0.5411 - main_output_loss: 0.4708 - aux_output_loss: 1.1741 - val_loss: 0.5313 - val_main_output_loss: 0.4585 - val_aux_output_loss: 1.1866\n",
            "Epoch 13/50\n",
            "363/363 [==============================] - 1s 1ms/step - loss: 0.5316 - main_output_loss: 0.4630 - aux_output_loss: 1.1496 - val_loss: 0.5293 - val_main_output_loss: 0.4598 - val_aux_output_loss: 1.1544\n",
            "Epoch 14/50\n",
            "363/363 [==============================] - 1s 2ms/step - loss: 0.5235 - main_output_loss: 0.4566 - aux_output_loss: 1.1253 - val_loss: 0.5203 - val_main_output_loss: 0.4530 - val_aux_output_loss: 1.1259\n",
            "Epoch 15/50\n",
            "363/363 [==============================] - 1s 1ms/step - loss: 0.5163 - main_output_loss: 0.4513 - aux_output_loss: 1.1016 - val_loss: 0.5112 - val_main_output_loss: 0.4457 - val_aux_output_loss: 1.1001\n",
            "Epoch 16/50\n",
            "363/363 [==============================] - 1s 2ms/step - loss: 0.5101 - main_output_loss: 0.4468 - aux_output_loss: 1.0796 - val_loss: 0.5107 - val_main_output_loss: 0.4479 - val_aux_output_loss: 1.0767\n",
            "Epoch 17/50\n",
            "363/363 [==============================] - 1s 1ms/step - loss: 0.5046 - main_output_loss: 0.4431 - aux_output_loss: 1.0584 - val_loss: 0.5108 - val_main_output_loss: 0.4504 - val_aux_output_loss: 1.0546\n",
            "Epoch 18/50\n",
            "363/363 [==============================] - 1s 1ms/step - loss: 0.5001 - main_output_loss: 0.4404 - aux_output_loss: 1.0374 - val_loss: 0.5041 - val_main_output_loss: 0.4453 - val_aux_output_loss: 1.0337\n",
            "Epoch 19/50\n",
            "363/363 [==============================] - 1s 1ms/step - loss: 0.4954 - main_output_loss: 0.4373 - aux_output_loss: 1.0177 - val_loss: 0.5044 - val_main_output_loss: 0.4478 - val_aux_output_loss: 1.0145\n",
            "Epoch 20/50\n",
            "363/363 [==============================] - 1s 1ms/step - loss: 0.4917 - main_output_loss: 0.4353 - aux_output_loss: 0.9996 - val_loss: 0.5220 - val_main_output_loss: 0.4695 - val_aux_output_loss: 0.9945\n",
            "Epoch 21/50\n",
            "363/363 [==============================] - 1s 1ms/step - loss: 0.4879 - main_output_loss: 0.4331 - aux_output_loss: 0.9805 - val_loss: 0.5194 - val_main_output_loss: 0.4686 - val_aux_output_loss: 0.9769\n",
            "Epoch 22/50\n",
            "363/363 [==============================] - 1s 2ms/step - loss: 0.4845 - main_output_loss: 0.4313 - aux_output_loss: 0.9636 - val_loss: 0.5169 - val_main_output_loss: 0.4678 - val_aux_output_loss: 0.9589\n",
            "Epoch 23/50\n",
            "363/363 [==============================] - 1s 2ms/step - loss: 0.4811 - main_output_loss: 0.4294 - aux_output_loss: 0.9466 - val_loss: 0.4896 - val_main_output_loss: 0.4393 - val_aux_output_loss: 0.9419\n",
            "Epoch 24/50\n",
            "363/363 [==============================] - 1s 1ms/step - loss: 0.4779 - main_output_loss: 0.4276 - aux_output_loss: 0.9312 - val_loss: 0.4935 - val_main_output_loss: 0.4454 - val_aux_output_loss: 0.9269\n",
            "Epoch 25/50\n",
            "363/363 [==============================] - 1s 2ms/step - loss: 0.4747 - main_output_loss: 0.4257 - aux_output_loss: 0.9158 - val_loss: 0.5063 - val_main_output_loss: 0.4614 - val_aux_output_loss: 0.9104\n",
            "Epoch 26/50\n",
            "363/363 [==============================] - 1s 1ms/step - loss: 0.4721 - main_output_loss: 0.4245 - aux_output_loss: 0.9005 - val_loss: 0.5082 - val_main_output_loss: 0.4651 - val_aux_output_loss: 0.8968\n",
            "Epoch 27/50\n",
            "363/363 [==============================] - 1s 2ms/step - loss: 0.4694 - main_output_loss: 0.4231 - aux_output_loss: 0.8861 - val_loss: 0.4860 - val_main_output_loss: 0.4421 - val_aux_output_loss: 0.8808\n",
            "Epoch 28/50\n",
            "363/363 [==============================] - 1s 1ms/step - loss: 0.4668 - main_output_loss: 0.4216 - aux_output_loss: 0.8733 - val_loss: 0.4915 - val_main_output_loss: 0.4497 - val_aux_output_loss: 0.8678\n",
            "Epoch 29/50\n",
            "363/363 [==============================] - 1s 1ms/step - loss: 0.4643 - main_output_loss: 0.4204 - aux_output_loss: 0.8598 - val_loss: 0.4856 - val_main_output_loss: 0.4447 - val_aux_output_loss: 0.8541\n",
            "Epoch 30/50\n",
            "363/363 [==============================] - 1s 1ms/step - loss: 0.4618 - main_output_loss: 0.4192 - aux_output_loss: 0.8456 - val_loss: 0.4956 - val_main_output_loss: 0.4572 - val_aux_output_loss: 0.8416\n",
            "Epoch 31/50\n",
            "363/363 [==============================] - 1s 2ms/step - loss: 0.4591 - main_output_loss: 0.4175 - aux_output_loss: 0.8337 - val_loss: 0.4938 - val_main_output_loss: 0.4566 - val_aux_output_loss: 0.8294\n",
            "Epoch 32/50\n",
            "363/363 [==============================] - 1s 1ms/step - loss: 0.4570 - main_output_loss: 0.4165 - aux_output_loss: 0.8215 - val_loss: 0.5116 - val_main_output_loss: 0.4775 - val_aux_output_loss: 0.8188\n",
            "Epoch 33/50\n",
            "363/363 [==============================] - 1s 1ms/step - loss: 0.4550 - main_output_loss: 0.4156 - aux_output_loss: 0.8091 - val_loss: 0.4762 - val_main_output_loss: 0.4396 - val_aux_output_loss: 0.8055\n",
            "Epoch 34/50\n",
            "363/363 [==============================] - 1s 2ms/step - loss: 0.4523 - main_output_loss: 0.4140 - aux_output_loss: 0.7971 - val_loss: 0.4692 - val_main_output_loss: 0.4332 - val_aux_output_loss: 0.7933\n",
            "Epoch 35/50\n",
            "363/363 [==============================] - 1s 1ms/step - loss: 0.4503 - main_output_loss: 0.4130 - aux_output_loss: 0.7864 - val_loss: 0.4890 - val_main_output_loss: 0.4561 - val_aux_output_loss: 0.7851\n",
            "Epoch 36/50\n",
            "363/363 [==============================] - 1s 2ms/step - loss: 0.4482 - main_output_loss: 0.4119 - aux_output_loss: 0.7750 - val_loss: 0.4608 - val_main_output_loss: 0.4260 - val_aux_output_loss: 0.7740\n",
            "Epoch 37/50\n",
            "363/363 [==============================] - 1s 1ms/step - loss: 0.4461 - main_output_loss: 0.4108 - aux_output_loss: 0.7630 - val_loss: 0.4643 - val_main_output_loss: 0.4309 - val_aux_output_loss: 0.7646\n",
            "Epoch 38/50\n",
            "363/363 [==============================] - 1s 1ms/step - loss: 0.4437 - main_output_loss: 0.4093 - aux_output_loss: 0.7537 - val_loss: 0.4607 - val_main_output_loss: 0.4280 - val_aux_output_loss: 0.7551\n",
            "Epoch 39/50\n",
            "363/363 [==============================] - 1s 1ms/step - loss: 0.4416 - main_output_loss: 0.4082 - aux_output_loss: 0.7427 - val_loss: 0.4524 - val_main_output_loss: 0.4196 - val_aux_output_loss: 0.7472\n",
            "Epoch 40/50\n",
            "363/363 [==============================] - 1s 1ms/step - loss: 0.4395 - main_output_loss: 0.4069 - aux_output_loss: 0.7330 - val_loss: 0.4643 - val_main_output_loss: 0.4338 - val_aux_output_loss: 0.7391\n",
            "Epoch 41/50\n",
            "363/363 [==============================] - 1s 2ms/step - loss: 0.4379 - main_output_loss: 0.4062 - aux_output_loss: 0.7227 - val_loss: 0.4638 - val_main_output_loss: 0.4340 - val_aux_output_loss: 0.7322\n",
            "Epoch 42/50\n",
            "363/363 [==============================] - 1s 2ms/step - loss: 0.4361 - main_output_loss: 0.4052 - aux_output_loss: 0.7142 - val_loss: 0.4667 - val_main_output_loss: 0.4379 - val_aux_output_loss: 0.7260\n",
            "Epoch 43/50\n",
            "363/363 [==============================] - 1s 2ms/step - loss: 0.4341 - main_output_loss: 0.4040 - aux_output_loss: 0.7051 - val_loss: 0.4735 - val_main_output_loss: 0.4461 - val_aux_output_loss: 0.7198\n",
            "Epoch 44/50\n",
            "363/363 [==============================] - 1s 1ms/step - loss: 0.4324 - main_output_loss: 0.4027 - aux_output_loss: 0.6991 - val_loss: 0.4784 - val_main_output_loss: 0.4521 - val_aux_output_loss: 0.7144\n",
            "Epoch 45/50\n",
            "363/363 [==============================] - 1s 2ms/step - loss: 0.4310 - main_output_loss: 0.4022 - aux_output_loss: 0.6907 - val_loss: 0.4517 - val_main_output_loss: 0.4236 - val_aux_output_loss: 0.7052\n",
            "Epoch 46/50\n",
            "363/363 [==============================] - 1s 2ms/step - loss: 0.4293 - main_output_loss: 0.4010 - aux_output_loss: 0.6837 - val_loss: 0.4503 - val_main_output_loss: 0.4226 - val_aux_output_loss: 0.6996\n",
            "Epoch 47/50\n",
            "363/363 [==============================] - 1s 2ms/step - loss: 0.4279 - main_output_loss: 0.4002 - aux_output_loss: 0.6772 - val_loss: 0.4382 - val_main_output_loss: 0.4098 - val_aux_output_loss: 0.6938\n",
            "Epoch 48/50\n",
            "363/363 [==============================] - 1s 1ms/step - loss: 0.4264 - main_output_loss: 0.3992 - aux_output_loss: 0.6714 - val_loss: 0.4533 - val_main_output_loss: 0.4268 - val_aux_output_loss: 0.6918\n",
            "Epoch 49/50\n",
            "363/363 [==============================] - 1s 2ms/step - loss: 0.4254 - main_output_loss: 0.3989 - aux_output_loss: 0.6644 - val_loss: 0.4407 - val_main_output_loss: 0.4135 - val_aux_output_loss: 0.6852\n",
            "Epoch 50/50\n",
            "363/363 [==============================] - 1s 2ms/step - loss: 0.4238 - main_output_loss: 0.3976 - aux_output_loss: 0.6594 - val_loss: 0.4295 - val_main_output_loss: 0.4018 - val_aux_output_loss: 0.6787\n"
          ],
          "name": "stdout"
        },
        {
          "output_type": "execute_result",
          "data": {
            "text/plain": [
              "<tensorflow.python.keras.callbacks.History at 0x7f36c6014278>"
            ]
          },
          "metadata": {
            "tags": []
          },
          "execution_count": 78
        }
      ]
    },
    {
      "cell_type": "code",
      "metadata": {
        "id": "GxzWt67GfJbN",
        "outputId": "70389417-d6f3-43ab-baee-c5e19aa5f3f7",
        "colab": {
          "base_uri": "https://localhost:8080/",
          "height": 54
        }
      },
      "source": [
        "total_loss, main_loss, aux_loss = model.evaluate([X_test_A, X_test_B], [y_test, y_test])\n"
      ],
      "execution_count": 84,
      "outputs": [
        {
          "output_type": "stream",
          "text": [
            "162/162 [==============================] - 0s 974us/step - loss: 0.4157 - main_output_loss: 0.3908 - aux_output_loss: 0.6397\n"
          ],
          "name": "stdout"
        }
      ]
    },
    {
      "cell_type": "markdown",
      "metadata": {
        "id": "x35HroEYfgqu"
      },
      "source": [
        "## Save and load models"
      ]
    },
    {
      "cell_type": "code",
      "metadata": {
        "id": "oxzJ6YHlh9ku"
      },
      "source": [
        "model.save('test.h5')\n",
        "model = keras.models.load_model('test.h5')"
      ],
      "execution_count": 86,
      "outputs": []
    },
    {
      "cell_type": "code",
      "metadata": {
        "id": "yPXM6R_KiHqN",
        "outputId": "ebbe14c5-d616-4a2e-f549-93c0cf5829e9",
        "colab": {
          "base_uri": "https://localhost:8080/",
          "height": 235
        }
      },
      "source": [
        "model.predict([X_test_A, X_test_B])"
      ],
      "execution_count": 87,
      "outputs": [
        {
          "output_type": "execute_result",
          "data": {
            "text/plain": [
              "[array([[0.42894244],\n",
              "        [2.0633297 ],\n",
              "        [3.2947176 ],\n",
              "        ...,\n",
              "        [1.5441619 ],\n",
              "        [2.523669  ],\n",
              "        [3.726739  ]], dtype=float32), array([[0.7987665],\n",
              "        [2.1985319],\n",
              "        [2.628599 ],\n",
              "        ...,\n",
              "        [1.5810361],\n",
              "        [1.8932593],\n",
              "        [2.8223534]], dtype=float32)]"
            ]
          },
          "metadata": {
            "tags": []
          },
          "execution_count": 87
        }
      ]
    },
    {
      "cell_type": "code",
      "metadata": {
        "id": "_U-FdXVbiKjn",
        "outputId": "4a1351d6-fd8b-48b1-b479-2f7bc2f5a611",
        "colab": {
          "base_uri": "https://localhost:8080/",
          "height": 423
        }
      },
      "source": [
        "model.summary()"
      ],
      "execution_count": 88,
      "outputs": [
        {
          "output_type": "stream",
          "text": [
            "Model: \"functional_5\"\n",
            "__________________________________________________________________________________________________\n",
            "Layer (type)                    Output Shape         Param #     Connected to                     \n",
            "==================================================================================================\n",
            "deep_input (InputLayer)         [(None, 6)]          0                                            \n",
            "__________________________________________________________________________________________________\n",
            "dense_11 (Dense)                (None, 30)           210         deep_input[0][0]                 \n",
            "__________________________________________________________________________________________________\n",
            "wide_input (InputLayer)         [(None, 5)]          0                                            \n",
            "__________________________________________________________________________________________________\n",
            "dense_12 (Dense)                (None, 20)           620         dense_11[0][0]                   \n",
            "__________________________________________________________________________________________________\n",
            "concatenate_4 (Concatenate)     (None, 25)           0           wide_input[0][0]                 \n",
            "                                                                 dense_12[0][0]                   \n",
            "__________________________________________________________________________________________________\n",
            "main_output (Dense)             (None, 1)            26          concatenate_4[0][0]              \n",
            "__________________________________________________________________________________________________\n",
            "aux_output (Dense)              (None, 1)            21          dense_12[0][0]                   \n",
            "==================================================================================================\n",
            "Total params: 877\n",
            "Trainable params: 877\n",
            "Non-trainable params: 0\n",
            "__________________________________________________________________________________________________\n"
          ],
          "name": "stdout"
        }
      ]
    },
    {
      "cell_type": "code",
      "metadata": {
        "id": "b2gUPB2qi5Y7",
        "outputId": "ea17b580-fa33-4eb6-f72a-2cb9162a758e",
        "colab": {
          "base_uri": "https://localhost:8080/",
          "height": 425
        }
      },
      "source": [
        "keras.utils.plot_model(model, show_shapes=True)"
      ],
      "execution_count": 91,
      "outputs": [
        {
          "output_type": "execute_result",
          "data": {
            "image/png": "[encoded data removed]",
            "text/plain": [
              "<IPython.core.display.Image object>"
            ]
          },
          "metadata": {
            "tags": []
          },
          "execution_count": 91
        }
      ]
    },
    {
      "cell_type": "code",
      "metadata": {
        "id": "N1GHr4jfi-eR",
        "outputId": "7a232f04-d92e-42e5-a840-ce0f331ce120",
        "colab": {
          "base_uri": "https://localhost:8080/",
          "height": 34
        }
      },
      "source": [
        "model.save_weights('test_weights.ckpt')\n",
        "model.load_weights('test_weights.ckpt')"
      ],
      "execution_count": 92,
      "outputs": [
        {
          "output_type": "execute_result",
          "data": {
            "text/plain": [
              "<tensorflow.python.training.tracking.util.CheckpointLoadStatus at 0x7f36d6782860>"
            ]
          },
          "metadata": {
            "tags": []
          },
          "execution_count": 92
        }
      ]
    },
    {
      "cell_type": "markdown",
      "metadata": {
        "id": "8o57mppnlvTJ"
      },
      "source": [
        "## Callbacks"
      ]
    },
    {
      "cell_type": "code",
      "metadata": {
        "id": "u7c_UoFjjWjZ"
      },
      "source": [
        "model = keras.models.Sequential([\n",
        "  keras.layers.Dense(30, activation='relu', input_shape=[8]),\n",
        "  keras.layers.Dense(30, activation='relu'),\n",
        "  keras.layers.Dense(1)\n",
        "  ])\n",
        "model.compile(loss='mse', optimizer=keras.optimizers.SGD(lr=1e-3))\n",
        "\n",
        "checkpoint_cb = keras.callbacks.ModelCheckpoint('my_keras_model.h5', save_best_only=True)\n",
        "fit_history4 = model.fit(X_train, y_train, epochs=50, validation_data=(X_valid, y_valid), callbacks=[checkpoint_cb])"
      ],
      "execution_count": null,
      "outputs": []
    },
    {
      "cell_type": "code",
      "metadata": {
        "id": "2kxTpOKcm3FJ",
        "outputId": "939875e4-5505-4007-c45c-3cb7f46ffd62",
        "colab": {
          "base_uri": "https://localhost:8080/",
          "height": 34
        }
      },
      "source": [
        "model = keras.models.load_model('my_keras_model.h5')\n",
        "eva = model.evaluate(X_test, y_test)"
      ],
      "execution_count": 97,
      "outputs": [
        {
          "output_type": "stream",
          "text": [
            "162/162 [==============================] - 0s 850us/step - loss: 0.3576\n"
          ],
          "name": "stdout"
        }
      ]
    },
    {
      "cell_type": "markdown",
      "metadata": {
        "id": "zvRlbHvbnSTa"
      },
      "source": [
        "## Hyperparameter Tuning"
      ]
    },
    {
      "cell_type": "code",
      "metadata": {
        "id": "6OjRnaT9uh0l"
      },
      "source": [
        "keras.backend.clear_session()\n",
        "np.random.seed(42)\n",
        "tf.random.set_seed(42)"
      ],
      "execution_count": 124,
      "outputs": []
    },
    {
      "cell_type": "code",
      "metadata": {
        "id": "OBRI8ImduuMH"
      },
      "source": [
        "def build_model(n_hidden=1, n_neurons=30, learning_rate=3e-3, input_shape=[8]):\n",
        "    \n",
        "    model = keras.models.Sequential()\n",
        "    model.add(keras.layers.InputLayer(input_shape=input_shape))\n",
        "    \n",
        "    for layer in range(n_hidden):\n",
        "        model.add(keras.layers.Dense(n_neurons, activation=\"relu\"))\n",
        "    \n",
        "    model.add(keras.layers.Dense(1))\n",
        "    optimizer = keras.optimizers.SGD(lr=learning_rate)\n",
        "    model.compile(loss=\"mse\", optimizer=optimizer)\n",
        "    \n",
        "    return model"
      ],
      "execution_count": 125,
      "outputs": []
    },
    {
      "cell_type": "code",
      "metadata": {
        "id": "c7FOJWKSwjrE"
      },
      "source": [
        "keras_reg = keras.wrappers.scikit_learn.KerasRegressor(build_model)"
      ],
      "execution_count": 118,
      "outputs": []
    },
    {
      "cell_type": "code",
      "metadata": {
        "id": "_zjW1ES6wsZw"
      },
      "source": [
        "keras_reg.fit(X_train, y_train, epochs=100,\n",
        "              validation_data=(X_valid, y_valid),\n",
        "              callbacks=[keras.callbacks.EarlyStopping(patience=10)])"
      ],
      "execution_count": null,
      "outputs": []
    },
    {
      "cell_type": "code",
      "metadata": {
        "id": "R9zJcVjPw-FD",
        "outputId": "85cf8669-5cbe-481a-ca20-0f20c83674ea",
        "colab": {
          "base_uri": "https://localhost:8080/",
          "height": 50
        }
      },
      "source": [
        "keras_reg.score(X_test, y_test)"
      ],
      "execution_count": 127,
      "outputs": [
        {
          "output_type": "stream",
          "text": [
            "162/162 [==============================] - 0s 910us/step - loss: 0.3346\n"
          ],
          "name": "stdout"
        },
        {
          "output_type": "execute_result",
          "data": {
            "text/plain": [
              "-0.33461153507232666"
            ]
          },
          "metadata": {
            "tags": []
          },
          "execution_count": 127
        }
      ]
    },
    {
      "cell_type": "code",
      "metadata": {
        "id": "71ONEQ1RAce8"
      },
      "source": [
        "np.random.seed(42)\n",
        "tf.random.set_seed(42)"
      ],
      "execution_count": 132,
      "outputs": []
    },
    {
      "cell_type": "code",
      "metadata": {
        "id": "gqD4NW-VxpAC"
      },
      "source": [
        "import scipy\n",
        "from scipy.stats import reciprocal\n",
        "from sklearn.model_selection import RandomizedSearchCV\n",
        "\n",
        "param_distribs = {\n",
        "    'n_layer': [1,2,3],\n",
        "    'n_neuron': np.arange(1, 100),\n",
        "    'learning_rate': reciprocal(3e-4, 3e-2),\n",
        "}\n",
        "\n",
        "rnd_search_cv = RandomizedSearchCV(keras_reg, param_distribs, n_iter=10, cv=3, verbose=2)"
      ],
      "execution_count": 133,
      "outputs": []
    },
    {
      "cell_type": "code",
      "metadata": {
        "id": "4-BIHboI473C"
      },
      "source": [
        "rnd_search_cv.fit(X_train, y_train, epochs=100, \n",
        "                  validation_data = (X_valid, y_valid), \n",
        "                  callbacks=[keras.callbacks.EarlyStopping(patience=10)])"
      ],
      "execution_count": null,
      "outputs": []
    },
    {
      "cell_type": "code",
      "metadata": {
        "id": "_NgSS8nqywfb",
        "outputId": "2320a68c-f9a4-4c92-c089-d7fac143b82f",
        "colab": {
          "base_uri": "https://localhost:8080/",
          "height": 34
        }
      },
      "source": [
        "rnd_search_cv.best_params_"
      ],
      "execution_count": 135,
      "outputs": [
        {
          "output_type": "execute_result",
          "data": {
            "text/plain": [
              "{'learning_rate': 0.008339092654580042, 'n_layer': 2, 'n_neuron': 38}"
            ]
          },
          "metadata": {
            "tags": []
          },
          "execution_count": 135
        }
      ]
    },
    {
      "cell_type": "code",
      "metadata": {
        "id": "-LIWri6Qy8Pb",
        "outputId": "ed1c8dec-85d4-4cb4-e0fa-932acd9293e4",
        "colab": {
          "base_uri": "https://localhost:8080/",
          "height": 34
        }
      },
      "source": [
        "rnd_search_cv.best_score_"
      ],
      "execution_count": 145,
      "outputs": [
        {
          "output_type": "execute_result",
          "data": {
            "text/plain": [
              "-0.33589668075243634"
            ]
          },
          "metadata": {
            "tags": []
          },
          "execution_count": 145
        }
      ]
    },
    {
      "cell_type": "code",
      "metadata": {
        "id": "RCH2Q5BuFVb4"
      },
      "source": [
        "model = rnd_search_cv"
      ],
      "execution_count": 146,
      "outputs": []
    },
    {
      "cell_type": "code",
      "metadata": {
        "id": "SFZ5szrAFgFu",
        "outputId": "a1fa8844-235b-48d4-a2ec-649f7d1adb1b",
        "colab": {
          "base_uri": "https://localhost:8080/",
          "height": 34
        }
      },
      "source": [
        "model"
      ],
      "execution_count": 147,
      "outputs": [
        {
          "output_type": "execute_result",
          "data": {
            "text/plain": [
              "5"
            ]
          },
          "metadata": {
            "tags": []
          },
          "execution_count": 147
        }
      ]
    },
    {
      "cell_type": "code",
      "metadata": {
        "id": "bQk6z8YZzMBo"
      },
      "source": [
        "rnd_search_cv.best_estimator_"
      ],
      "execution_count": null,
      "outputs": []
    },
    {
      "cell_type": "code",
      "metadata": {
        "id": "mcMKjaY1GQlc"
      },
      "source": [
        "model = rnd_search_cv.best_estimator_.model\n",
        "model"
      ],
      "execution_count": null,
      "outputs": []
    },
    {
      "cell_type": "code",
      "metadata": {
        "id": "XpZEqIgszTdw"
      },
      "source": [
        "model.evaluate(X_test, y_test)"
      ],
      "execution_count": null,
      "outputs": []
    }
  ]
}